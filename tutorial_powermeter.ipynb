{
 "cells": [
  {
   "cell_type": "code",
   "execution_count": 1,
   "id": "speaking-pledge",
   "metadata": {},
   "outputs": [],
   "source": [
    "\"\"\"\n",
    "Uses the Thorlabs TLPM_64.dll in order to communicate with the power meters\n",
    "\"\"\"\n",
    "import os\n",
    "from ctypes import *"
   ]
  },
  {
   "cell_type": "code",
   "execution_count": 2,
   "id": "unusual-startup",
   "metadata": {},
   "outputs": [
    {
     "data": {
      "text/plain": [
       "<AddedDllDirectory('C:\\\\Program Files (x86)\\\\IVI Foundation\\\\VISA\\\\WinNT\\\\Lib_x64\\\\msc')>"
      ]
     },
     "execution_count": 2,
     "metadata": {},
     "output_type": "execute_result"
    }
   ],
   "source": [
    "# load the DLL- if your path is different, this may need to change.\n",
    "os.add_dll_directory(r\"C:\\Program Files (x86)\\IVI Foundation\\VISA\\WinNT\\Lib_x64\\msc\")\n",
    "#lib = cdll.LoadLibrary(\"TLPM_64.dll\")"
   ]
  },
  {
   "cell_type": "code",
   "execution_count": 3,
   "id": "liquid-locking",
   "metadata": {},
   "outputs": [],
   "source": [
    "lib = cdll.LoadLibrary(r\"C:\\Program Files (x86)\\IVI Foundation\\VISA\\WinNT\\Bin\\TLPM_32.dll\")"
   ]
  },
  {
   "cell_type": "code",
   "execution_count": 4,
   "id": "grateful-liquid",
   "metadata": {},
   "outputs": [
    {
     "data": {
      "text/plain": [
       "0"
      ]
     },
     "execution_count": 4,
     "metadata": {},
     "output_type": "execute_result"
    }
   ],
   "source": [
    "# find out if there are devices connected\n",
    "deviceCount = c_ulong()\n",
    "lib.TLPM_findRsrc(0, byref(deviceCount))"
   ]
  },
  {
   "cell_type": "code",
   "execution_count": null,
   "id": "catholic-operation",
   "metadata": {},
   "outputs": [],
   "source": []
  },
  {
   "cell_type": "code",
   "execution_count": 36,
   "id": "liable-orbit",
   "metadata": {},
   "outputs": [
    {
     "name": "stdout",
     "output_type": "stream",
     "text": [
      "Power: 0.0 W\n"
     ]
    }
   ],
   "source": [
    "# find out if there are devices connected\n",
    "deviceCount = c_ulong()\n",
    "lib.TLPM_findRsrc(0, byref(deviceCount))\n",
    "\n",
    "# if there are devices connected, determine their names\n",
    "if deviceCount.value >= 1:\n",
    "    meterName = create_string_buffer(256)\n",
    "\n",
    "    # if there's only one device, open it- otherwise, ask which one\n",
    "    if deviceCount.value == 1:\n",
    "        lib.TLPM_getRsrcName(0, 0, meterName)\n",
    "    else:\n",
    "        print(\"Which Device?\")\n",
    "        for i in range(deviceCount.value):\n",
    "            lib.TLPM_getRsrcName(0, i, meterName)\n",
    "            print('#' + str(i + 1) + \" \" + meterName.value)\n",
    "        device_num = input(\">>>\")\n",
    "        lib.TLPM_getRsrcName(0, (device_num - 1), meterName)\n",
    "\n",
    "    # Initialize the device- see manual for description of what arguments do\n",
    "    sessionHandle = c_ulong(0)\n",
    "    lib.TLPM_init(meterName, 0, 0, byref(sessionHandle))\n",
    "\n",
    "    # Set Wavelength (given in nm)\n",
    "    lib.TLPM_setWavelength(sessionHandle, c_double(633.0));\n",
    "    # Set Averaging count\n",
    "    lib.TLPM_setAvgCnt(sessionHandle, c_ushort(1000))\n",
    "    # Set Unit- below sets to Watts\n",
    "    lib.TLPM_setPowerUnit(sessionHandle, 0)\n",
    "    # Measure Power\n",
    "    power = c_longdouble(0.0)\n",
    "    lib.TLPM_measPower(sessionHandle, byref(power))\n",
    "    print('Power: ' + str(power.value) + \" W\")\n",
    "\n",
    "    # close\n",
    "    lib.TLPM_close(sessionHandle)\n",
    "else:\n",
    "    print(\"No connected power meters were detected. Check connections and installed drivers.\")"
   ]
  },
  {
   "cell_type": "code",
   "execution_count": null,
   "id": "civic-final",
   "metadata": {},
   "outputs": [],
   "source": []
  },
  {
   "cell_type": "code",
   "execution_count": null,
   "id": "modular-combine",
   "metadata": {},
   "outputs": [],
   "source": []
  },
  {
   "cell_type": "code",
   "execution_count": null,
   "id": "alleged-viking",
   "metadata": {},
   "outputs": [],
   "source": []
  },
  {
   "cell_type": "code",
   "execution_count": 4,
   "id": "competent-darwin",
   "metadata": {},
   "outputs": [],
   "source": [
    "import sys"
   ]
  },
  {
   "cell_type": "code",
   "execution_count": 5,
   "id": "banner-portable",
   "metadata": {},
   "outputs": [],
   "source": [
    "sys.path.append('C:\\Program Files (x86)\\IVI Foundation\\VISA\\WinNT\\TLPM\\Example\\Python') "
   ]
  },
  {
   "cell_type": "code",
   "execution_count": 6,
   "id": "practical-attention",
   "metadata": {},
   "outputs": [],
   "source": [
    "from TLPM import TLPM"
   ]
  },
  {
   "cell_type": "code",
   "execution_count": 7,
   "id": "interracial-syndicate",
   "metadata": {},
   "outputs": [
    {
     "name": "stdout",
     "output_type": "stream",
     "text": [
      "devices found: 1\n",
      "b'USB0::0x1313::0x8072::1916880::INSTR'\n",
      "1.50353462e-05\n",
      "1.11073759e-05\n",
      "7.18125375e-06\n",
      "-8.14707278e-07\n",
      "3.66225464e-07\n",
      "3.66225464e-07\n",
      "1.53306374e-07\n",
      "1.53306374e-07\n",
      "7.42559649e-08\n",
      "1.14378665e-07\n",
      "1.06466771e-07\n",
      "1.14378665e-07\n",
      "1.09344825e-07\n",
      "1.08161785e-07\n",
      "1.0895041e-07\n",
      "1.08783688e-07\n",
      "1.0910032e-07\n",
      "1.09021173e-07\n",
      "1.09060743e-07\n",
      "1.08981574e-07\n",
      "End program\n"
     ]
    }
   ],
   "source": [
    "from datetime import datetime\n",
    "import time\n",
    "\n",
    "\n",
    "tlPM = TLPM()\n",
    "deviceCount = c_uint32()\n",
    "tlPM.findRsrc(byref(deviceCount))\n",
    "\n",
    "print(\"devices found: \" + str(deviceCount.value))\n",
    "\n",
    "resourceName = create_string_buffer(1024)\n",
    "\n",
    "for i in range(0, deviceCount.value):\n",
    "    tlPM.getRsrcName(c_int(i), resourceName)\n",
    "    print(c_char_p(resourceName.raw).value)\n",
    "    break\n",
    "\n",
    "tlPM.close()\n",
    "\n",
    "tlPM = TLPM()\n",
    "#resourceName = create_string_buffer(b\"COM1::115200\")\n",
    "#print(c_char_p(resourceName.raw).value)\n",
    "tlPM.open(resourceName, c_bool(True), c_bool(True))\n",
    "\n",
    "#message = create_string_buffer(1024)\n",
    "#tlPM.getCalibrationMsg(message)\n",
    "#print(c_char_p(message.raw).value)\n",
    "\n",
    "#time.sleep(5)\n",
    "\n",
    "power_measurements = []\n",
    "times = []\n",
    "count = 0\n",
    "while count < 20:\n",
    "    power =  c_double()\n",
    "    tlPM.measPower(byref(power))\n",
    "    power_measurements.append(power.value)\n",
    "    times.append(datetime.now())\n",
    "    print(power.value)\n",
    "    count+=1\n",
    "    time.sleep(.1)\n",
    "\n",
    "tlPM.close()\n",
    "print('End program')"
   ]
  },
  {
   "cell_type": "code",
   "execution_count": 8,
   "id": "expanded-dating",
   "metadata": {},
   "outputs": [
    {
     "name": "stdout",
     "output_type": "stream",
     "text": [
      "1.09021173e-07\n",
      "1.09060743e-07\n",
      "1.08981574e-07\n",
      "1.0910032e-07\n",
      "1.09139918e-07\n",
      "1.09021173e-07\n",
      "1.09021173e-07\n",
      "1.09060743e-07\n",
      "1.08981574e-07\n",
      "1.09021173e-07\n",
      "1.08902427e-07\n",
      "1.08862857e-07\n",
      "1.09139918e-07\n",
      "1.08902427e-07\n",
      "1.08823258e-07\n",
      "1.08902427e-07\n",
      "1.08862857e-07\n",
      "1.08981574e-07\n",
      "1.08981574e-07\n",
      "1.08981574e-07\n"
     ]
    },
    {
     "ename": "NameError",
     "evalue": "name 'plt' is not defined",
     "output_type": "error",
     "traceback": [
      "\u001b[1;31m---------------------------------------------------------------------------\u001b[0m",
      "\u001b[1;31mNameError\u001b[0m                                 Traceback (most recent call last)",
      "\u001b[1;32m<ipython-input-8-04c35af1c435>\u001b[0m in \u001b[0;36m<module>\u001b[1;34m\u001b[0m\n\u001b[0;32m     18\u001b[0m \u001b[1;33m\u001b[0m\u001b[0m\n\u001b[0;32m     19\u001b[0m \u001b[0mtlPM\u001b[0m\u001b[1;33m.\u001b[0m\u001b[0mclose\u001b[0m\u001b[1;33m(\u001b[0m\u001b[1;33m)\u001b[0m\u001b[1;33m\u001b[0m\u001b[1;33m\u001b[0m\u001b[0m\n\u001b[1;32m---> 20\u001b[1;33m \u001b[0mplt\u001b[0m\u001b[1;33m.\u001b[0m\u001b[0mplot\u001b[0m\u001b[1;33m(\u001b[0m\u001b[0mpower_measurements\u001b[0m\u001b[1;33m)\u001b[0m\u001b[1;33m\u001b[0m\u001b[1;33m\u001b[0m\u001b[0m\n\u001b[0m",
      "\u001b[1;31mNameError\u001b[0m: name 'plt' is not defined"
     ]
    }
   ],
   "source": [
    "tlPM = TLPM()\n",
    "tlPM.open(resourceName, c_bool(True), c_bool(True))\n",
    "\n",
    "# Always sleep before taking measurements\n",
    "time.sleep(5)\n",
    "\n",
    "power_measurements = []\n",
    "times = []\n",
    "count = 0\n",
    "while count < 20:\n",
    "    power =  c_double()\n",
    "    tlPM.measPower(byref(power))\n",
    "    power_measurements.append(power.value)\n",
    "    times.append(datetime.now())\n",
    "    print(power.value)\n",
    "    count+=1\n",
    "    time.sleep(.1)\n",
    "\n",
    "tlPM.close()\n",
    "plt.plot(power_measurements)"
   ]
  },
  {
   "cell_type": "code",
   "execution_count": 11,
   "id": "acute-positive",
   "metadata": {},
   "outputs": [
    {
     "data": {
      "text/plain": [
       "0"
      ]
     },
     "execution_count": 11,
     "metadata": {},
     "output_type": "execute_result"
    }
   ],
   "source": [
    "tlPM = TLPM()\n",
    "tlPM.open(resourceName, c_bool(True), c_bool(True))"
   ]
  },
  {
   "cell_type": "code",
   "execution_count": 12,
   "id": "endangered-temple",
   "metadata": {},
   "outputs": [],
   "source": [
    "def MeasurePower(samples, sleep=0.1):\n",
    "    power_measurements = []\n",
    "    times = []\n",
    "    count = 0\n",
    "    while count < samples:\n",
    "        power =  c_double()\n",
    "        tlPM.measPower(byref(power))\n",
    "        power_measurements.append(power.value)\n",
    "        times.append(datetime.now())\n",
    "        count+=1\n",
    "        time.sleep(sleep)\n",
    "\n",
    "    return power_measurements, times"
   ]
  },
  {
   "cell_type": "code",
   "execution_count": 26,
   "id": "seventh-samoa",
   "metadata": {},
   "outputs": [
    {
     "data": {
      "text/plain": [
       "[<matplotlib.lines.Line2D at 0x151f880>]"
      ]
     },
     "execution_count": 26,
     "metadata": {},
     "output_type": "execute_result"
    },
    {
     "data": {
      "image/png": "[encoded data removed]",
      "text/plain": [
       "<Figure size 432x288 with 1 Axes>"
      ]
     },
     "metadata": {
      "needs_background": "light"
     },
     "output_type": "display_data"
    }
   ],
   "source": [
    "power1, times = MeasurePower(20)\n",
    "power2, times = MeasurePower(20, sleep=1)\n",
    "power3, times = MeasurePower(20, sleep=.01)\n",
    "plt.plot(power1)\n",
    "plt.plot(power2)\n",
    "plt.plot(power3)"
   ]
  },
  {
   "cell_type": "code",
   "execution_count": 17,
   "id": "joined-smoke",
   "metadata": {},
   "outputs": [
    {
     "data": {
      "text/plain": [
       "[<matplotlib.lines.Line2D at 0x11f13a0>]"
      ]
     },
     "execution_count": 17,
     "metadata": {},
     "output_type": "execute_result"
    },
    {
     "data": {
      "image/png": "[encoded data removed]",
      "text/plain": [
       "<Figure size 432x288 with 1 Axes>"
      ]
     },
     "metadata": {
      "needs_background": "light"
     },
     "output_type": "display_data"
    }
   ],
   "source": [
    "power_off, times = MeasurePower(20)\n",
    "plt.plot(power_off)"
   ]
  },
  {
   "cell_type": "code",
   "execution_count": 18,
   "id": "alone-highlight",
   "metadata": {},
   "outputs": [
    {
     "data": {
      "text/plain": [
       "[<matplotlib.lines.Line2D at 0x121ee68>]"
      ]
     },
     "execution_count": 18,
     "metadata": {},
     "output_type": "execute_result"
    },
    {
     "data": {
      "image/png": "[encoded data removed]",
      "text/plain": [
       "<Figure size 432x288 with 1 Axes>"
      ]
     },
     "metadata": {
      "needs_background": "light"
     },
     "output_type": "display_data"
    }
   ],
   "source": [
    "plt.plot(power)\n",
    "plt.plot(power_off)"
   ]
  },
  {
   "cell_type": "code",
   "execution_count": 23,
   "id": "rocky-anime",
   "metadata": {},
   "outputs": [],
   "source": [
    "power, times = MeasurePower(15)"
   ]
  },
  {
   "cell_type": "code",
   "execution_count": 24,
   "id": "foster-snake",
   "metadata": {},
   "outputs": [
    {
     "name": "stdout",
     "output_type": "stream",
     "text": [
      "1.1069407853333335e-07 1.6861262465333332e-10\n",
      "1.2303216229689454e-10 4.138820012211975e-11\n"
     ]
    }
   ],
   "source": [
    "power_off, times = MeasurePower(15)\n",
    "print(np.mean(power), np.mean(power_off))\n",
    "print(np.std(power), np.std(power_off))"
   ]
  },
  {
   "cell_type": "code",
   "execution_count": 10,
   "id": "written-papua",
   "metadata": {},
   "outputs": [],
   "source": [
    "import matplotlib.pyplot as plt"
   ]
  },
  {
   "cell_type": "code",
   "execution_count": null,
   "id": "proud-cambridge",
   "metadata": {},
   "outputs": [],
   "source": [
    "plt.plot(power_measurements)"
   ]
  },
  {
   "cell_type": "code",
   "execution_count": 20,
   "id": "collected-gravity",
   "metadata": {},
   "outputs": [],
   "source": [
    "import numpy as np"
   ]
  },
  {
   "cell_type": "code",
   "execution_count": null,
   "id": "acknowledged-vegetarian",
   "metadata": {},
   "outputs": [],
   "source": []
  }
 ],
 "metadata": {
  "kernelspec": {
   "display_name": "Python 3",
   "language": "python",
   "name": "python3"
  },
  "language_info": {
   "codemirror_mode": {
    "name": "ipython",
    "version": 3
   },
   "file_extension": ".py",
   "mimetype": "text/x-python",
   "name": "python",
   "nbconvert_exporter": "python",
   "pygments_lexer": "ipython3",
   "version": "3.8.0"
  }
 },
 "nbformat": 4,
 "nbformat_minor": 5
}
