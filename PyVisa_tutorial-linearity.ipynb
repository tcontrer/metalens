{
 "cells": [
  {
   "cell_type": "markdown",
   "id": "distinct-singing",
   "metadata": {},
   "source": [
    "# Testing + mini tutorial of pyvisa to control the oscilliscope\n",
    "\n",
    "Notes\n",
    "- To check what variables are available to call or change on the oscilliscope, open XStreamBrowser on the oscilliscope. The tree in the browser gives you the path and the information on particular variable tells you the type, whether you can read/write, and possible ingputs (Range/Helpstring)\n",
    "    - Example: app.acquisition.horizontal.maximize has the options \"FixedSampleRate\" and \"SetMaximumMemory\" (still not sure what this means, but it didn't work until I used one of these)"
   ]
  },
  {
   "cell_type": "code",
   "execution_count": 1,
   "id": "empirical-czech",
   "metadata": {},
   "outputs": [],
   "source": [
    "import pyvisa\n",
    "import numpy as np"
   ]
  },
  {
   "cell_type": "code",
   "execution_count": 2,
   "id": "apparent-southeast",
   "metadata": {},
   "outputs": [
    {
     "data": {
      "text/plain": [
       "('USB0::0x05FF::0x1023::4206N21552::INSTR', 'ASRL3::INSTR', 'ASRL10::INSTR')"
      ]
     },
     "execution_count": 2,
     "metadata": {},
     "output_type": "execute_result"
    }
   ],
   "source": [
    "# Before running, connect the laptop to the oscilloscope through the USBTMC\n",
    "rm = pyvisa.ResourceManager()\n",
    "rm.list_resources() # use this to grab the instrument in the next step"
   ]
  },
  {
   "cell_type": "code",
   "execution_count": 3,
   "id": "matched-richardson",
   "metadata": {},
   "outputs": [
    {
     "data": {
      "text/plain": [
       "'*IDN LECROY,WAVERUNNER8054,LCRY4206N21552,8.5.1\\n'"
      ]
     },
     "execution_count": 3,
     "metadata": {},
     "output_type": "execute_result"
    }
   ],
   "source": [
    "# Grabs the instrument and prints\n",
    "scope = rm.open_resource('USB0::0x05FF::0x1023::4206N21552::INSTR')\n",
    "\n",
    "# Message for “what are you?”\n",
    "scope.query('*IDN?')"
   ]
  },
  {
   "cell_type": "code",
   "execution_count": 4,
   "id": "biblical-carpet",
   "metadata": {},
   "outputs": [
    {
     "data": {
      "text/plain": [
       "(53, <StatusCode.success: 0>)"
      ]
     },
     "execution_count": 4,
     "metadata": {},
     "output_type": "execute_result"
    }
   ],
   "source": [
    "# Change the vertical scale and horizontal scale of channel 1\n",
    "# (good way to check if we can send commands to the scope)\n",
    "scope.write(r\"\"\"vbs 'app.Acquisition.C1.VerScale = 1.0' \"\"\")\n",
    "scope.write(r\"\"\"vbs 'app.Acquisition.Horizontal.HorScale = 500e-6' \"\"\")"
   ]
  },
  {
   "cell_type": "code",
   "execution_count": 5,
   "id": "reflected-strategy",
   "metadata": {},
   "outputs": [
    {
     "data": {
      "text/plain": [
       "'VBS 1\\n'"
      ]
     },
     "execution_count": 5,
     "metadata": {},
     "output_type": "execute_result"
    }
   ],
   "source": [
    "# Print the vertical offset for channel 1 \n",
    "# (good way to check that we can recieve info from the scope)\n",
    "(scope.query(r\"\"\"vbs? 'return=app.Acquisition.C1.VerScale' \"\"\"))"
   ]
  },
  {
   "cell_type": "code",
   "execution_count": 6,
   "id": "proud-planning",
   "metadata": {},
   "outputs": [],
   "source": [
    "# Waits 5 seconds after oscilliscope is idle before \n",
    "# setting up new acquisition\n",
    "scope.timeout = 5000\n",
    "scope.clear()\n",
    "r = scope.query(r\"\"\"vbs? 'return=app.WaitUntilIdle(5)' \"\"\")"
   ]
  },
  {
   "cell_type": "code",
   "execution_count": 7,
   "id": "alpine-alarm",
   "metadata": {
    "scrolled": true
   },
   "outputs": [
    {
     "data": {
      "text/plain": [
       "(65, <StatusCode.success: 0>)"
      ]
     },
     "execution_count": 7,
     "metadata": {},
     "output_type": "execute_result"
    }
   ],
   "source": [
    "# Set up aquisition by stopping trigger \n",
    "trigger_level = .10\n",
    "scope.write(r\"\"\"vbs 'app.acquisition.triggermode = \"stopped\" ' \"\"\")\n",
    "scope.write(r\"\"\"vbs 'app.acquisition.trigger.edge.level = %f ' \"\"\" % trigger_level)\n",
    "scope.write(r\"\"\"vbs 'app.acquisition.triggermode = \"single\" ' \"\"\")\n",
    "scope.write(r\"\"\"vbs 'app.acquisition.horizontal.maximize = \"FixedSampleRate\" ' \"\"\")"
   ]
  },
  {
   "cell_type": "code",
   "execution_count": 8,
   "id": "identical-argument",
   "metadata": {},
   "outputs": [
    {
     "data": {
      "text/plain": [
       "(65, <StatusCode.success: 0>)"
      ]
     },
     "execution_count": 8,
     "metadata": {},
     "output_type": "execute_result"
    }
   ],
   "source": [
    "# Set up aquisition by stopping trigger \n",
    "trigger_level = .2\n",
    "scope.write(r\"\"\"vbs 'app.acquisition.triggermode = \"stopped\" ' \"\"\")\n",
    "# Set up trigger (in this case we trigger on the C2 which has the trigger for the input waveform to the LED)\n",
    "scope.write(r\"\"\"vbs 'app.acquisition.trigger.edge.source = \"C2\" ' '\"\"\")\n",
    "scope.write(r\"\"\"vbs 'app.acquisition.trigger.C2level = %f ' \"\"\" % trigger_level)\n",
    "scope.write(r\"\"\"vbs 'app.acquisition.triggermode = \"single\" ' \"\"\")\n",
    "scope.write(r\"\"\"vbs 'app.acquisition.horizontal.maximize = \"FixedSampleRate\" ' \"\"\")"
   ]
  },
  {
   "cell_type": "code",
   "execution_count": 9,
   "id": "opposite-blink",
   "metadata": {},
   "outputs": [
    {
     "data": {
      "text/plain": [
       "['VBS 0.006063251116913\\n',\n",
       " 'VBS 0.006063526355287\\n',\n",
       " 'VBS 0.00606359193345\\n',\n",
       " 'VBS 0.006063377241905\\n',\n",
       " 'VBS 0.006063500587788\\n',\n",
       " 'VBS 0.006063510433744\\n',\n",
       " 'VBS 0.006063595313877\\n',\n",
       " 'VBS 0.00606295467006\\n',\n",
       " 'VBS 0.006063243772476\\n',\n",
       " 'VBS 0.006063602057496\\n']"
      ]
     },
     "execution_count": 9,
     "metadata": {},
     "output_type": "execute_result"
    }
   ],
   "source": [
    "wait_time = 0.03\n",
    "# Set up Measurements, clearing previous measurements\n",
    "scope.write(r\"\"\"vbs 'app.clearsweeps ' \"\"\")\n",
    "scope.write(r\"\"\"vbs 'app.measure.clearall ' \"\"\")\n",
    "scope.write(r\"\"\"vbs 'app.measure.clearsweeps ' \"\"\")\n",
    "\n",
    "# Setup averaging waveform\n",
    "scope.write(r\"\"\"vbs 'app.math.f1.operator1 = \"intg\" ' \"\"\")\n",
    "scope.write(r\"\"\"vbs 'app.math.f1.source1 = \"C1\" ' \"\"\")\n",
    "\n",
    "# Setup measurement of peak to peak voltage based on average waveform\n",
    "scope.write(r\"\"\"vbs 'app.measure.showmeasure = true ' \"\"\")\n",
    "scope.write(r\"\"\"vbs 'app.measure.statson = true ' \"\"\")\n",
    "scope.write(r\"\"\"vbs 'app.measure.p1.view = true ' \"\"\")\n",
    "scope.write(r\"\"\"vbs 'app.measure.p1.paramengine = \"maximum\" ' \"\"\" )\n",
    "scope.write(r\"\"\"vbs 'app.measure.p1.source1 = \"F1\" ' \"\"\")\n",
    "\n",
    "# Sweep\n",
    "num_sweeps = 10\n",
    "integrals = []\n",
    "for i in range(0,num_sweeps):\n",
    "    r = scope.query(r\"\"\"vbs? 'return=app.acquisition.acquire( %f , True ) ' \"\"\" %wait_time)\n",
    "    r = scope.query(r\"\"\"vbs? 'return=app.WaitUntilIdle(0.003)' \"\"\")\n",
    "    integral = scope.query(r\"\"\"vbs? 'return=app.measure.p1.out.result.value' \"\"\")\n",
    "    integrals.append(integral)\n",
    "    if r==0:\n",
    "        print(\"Time out from WaitUntilIdle, return = {0}\".format(r))\n",
    "\n",
    "\n",
    "integrals"
   ]
  },
  {
   "cell_type": "code",
   "execution_count": 10,
   "id": "subsequent-refrigerator",
   "metadata": {},
   "outputs": [],
   "source": [
    "def MeasureIntegral():\n",
    "    \"\"\"\n",
    "    Measures the integral of the sipm waveform coming from the oscilliscope and\n",
    "    returns an array of the maxes for a given number of aquisitions.\n",
    "    \"\"\"\n",
    "    force_trigger_rate = 0.1 # s\n",
    "    trigger_level = 0.890 # V\n",
    "    \n",
    "    # Set up aquisition by stopping trigger \n",
    "    scope.write(r\"\"\"vbs 'app.acquisition.triggermode = \"stopped\" ' \"\"\")\n",
    "    # Set up trigger (in this case we trigger on the C2 which has the trigger for the input waveform to the LED)\n",
    "    scope.write(r\"\"\"vbs 'app.acquisition.trigger.edge.source = \"C2\" ' '\"\"\")\n",
    "    scope.write(r\"\"\"vbs 'app.acquisition.trigger.C2level = %f ' \"\"\" % trigger_level)\n",
    "    scope.write(r\"\"\"vbs 'app.acquisition.triggermode = \"single\" ' \"\"\")\n",
    "    scope.write(r\"\"\"vbs 'app.acquisition.horizontal.maximize = \"FixedSampleRate\" ' \"\"\")\n",
    "\n",
    "    # Set up Measurements, clearing previous measurements\n",
    "    scope.write(r\"\"\"vbs 'app.clearsweeps ' \"\"\")\n",
    "    scope.write(r\"\"\"vbs 'app.measure.clearall ' \"\"\")\n",
    "    scope.write(r\"\"\"vbs 'app.measure.clearsweeps ' \"\"\")\n",
    "\n",
    "    # Setup averaging waveform\n",
    "    scope.write(r\"\"\"vbs 'app.math.f1.operator1 = \"intg\" ' \"\"\")\n",
    "    scope.write(r\"\"\"vbs 'app.math.f1.source1 = \"C1\" ' \"\"\")\n",
    "\n",
    "    # Setup measurement of peak to peak voltage based on average waveform\n",
    "    scope.write(r\"\"\"vbs 'app.measure.showmeasure = true ' \"\"\")\n",
    "    scope.write(r\"\"\"vbs 'app.measure.statson = true ' \"\"\")\n",
    "    scope.write(r\"\"\"vbs 'app.measure.p1.view = true ' \"\"\")\n",
    "    scope.write(r\"\"\"vbs 'app.measure.p1.paramengine = \"maximum\" ' \"\"\" )\n",
    "    scope.write(r\"\"\"vbs 'app.measure.p1.source1 = \"F1\" ' \"\"\")\n",
    "\n",
    "    # Sweep\n",
    "    integrals = []\n",
    "    for i in range(0,NUM_SWEEPS):\n",
    "        r = scope.query(r\"\"\"vbs? 'return=app.acquisition.acquire( %f , True ) ' \"\"\" %force_trigger_rate)\n",
    "        r = scope.query(r\"\"\"vbs? 'return=app.WaitUntilIdle(0.003)' \"\"\")\n",
    "        integral = scope.query(r\"\"\"vbs? 'return=app.measure.p1.out.result.value' \"\"\")\n",
    "        integrals.append(integral)\n",
    "        if r==0:\n",
    "            print(\"Time out from WaitUntilIdle, return = {0}\".format(r))\n",
    "\n",
    "    integrals = np.array([ConvertToFloat(integral) for integral in integrals])\n",
    "    \n",
    "    return integrals/np.mean(integrals)\n",
    "\n",
    "def ConvertToFloat(val):\n",
    "    \"\"\"\n",
    "    Extracts a float from a complex string\n",
    "    \"\"\"\n",
    "    for token in val.split():\n",
    "        floatval = ''\n",
    "        try:\n",
    "           floatval = float(token)\n",
    "        except ValueError:\n",
    "            continue\n",
    "        if type(floatval)==float:\n",
    "            return floatval\n",
    "    return np.nan"
   ]
  },
  {
   "cell_type": "code",
   "execution_count": 11,
   "id": "frozen-staff",
   "metadata": {},
   "outputs": [
    {
     "data": {
      "text/plain": [
       "array([1.00002783, 0.99995337, 0.9999837 , 1.00002277, 0.99997953,\n",
       "       1.00000296, 1.00005582, 0.999982  , 1.00007336, 0.99991867])"
      ]
     },
     "execution_count": 11,
     "metadata": {},
     "output_type": "execute_result"
    }
   ],
   "source": [
    "NUM_SWEEPS = 10\n",
    "MeasureIntegral()"
   ]
  },
  {
   "cell_type": "code",
   "execution_count": null,
   "id": "suffering-measure",
   "metadata": {},
   "outputs": [],
   "source": []
  },
  {
   "cell_type": "code",
   "execution_count": null,
   "id": "formed-arcade",
   "metadata": {},
   "outputs": [],
   "source": []
  },
  {
   "cell_type": "code",
   "execution_count": null,
   "id": "discrete-carter",
   "metadata": {},
   "outputs": [],
   "source": []
  },
  {
   "cell_type": "code",
   "execution_count": 25,
   "id": "descending-recipe",
   "metadata": {},
   "outputs": [],
   "source": [
    "# Make sure to close the connection (in teh reverse order of setting it up)\n",
    "scope.close()\n",
    "rm.close()"
   ]
  },
  {
   "cell_type": "code",
   "execution_count": null,
   "id": "premium-abuse",
   "metadata": {},
   "outputs": [],
   "source": []
  }
 ],
 "metadata": {
  "kernelspec": {
   "display_name": "Python 3",
   "language": "python",
   "name": "python3"
  },
  "language_info": {
   "codemirror_mode": {
    "name": "ipython",
    "version": 3
   },
   "file_extension": ".py",
   "mimetype": "text/x-python",
   "name": "python",
   "nbconvert_exporter": "python",
   "pygments_lexer": "ipython3",
   "version": "3.8.0"
  }
 },
 "nbformat": 4,
 "nbformat_minor": 5
}
