{
 "cells": [
  {
   "cell_type": "markdown",
   "id": "distinct-singing",
   "metadata": {},
   "source": [
    "# Testing + mini tutorial of pyvisa to control the oscilliscope\n",
    "\n",
    "Notes\n",
    "- To check what variables are available to call or change on the oscilliscope, open XStreamBrowser on the oscilliscope. The tree in the browser gives you the path and the information on particular variable tells you the type, whether you can read/write, and possible ingputs (Range/Helpstring)\n",
    "    - Example: app.acquisition.horizontal.maximize has the options \"FixedSampleRate\" and \"SetMaximumMemory\" (still not sure what this means, but it didn't work until I used one of these)"
   ]
  },
  {
   "cell_type": "code",
   "execution_count": 1,
   "id": "empirical-czech",
   "metadata": {},
   "outputs": [],
   "source": [
    "import pyvisa"
   ]
  },
  {
   "cell_type": "code",
   "execution_count": 2,
   "id": "inappropriate-basis",
   "metadata": {},
   "outputs": [
    {
     "ename": "SyntaxError",
     "evalue": "invalid syntax (<ipython-input-2-ae66e3687d1f>, line 1)",
     "output_type": "error",
     "traceback": [
      "\u001b[1;36m  File \u001b[1;32m\"<ipython-input-2-ae66e3687d1f>\"\u001b[1;36m, line \u001b[1;32m1\u001b[0m\n\u001b[1;33m    python -m visa info\u001b[0m\n\u001b[1;37m              ^\u001b[0m\n\u001b[1;31mSyntaxError\u001b[0m\u001b[1;31m:\u001b[0m invalid syntax\n"
     ]
    }
   ],
   "source": [
    "python -m visa info"
   ]
  },
  {
   "cell_type": "code",
   "execution_count": 2,
   "id": "apparent-southeast",
   "metadata": {},
   "outputs": [
    {
     "data": {
      "text/plain": [
       "('USB0::0x05FF::0x1023::4206N21552::INSTR', 'ASRL3::INSTR', 'ASRL10::INSTR')"
      ]
     },
     "execution_count": 2,
     "metadata": {},
     "output_type": "execute_result"
    }
   ],
   "source": [
    "# Before running, connect the laptop to the oscilloscope through the USBTMC\n",
    "rm = pyvisa.ResourceManager()\n",
    "rm.list_resources() # use this to grab the instrument in the next step"
   ]
  },
  {
   "cell_type": "code",
   "execution_count": 3,
   "id": "matched-richardson",
   "metadata": {},
   "outputs": [
    {
     "data": {
      "text/plain": [
       "'*IDN LECROY,WAVERUNNER8054,LCRY4206N21552,8.5.1\\n'"
      ]
     },
     "execution_count": 3,
     "metadata": {},
     "output_type": "execute_result"
    }
   ],
   "source": [
    "# Grabs the instrument and prints\n",
    "scope = rm.open_resource('USB0::0x05FF::0x1023::4206N21552::INSTR')\n",
    "\n",
    "# Message for “what are you?”\n",
    "scope.query('*IDN?')"
   ]
  },
  {
   "cell_type": "code",
   "execution_count": 4,
   "id": "biblical-carpet",
   "metadata": {},
   "outputs": [
    {
     "data": {
      "text/plain": [
       "(53, <StatusCode.success: 0>)"
      ]
     },
     "execution_count": 4,
     "metadata": {},
     "output_type": "execute_result"
    }
   ],
   "source": [
    "# Change the vertical scale and horizontal scale of channel 1\n",
    "# (good way to check if we can send commands to the scope)\n",
    "scope.write(r\"\"\"vbs 'app.Acquisition.C1.VerScale = 1.0' \"\"\")\n",
    "scope.write(r\"\"\"vbs 'app.Acquisition.Horizontal.HorScale = 500e-6' \"\"\")"
   ]
  },
  {
   "cell_type": "code",
   "execution_count": 6,
   "id": "reflected-strategy",
   "metadata": {},
   "outputs": [
    {
     "data": {
      "text/plain": [
       "'VBS 2\\n'"
      ]
     },
     "execution_count": 6,
     "metadata": {},
     "output_type": "execute_result"
    }
   ],
   "source": [
    "# Print the vertical offset for channel 1 \n",
    "# (good way to check that we can recieve info from the scope)\n",
    "(scope.query(r\"\"\"vbs? 'return=app.Acquisition.C1.VerScale' \"\"\"))"
   ]
  },
  {
   "cell_type": "code",
   "execution_count": 19,
   "id": "proud-planning",
   "metadata": {},
   "outputs": [],
   "source": [
    "# Waits 5 seconds after oscilliscope is idle before \n",
    "# setting up new acquisition\n",
    "scope.timeout = 5000\n",
    "scope.clear()\n",
    "r = scope.query(r\"\"\"vbs? 'return=app.WaitUntilIdle(5)' \"\"\")"
   ]
  },
  {
   "cell_type": "code",
   "execution_count": 40,
   "id": "alpine-alarm",
   "metadata": {
    "scrolled": true
   },
   "outputs": [
    {
     "data": {
      "text/plain": [
       "(65, <StatusCode.success: 0>)"
      ]
     },
     "execution_count": 40,
     "metadata": {},
     "output_type": "execute_result"
    }
   ],
   "source": [
    "# Set up aquisition by stopping trigger \n",
    "trigger_level = .85\n",
    "scope.write(r\"\"\"vbs 'app.acquisition.triggermode = \"stopped\" ' \"\"\")\n",
    "scope.write(r\"\"\"vbs 'app.acquisition.trigger.edge.level = %f ' \"\"\" % trigger_level)\n",
    "scope.write(r\"\"\"vbs 'app.acquisition.triggermode = \"single\" ' \"\"\")\n",
    "scope.write(r\"\"\"vbs 'app.acquisition.horizontal.maximize = \"FixedSampleRate\" ' \"\"\")"
   ]
  },
  {
   "cell_type": "code",
   "execution_count": 46,
   "id": "pleased-scene",
   "metadata": {},
   "outputs": [
    {
     "name": "stdout",
     "output_type": "stream",
     "text": [
      "Result = 0\n",
      "\n"
     ]
    }
   ],
   "source": [
    "# Set up Measurements, clearing previous measurements\n",
    "scope.write(r\"\"\"vbs 'app.clearsweeps ' \"\"\")\n",
    "scope.write(r\"\"\"vbs 'app.measure.clearall ' \"\"\")\n",
    "scope.write(r\"\"\"vbs 'app.measure.clearsweeps ' \"\"\")\n",
    "\n",
    "\n",
    "# Setup averaging waveform\n",
    "scope.write(r\"\"\"vbs 'app.math.f1.operator1 = \"average\" ' \"\"\")\n",
    "scope.write(r\"\"\"vbs 'app.math.f1.source1 = \"C1\" ' \"\"\")\n",
    "# Sweep\n",
    "num_sweeps = 100\n",
    "for i in range(0,num_sweeps):\n",
    "    r = scope.query(r\"\"\"vbs? 'return=app.acquisition.acquire( 0.1 , True ) ' \"\"\")\n",
    "    r = scope.query(r\"\"\"vbs? 'return=app.WaitUntilIdle(5)' \"\"\")\n",
    "    if r==0:\n",
    "        print(\"Time out from WaitUntilIdle, return = {0}\".format(r))\n",
    "\n",
    "\n",
    "# Setup measurement of peak to peak voltage based on average waveform\n",
    "scope.write(r\"\"\"vbs 'app.measure.showmeasure = true ' \"\"\")\n",
    "scope.write(r\"\"\"vbs 'app.measure.statson = true ' \"\"\")\n",
    "scope.write(r\"\"\"vbs 'app.measure.p1.view = true ' \"\"\")\n",
    "scope.write(r\"\"\"vbs 'app.measure.p1.paramengine = \"pkpk\" ' \"\"\" ) \n",
    "scope.write(r\"\"\"vbs 'app.measure.p1.source1 = \"F1\" ' \"\"\")\n",
    "r = scope.query(r\"\"\"vbs? 'return=app.acquisition.acquire( 0.1 , True ) ' \"\"\")\n",
    "r = scope.query(r\"\"\"vbs? 'return=app.WaitUntilIdle(.3)' \"\"\")\n",
    "\n",
    "# Read back Measurement Results\n",
    "result = scope.query(r\"\"\"vbs? 'return=app.measure.p1.out.result.value' \"\"\")\n",
    "print(\"Result = {0}\".format(result))"
   ]
  },
  {
   "cell_type": "code",
   "execution_count": 33,
   "id": "harmful-february",
   "metadata": {},
   "outputs": [],
   "source": [
    "# Aquire the data!\n",
    "for i in range(0,1000):\n",
    "    r = scope.query(r\"\"\"vbs? 'return=app.acquisition.acquire( 0.1 , True ) ' \"\"\")\n",
    "    r = scope.query(r\"\"\"vbs? 'return=app.WaitUntilIdle(5)' \"\"\")\n",
    "    if r==0:\n",
    "        print(\"Time out from WaitUntilIdle, return = {0}\".format(r))\n"
   ]
  },
  {
   "cell_type": "code",
   "execution_count": 32,
   "id": "confused-carry",
   "metadata": {},
   "outputs": [
    {
     "name": "stdout",
     "output_type": "stream",
     "text": [
      "Result = 7.09852630883688\n",
      "\n"
     ]
    }
   ],
   "source": [
    "# Read back Measurement Results\n",
    "result = scope.query(r\"\"\"vbs? 'return=app.measure.p1.out.result.value' \"\"\")\n",
    "print(\"Result = {0}\".format(result))"
   ]
  },
  {
   "cell_type": "code",
   "execution_count": null,
   "id": "discrete-carter",
   "metadata": {},
   "outputs": [],
   "source": []
  },
  {
   "cell_type": "code",
   "execution_count": 6,
   "id": "descending-recipe",
   "metadata": {},
   "outputs": [],
   "source": [
    "# Make sure to close the connection (in teh reverse order of setting it up)\n",
    "scope.close()\n",
    "rm.close()"
   ]
  },
  {
   "cell_type": "code",
   "execution_count": null,
   "id": "premium-abuse",
   "metadata": {},
   "outputs": [],
   "source": []
  }
 ],
 "metadata": {
  "kernelspec": {
   "display_name": "Python 3",
   "language": "python",
   "name": "python3"
  },
  "language_info": {
   "codemirror_mode": {
    "name": "ipython",
    "version": 3
   },
   "file_extension": ".py",
   "mimetype": "text/x-python",
   "name": "python",
   "nbconvert_exporter": "python",
   "pygments_lexer": "ipython3",
   "version": "3.8.0"
  }
 },
 "nbformat": 4,
 "nbformat_minor": 5
}
