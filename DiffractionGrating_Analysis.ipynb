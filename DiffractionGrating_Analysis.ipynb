{
 "cells": [
  {
   "cell_type": "markdown",
   "id": "resident-lyric",
   "metadata": {},
   "source": [
    "# Analysis of Diffraction Grating Measurements\n",
    "Written by: Taylor Contreras, March 10 2021\n",
    "\n",
    "This analysis assumes data is output from the DiffractionStudy_Automation.ipynb."
   ]
  },
  {
   "cell_type": "code",
   "execution_count": 1,
   "id": "handed-representation",
   "metadata": {},
   "outputs": [],
   "source": [
    "import numpy as np\n",
    "import matplotlib.pyplot as plt\n",
    "import csv\n",
    "from scipy import signal\n",
    "from math import atan, pi\n",
    "import pandas as pd"
   ]
  },
  {
   "cell_type": "code",
   "execution_count": 10,
   "id": "satellite-brown",
   "metadata": {},
   "outputs": [
    {
     "data": {
      "text/plain": [
       "'C:\\\\Users\\\\Owner\\\\Documents\\\\DiffractionStudies\\\\metalens'"
      ]
     },
     "execution_count": 10,
     "metadata": {},
     "output_type": "execute_result"
    }
   ],
   "source": [
    "import os\n",
    "current_path = os.getcwd()\n",
    "current_path"
   ]
  },
  {
   "cell_type": "code",
   "execution_count": 6,
   "id": "vertical-bedroom",
   "metadata": {},
   "outputs": [
    {
     "ename": "FileNotFoundError",
     "evalue": "[Errno 2] No such file or directory: 'run004_distilled_water_data_50ns_15sweeps_airgap.csv'",
     "output_type": "error",
     "traceback": [
      "\u001b[1;31m---------------------------------------------------------------------------\u001b[0m",
      "\u001b[1;31mFileNotFoundError\u001b[0m                         Traceback (most recent call last)",
      "\u001b[1;32m<ipython-input-6-b17499661636>\u001b[0m in \u001b[0;36m<module>\u001b[1;34m\u001b[0m\n\u001b[0;32m      2\u001b[0m \u001b[0mfile_name\u001b[0m \u001b[1;33m=\u001b[0m\u001b[1;34m'run004_distilled_water_data_50ns_15sweeps_airgap.csv'\u001b[0m\u001b[1;33m\u001b[0m\u001b[1;33m\u001b[0m\u001b[0m\n\u001b[0;32m      3\u001b[0m \u001b[1;33m\u001b[0m\u001b[0m\n\u001b[1;32m----> 4\u001b[1;33m \u001b[1;32mwith\u001b[0m \u001b[0mopen\u001b[0m\u001b[1;33m(\u001b[0m\u001b[0mfile_name\u001b[0m\u001b[1;33m)\u001b[0m \u001b[1;32mas\u001b[0m \u001b[0mfile\u001b[0m\u001b[1;33m:\u001b[0m\u001b[1;33m\u001b[0m\u001b[1;33m\u001b[0m\u001b[0m\n\u001b[0m\u001b[0;32m      5\u001b[0m     \u001b[0mreader\u001b[0m \u001b[1;33m=\u001b[0m \u001b[0mcsv\u001b[0m\u001b[1;33m.\u001b[0m\u001b[0mreader\u001b[0m\u001b[1;33m(\u001b[0m\u001b[0mfile\u001b[0m\u001b[1;33m)\u001b[0m\u001b[1;33m\u001b[0m\u001b[1;33m\u001b[0m\u001b[0m\n\u001b[0;32m      6\u001b[0m     \u001b[0mi\u001b[0m \u001b[1;33m=\u001b[0m \u001b[1;36m0\u001b[0m\u001b[1;33m\u001b[0m\u001b[1;33m\u001b[0m\u001b[0m\n",
      "\u001b[1;31mFileNotFoundError\u001b[0m: [Errno 2] No such file or directory: 'run004_distilled_water_data_50ns_15sweeps_airgap.csv'"
     ]
    }
   ],
   "source": [
    "# Get the data\n",
    "file_name ='run004_distilled_water_data_50ns_15sweeps_airgap.csv'\n",
    "\n",
    "with open(file_name) as file:\n",
    "    reader = csv.reader(file)\n",
    "    i = 0\n",
    "    for row in reader:\n",
    "        if i==2:\n",
    "            WithGrating_pos_led = float(row[0])\n",
    "            \n",
    "        if i==4:\n",
    "            WithGrating_pos_sipm = np.array([float(row[j]) for j in range(len(row))])\n",
    "            \n",
    "        if i==6:\n",
    "            WithGrating_voltage = np.array([float(row[j]) for j in range(len(row))])\n",
    "            \n",
    "        if i==10:\n",
    "            BelowGrating_pos_led = float(row[0])\n",
    "            \n",
    "        if i==12:\n",
    "            BelowGrating_pos_sipm = np.array([float(row[j]) for j in range(len(row))])\n",
    "        \n",
    "        if i==14:\n",
    "            BelowGrating_voltage = np.array([float(row[j]) for j in range(len(row))])\n",
    "            \n",
    "        if i==16:\n",
    "            GRATING_LED_POSITION = float(row[1])\n",
    "        \n",
    "        if i==18:\n",
    "            BELOW_GRATING_LED_POSITION = float(row[1])\n",
    "        \n",
    "        if i==20:\n",
    "            BELOW_MOUNT_LED_POSITION = float(row[1])\n",
    "            \n",
    "        if i==22:\n",
    "            VOLTAGE = float(row[1])\n",
    "        \n",
    "        i+= 1\n",
    "    "
   ]
  },
  {
   "cell_type": "code",
   "execution_count": 55,
   "id": "dated-person",
   "metadata": {},
   "outputs": [],
   "source": [
    "def ledVoltage_to_sipmPeak(led_V):\n",
    "    \"\"\"\n",
    "    Returns the correct SiPM peak voltage\n",
    "    based on the LED voltage, to correct\n",
    "    for sipm saturation. This fit was found\n",
    "    in the Linearity_Analysis.ipynb using\n",
    "    a 50ns pulse width. \n",
    "    \"\"\"\n",
    "    m = 0.014264022538903087\n",
    "    b = -0.026668937550506203\n",
    "    \n",
    "    if led_V < 2.0:\n",
    "        return 0.0\n",
    "    \n",
    "    return m*led_V + b\n",
    "\n",
    "def corrected_sipm_peaks(sipm_peaks):\n",
    "    look_up_table = pd.read_csv('sipm_linearity_lookup_table.csv')\n",
    "    \n",
    "    led_voltages = np.interp(sipm_peaks, look_up_table.V_sipm, look_up_table.V_led)\n",
    "\n",
    "    corrected_peaks = []\n",
    "    for i in range(len(sipm_peaks)):\n",
    "        if sipm_peaks[i] < 0.025:\n",
    "            corrected_peaks.append(sipm_peaks[i])\n",
    "        else:\n",
    "            corrected_peaks.append(ledVoltage_to_sipmPeak(led_voltages[i]))\n",
    "        \n",
    "    return corrected_peaks"
   ]
  },
  {
   "cell_type": "code",
   "execution_count": 56,
   "id": "finnish-invitation",
   "metadata": {},
   "outputs": [
    {
     "data": {
      "text/plain": [
       "[<matplotlib.lines.Line2D at 0x4943430>]"
      ]
     },
     "execution_count": 56,
     "metadata": {},
     "output_type": "execute_result"
    },
    {
     "data": {
      "image/png": "[encoded data removed]",
      "text/plain": [
       "<Figure size 432x288 with 1 Axes>"
      ]
     },
     "metadata": {
      "needs_background": "light"
     },
     "output_type": "display_data"
    }
   ],
   "source": [
    "# peak height versus correction\n",
    "peaks = np.linspace(0.0,0.1, 100)\n",
    "corrected_peaks = corrected_sipm_peaks(peaks)\n",
    "corrections = corrected_peaks - peaks\n",
    "plt.plot(peaks, corrections)"
   ]
  },
  {
   "cell_type": "code",
   "execution_count": 57,
   "id": "front-illustration",
   "metadata": {},
   "outputs": [
    {
     "data": {
      "text/plain": [
       "<matplotlib.legend.Legend at 0x4965ef8>"
      ]
     },
     "execution_count": 57,
     "metadata": {},
     "output_type": "execute_result"
    },
    {
     "data": {
      "image/png": "[encoded data removed]",
      "text/plain": [
       "<Figure size 432x288 with 1 Axes>"
      ]
     },
     "metadata": {
      "needs_background": "light"
     },
     "output_type": "display_data"
    }
   ],
   "source": [
    "cc_BelowGrating_voltage = corrected_sipm_peaks(BelowGrating_voltage)\n",
    "plt.plot(cc_BelowGrating_voltage,label='corrected')\n",
    "plt.plot(BelowGrating_voltage, label='data')\n",
    "plt.legend() "
   ]
  },
  {
   "cell_type": "code",
   "execution_count": 58,
   "id": "powerful-affect",
   "metadata": {},
   "outputs": [
    {
     "data": {
      "text/plain": [
       "<matplotlib.legend.Legend at 0x49ac8b0>"
      ]
     },
     "execution_count": 58,
     "metadata": {},
     "output_type": "execute_result"
    },
    {
     "data": {
      "image/png": "[encoded data removed]",
      "text/plain": [
       "<Figure size 432x288 with 1 Axes>"
      ]
     },
     "metadata": {
      "needs_background": "light"
     },
     "output_type": "display_data"
    }
   ],
   "source": [
    "cc_WithGrating_voltage = corrected_sipm_peaks(WithGrating_voltage)\n",
    "plt.plot(cc_WithGrating_voltage,label='corrected')\n",
    "plt.plot(WithGrating_voltage, label='data')\n",
    "plt.legend()"
   ]
  },
  {
   "cell_type": "code",
   "execution_count": 59,
   "id": "right-differential",
   "metadata": {},
   "outputs": [
    {
     "data": {
      "text/plain": [
       "Text(0.5, 0, 'SiPM Position [mm]')"
      ]
     },
     "execution_count": 59,
     "metadata": {},
     "output_type": "execute_result"
    },
    {
     "data": {
      "image/png": "[encoded data removed]",
      "text/plain": [
       "<Figure size 432x288 with 1 Axes>"
      ]
     },
     "metadata": {
      "needs_background": "light"
     },
     "output_type": "display_data"
    }
   ],
   "source": [
    "halfway = len(WithGrating_pos_sipm)//2\n",
    "plt.plot(np.array(BelowGrating_pos_sipm)-BELOW_GRATING_LED_POSITION, cc_BelowGrating_voltage, label='below grating')\n",
    "plt.plot(np.array(WithGrating_pos_sipm)-GRATING_LED_POSITION, cc_WithGrating_voltage, label='with grating')\n",
    "#plt.plot(np.array(BelowMount_pos_sipm)-BELOW_MOUNT_LED_POSITION, BelowMount_voltage, label='below mount')\n",
    "plt.legend()\n",
    "plt.ylabel('Max Voltage [V]')\n",
    "plt.xlabel('SiPM Position [mm]')"
   ]
  },
  {
   "cell_type": "code",
   "execution_count": 60,
   "id": "three-segment",
   "metadata": {},
   "outputs": [
    {
     "name": "stdout",
     "output_type": "stream",
     "text": [
      "Light collection efficiency (Grating/Below Grating) = 91.86%\n"
     ]
    }
   ],
   "source": [
    "# Light Collection efficiency of peaks\n",
    "eff_bg = max(WithGrating_voltage)/max(BelowGrating_voltage)\n",
    "#eff_bm = max(WithGrating_voltage)/max(BelowMount_voltage)\n",
    "print('Light collection efficiency (Grating/Below Grating) = ' + str(round(eff_bg,4)*100)+'%')\n",
    "#print('Light collection efficiency (Grating/Below Mount) = ' + str(round(eff_bm,4)*100)+'%')"
   ]
  },
  {
   "cell_type": "code",
   "execution_count": 61,
   "id": "three-development",
   "metadata": {},
   "outputs": [
    {
     "name": "stdout",
     "output_type": "stream",
     "text": [
      "Position of peak below diffraction grating: 14.255\n"
     ]
    }
   ],
   "source": [
    "# Find the peak and the peak position when not using the grating\n",
    "BelowGrating_corrected_pos_sipm = np.array(BelowGrating_pos_sipm)-BELOW_GRATING_LED_POSITION\n",
    "WithGrating_corrected_pos_sipm = np.array(WithGrating_pos_sipm)-GRATING_LED_POSITION\n",
    "\n",
    "BelowGrating_peaks, _ = signal.find_peaks(cc_BelowGrating_voltage, prominence=0.01)\n",
    "BelowGrating_widths = signal.peak_widths(cc_BelowGrating_voltage, BelowGrating_peaks)\n",
    "\n",
    "l = BelowGrating_corrected_pos_sipm[int(BelowGrating_widths[2][0])]\n",
    "r = BelowGrating_corrected_pos_sipm[int(BelowGrating_widths[3][0])]\n",
    "BelowGrating_peak_pos = (r + l)/2\n",
    "print('Position of peak below diffraction grating: '+str(round(BelowGrating_peak_pos,3)))"
   ]
  },
  {
   "cell_type": "code",
   "execution_count": 74,
   "id": "aquatic-divide",
   "metadata": {},
   "outputs": [
    {
     "name": "stdout",
     "output_type": "stream",
     "text": [
      "Peak positions [ 5.855 15.455 23.855] [54 78 99]\n",
      "Peak heights\n"
     ]
    }
   ],
   "source": [
    "# Find the peaks and their widths with a large prominence\n",
    "peaks, _ = signal.find_peaks(cc_WithGrating_voltage, prominence=0.002, distance=10)\n",
    "print('Peak positions',WithGrating_corrected_pos_sipm[peaks], peaks)\n",
    "print('Peak heights', )\n",
    "widths = signal.peak_widths(cc_WithGrating_voltage, peaks)\n",
    "# The widths includes the position of the FWHM left and right bins\n",
    "# Use these to calculate the position of the peak\n",
    "l1 = WithGrating_corrected_pos_sipm[int(widths[2][0])]\n",
    "r1 = WithGrating_corrected_pos_sipm[int(widths[3][0])]\n",
    "peak1_pos = (r1 + l1)/2.\n",
    "\n",
    "l2 = WithGrating_corrected_pos_sipm[int(widths[2][1])]\n",
    "r2 = WithGrating_corrected_pos_sipm[int(widths[3][1])]\n",
    "peak2_pos = (r2 + l2)/2.\n",
    "  \n",
    "dist_between_peaks = abs(peak2_pos - peak1_pos)"
   ]
  },
  {
   "cell_type": "code",
   "execution_count": 72,
   "id": "minor-offer",
   "metadata": {},
   "outputs": [
    {
     "name": "stdout",
     "output_type": "stream",
     "text": [
      "0.06682957720056497\n",
      "0.0592687498826763\n",
      "0.0544436211941957\n"
     ]
    }
   ],
   "source": [
    "print(sum([WithGrating_voltage[i] for i in peaks]))\n",
    "print(max(BelowGrating_voltage))\n",
    "print(max(WithGrating_voltage))"
   ]
  },
  {
   "cell_type": "code",
   "execution_count": 75,
   "id": "living-ticket",
   "metadata": {},
   "outputs": [
    {
     "name": "stdout",
     "output_type": "stream",
     "text": [
      "0.07040068429225378\n",
      "0.06828703167371443\n",
      "0.06008484753110245\n"
     ]
    }
   ],
   "source": [
    "print(sum([cc_WithGrating_voltage[i] for i in peaks]))\n",
    "print(max(cc_BelowGrating_voltage))\n",
    "print(max(cc_WithGrating_voltage))"
   ]
  },
  {
   "cell_type": "code",
   "execution_count": 73,
   "id": "dependent-facial",
   "metadata": {},
   "outputs": [
    {
     "name": "stdout",
     "output_type": "stream",
     "text": [
      "0.06780144874741857\n",
      "0.06828703167371443\n"
     ]
    }
   ],
   "source": [
    "print(cc_WithGrating_voltage[peaks[0]]+cc_WithGrating_voltage[peaks[1]]+cc_WithGrating_voltage[peaks[2]])\n",
    "print(max(cc_BelowGrating_voltage))"
   ]
  },
  {
   "cell_type": "code",
   "execution_count": 71,
   "id": "separate-daily",
   "metadata": {},
   "outputs": [
    {
     "name": "stdout",
     "output_type": "stream",
     "text": [
      "The angle of refraction is 9.18, theoretical: 12.16\n"
     ]
    }
   ],
   "source": [
    "# Calculate the angle or refraction\n",
    "x =  66.4#37.5 # (36.4 + 35.6)/2. # distance between sipm and lens\n",
    "theta = atan(dist_between_peaks/x)\n",
    "\n",
    "# Convert to degrees\n",
    "print(\"The angle of refraction is \"+str(round(theta*360/(2*pi),2))+', theoretical: 12.16')"
   ]
  },
  {
   "cell_type": "code",
   "execution_count": 18,
   "id": "silent-reaction",
   "metadata": {},
   "outputs": [
    {
     "ename": "SyntaxError",
     "evalue": "invalid syntax (<ipython-input-18-0605c4e1081c>, line 2)",
     "output_type": "error",
     "traceback": [
      "\u001b[1;36m  File \u001b[1;32m\"<ipython-input-18-0605c4e1081c>\"\u001b[1;36m, line \u001b[1;32m2\u001b[0m\n\u001b[1;33m    eff = (WithGrating_voltage[])/max(BelowGrating_voltage)\u001b[0m\n\u001b[1;37m                               ^\u001b[0m\n\u001b[1;31mSyntaxError\u001b[0m\u001b[1;31m:\u001b[0m invalid syntax\n"
     ]
    }
   ],
   "source": [
    "# Light Collection efficiency summed peaks\n",
    "eff = (sum([WithGrating_voltage[i] for i in peaks]))/max(BelowGrating_voltage)\n",
    "print('Light collection efficiency summing peaks (Grating/below grating) = ' + str(round(eff,4)*100)+'%')\n",
    "\n",
    "eff = (sum([WithGrating_voltage[i] for i in peaks]))/max(BelowMount_voltage)\n",
    "print('Light collection efficiency summing peaks (Grating/below mount) = ' + str(round(eff,4)*100)+'%')"
   ]
  },
  {
   "cell_type": "code",
   "execution_count": null,
   "id": "capital-kruger",
   "metadata": {},
   "outputs": [],
   "source": []
  }
 ],
 "metadata": {
  "kernelspec": {
   "display_name": "Python 3",
   "language": "python",
   "name": "python3"
  },
  "language_info": {
   "codemirror_mode": {
    "name": "ipython",
    "version": 3
   },
   "file_extension": ".py",
   "mimetype": "text/x-python",
   "name": "python",
   "nbconvert_exporter": "python",
   "pygments_lexer": "ipython3",
   "version": "3.8.0"
  }
 },
 "nbformat": 4,
 "nbformat_minor": 5
}
