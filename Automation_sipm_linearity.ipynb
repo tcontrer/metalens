{
 "cells": [
  {
   "cell_type": "markdown",
   "id": "angry-welding",
   "metadata": {},
   "source": [
    "# Diffraction Studies Automation\n",
    "written by: Taylor Contreras, Feb 5 2021\n",
    "\n",
    "This code controls the automation of the oscilliscope and the motors to take measurements of the light intensity of a SiPM. An LED is aligned with a diffraction grating in front of the SiPM. The SiPM and LED are on tracks that can move vertically. This allows the calibration of the SiPM with no light and for the measurement of light intensity as a function of angle from the diffraction grating. \n",
    "\n",
    "See other notebooks for more details and tests (PyVisa_tutorial.ipynb, Ardruino_testing.ipynb, Motot_control_testing.ipynb)"
   ]
  },
  {
   "cell_type": "code",
   "execution_count": 1,
   "id": "piano-polish",
   "metadata": {},
   "outputs": [],
   "source": [
    "from motor import Motor\n",
    "import oscilliscope as osc\n",
    "import alignment\n",
    "import run\n",
    "\n",
    "import pyvisa\n",
    "import pyfirmata"
   ]
  },
  {
   "cell_type": "markdown",
   "id": "roman-timber",
   "metadata": {},
   "source": [
    "#### Connect to the oscilliscope"
   ]
  },
  {
   "cell_type": "code",
   "execution_count": 7,
   "id": "ideal-cornell",
   "metadata": {
    "scrolled": true
   },
   "outputs": [
    {
     "data": {
      "text/plain": [
       "('USB0::0x05FF::0x1023::4206N21552::INSTR', 'ASRL3::INSTR', 'ASRL10::INSTR')"
      ]
     },
     "execution_count": 7,
     "metadata": {},
     "output_type": "execute_result"
    }
   ],
   "source": [
    "# Before running, connect the laptop to the oscilloscope through the USBTMC\n",
    "rm = pyvisa.ResourceManager()\n",
    "# Use the name this prints to grab the instrument in the next step\n",
    "rm.list_resources() "
   ]
  },
  {
   "cell_type": "code",
   "execution_count": 8,
   "id": "turned-attitude",
   "metadata": {},
   "outputs": [
    {
     "data": {
      "text/plain": [
       "'*IDN LECROY,WAVERUNNER8054,LCRY4206N21552,8.5.1\\n'"
      ]
     },
     "execution_count": 8,
     "metadata": {},
     "output_type": "execute_result"
    }
   ],
   "source": [
    "# Grabs the instrument and prints name\n",
    "scope = rm.open_resource('USB0::0x05FF::0x1023::4206N21552::INSTR')\n",
    "scope.query('*IDN?')"
   ]
  },
  {
   "cell_type": "code",
   "execution_count": null,
   "id": "worthy-agriculture",
   "metadata": {},
   "outputs": [],
   "source": []
  },
  {
   "cell_type": "markdown",
   "id": "burning-parameter",
   "metadata": {},
   "source": [
    "#### Connect to the Arduino"
   ]
  },
  {
   "cell_type": "code",
   "execution_count": 10,
   "id": "thousand-mixture",
   "metadata": {},
   "outputs": [],
   "source": [
    "# Use Arduino IDE to find the port name\n",
    "# under Tools->Port\n",
    "# This time is was COM3\n",
    "board = pyfirmata.Arduino('COM3') "
   ]
  },
  {
   "cell_type": "code",
   "execution_count": null,
   "id": "renewable-shoot",
   "metadata": {},
   "outputs": [],
   "source": [
    "# Creat sipm and led motor class objects\n",
    "sipm_step_pin = 8\n",
    "sipm_dir_pin = 9\n",
    "led_step_pin = 10\n",
    "led_dir_pin = 11\n",
    "sipm_motor = Motor(board, sipm_step_pin, sipm_dir_pin, 'sipm')\n",
    "led_motor = Motor(board, led_step_pin, led_dir_pin, 'led')"
   ]
  },
  {
   "cell_type": "markdown",
   "id": "aging-grove",
   "metadata": {},
   "source": [
    "#### Global variables"
   ]
  },
  {
   "cell_type": "code",
   "execution_count": 11,
   "id": "numeric-proxy",
   "metadata": {},
   "outputs": [],
   "source": [
    "MAX_Z = 231. # Mazimum allowable height in mm\n",
    "GRATING_LED_POSITION = 70. # LED position for alignment with grating\n",
    "BELOW_GRATING_LED_POSITION = 67 # LED position for alignment below grating\n",
    "BELOW_MOUNT_LED_POSITION = 45 # LED position for alignment below grating\n",
    "SIPM_OFFSET = 10 #14.355 # Difference in height between SiPM and LeD for direct alignment. LED is lower.\n",
    "NUM_SWEEPS = 1"
   ]
  },
  {
   "cell_type": "code",
   "execution_count": 87,
   "id": "developing-biodiversity",
   "metadata": {},
   "outputs": [
    {
     "name": "stdout",
     "output_type": "stream",
     "text": [
      "[2.63005474e-06]\n"
     ]
    },
    {
     "data": {
      "text/plain": [
       "2.6300547364375e-06"
      ]
     },
     "execution_count": 87,
     "metadata": {},
     "output_type": "execute_result"
    }
   ],
   "source": [
    "scope.timeout = 5000\n",
    "scope.clear()\n",
    "r = scope.query(r\"\"\"vbs? 'return=app.WaitUntilIdle(5)' \"\"\")\n",
    "osc.MeasureIntegral(scope) #- dark_count"
   ]
  },
  {
   "cell_type": "code",
   "execution_count": 89,
   "id": "wooden-difficulty",
   "metadata": {},
   "outputs": [
    {
     "data": {
      "text/plain": [
       "[<matplotlib.lines.Line2D at 0xaf4e50>]"
      ]
     },
     "execution_count": 89,
     "metadata": {},
     "output_type": "execute_result"
    },
    {
     "data": {
      "image/png": "[encoded data removed]",
      "text/plain": [
       "<Figure size 432x288 with 1 Axes>"
      ]
     },
     "metadata": {
      "needs_background": "light"
     },
     "output_type": "display_data"
    }
   ],
   "source": [
    "plt.plot([0.5,1,1.5,2,2.5], [5.77843184e-07,1.12341454e-06,1.61156342e-06,2.16820547e-06,2.63005474e-06])"
   ]
  },
  {
   "cell_type": "code",
   "execution_count": 10,
   "id": "universal-television",
   "metadata": {},
   "outputs": [
    {
     "name": "stdout",
     "output_type": "stream",
     "text": [
      "[2.11424128e-07]\n",
      "[4.35627603e-07]\n",
      "[5.56773815e-07]\n",
      "[5.995821e-07]\n",
      "[3.24867964e-07]\n",
      "[5.09133091e-07]\n",
      "[7.97855898e-07]\n",
      "[7.5294032e-07]\n",
      "[7.84230605e-07]\n",
      "[5.84005369e-07]\n",
      "[8.31627732e-07]\n",
      "[8.94014986e-07]\n",
      "[9.09506075e-07]\n",
      "[8.20229124e-07]\n",
      "[1.00596098e-06]\n",
      "[8.27278038e-07]\n",
      "[9.1245194e-07]\n",
      "[1.166631e-06]\n",
      "[1.12343716e-06]\n",
      "[1.24514341e-06]\n",
      "[1.13828484e-06]\n",
      "[1.19157189e-06]\n",
      "[1.21867012e-06]\n",
      "[1.29190669e-06]\n",
      "[1.37493923e-06]\n",
      "[1.40884538e-06]\n",
      "[1.45140288e-06]\n",
      "[1.55215915e-06]\n",
      "[1.44447997e-06]\n",
      "[1.50341641e-06]\n",
      "[1.65741062e-06]\n",
      "[1.61826326e-06]\n",
      "[1.34971669e-06]\n",
      "[1.43507139e-06]\n",
      "[1.53238867e-06]\n",
      "[1.83557669e-06]\n",
      "[1.93726645e-06]\n",
      "[1.65237659e-06]\n",
      "[1.68339496e-06]\n",
      "[1.88418981e-06]\n",
      "[1.83952592e-06]\n",
      "[1.9317051e-06]\n",
      "[1.92985251e-06]\n",
      "[1.93922901e-06]\n",
      "[2.25560582e-06]\n",
      "[2.08530999e-06]\n",
      "[1.99928846e-06]\n",
      "[1.94425764e-06]\n",
      "[2.03843683e-06]\n",
      "[2.1621724e-06]\n",
      "[2.35390891e-06]\n",
      "[2.03428376e-06]\n",
      "[2.10235786e-06]\n",
      "[2.31778955e-06]\n",
      "[2.24572517e-06]\n",
      "[2.47243678e-06]\n",
      "[2.31181247e-06]\n",
      "[2.29714277e-06]\n",
      "[2.51953969e-06]\n",
      "[2.51310691e-06]\n",
      "[2.62492118e-06]\n",
      "[2.5162696e-06]\n",
      "[2.37289462e-06]\n",
      "[2.40994615e-06]\n",
      "[2.44801303e-06]\n",
      "[2.50165695e-06]\n",
      "[2.65914267e-06]\n",
      "[2.55621093e-06]\n",
      "[2.51227955e-06]\n",
      "[2.63038085e-06]\n",
      "[2.63761996e-06]\n",
      "[2.5805803e-06]\n",
      "[3.01151706e-06]\n",
      "[2.81444075e-06]\n",
      "[2.91718019e-06]\n",
      "[2.77366384e-06]\n",
      "[3.05013077e-06]\n",
      "[3.07927664e-06]\n",
      "[2.79145184e-06]\n",
      "[3.03132482e-06]\n",
      "[3.09589737e-06]\n",
      "[2.86093787e-06]\n",
      "[2.9042209e-06]\n",
      "[2.81825085e-06]\n",
      "[3.08222466e-06]\n",
      "[3.09253933e-06]\n",
      "[3.53386032e-06]\n",
      "[3.14296383e-06]\n",
      "[3.29267688e-06]\n",
      "[3.35533686e-06]\n",
      "[3.16201154e-06]\n",
      "[3.43315227e-06]\n",
      "[3.19112041e-06]\n",
      "[3.46252507e-06]\n",
      "[3.60265225e-06]\n",
      "[3.44245838e-06]\n",
      "[3.24701403e-06]\n",
      "[3.47112055e-06]\n",
      "[3.37613564e-06]\n",
      "[3.55369104e-06]\n"
     ]
    }
   ],
   "source": [
    "values = []\n",
    "for i in range(100):\n",
    "    scope.timeout = 5000\n",
    "    scope.clear()\n",
    "    r = scope.query(r\"\"\"vbs? 'return=app.WaitUntilIdle(5)' \"\"\")\n",
    "    values.append(osc.MeasureIntegral(scope)) #- dark_count\n",
    "    time.sleep(2)"
   ]
  },
  {
   "cell_type": "code",
   "execution_count": 12,
   "id": "other-links",
   "metadata": {},
   "outputs": [
    {
     "data": {
      "text/plain": [
       "[<matplotlib.lines.Line2D at 0x1005058>]"
      ]
     },
     "execution_count": 12,
     "metadata": {},
     "output_type": "execute_result"
    },
    {
     "data": {
      "image/png": "[encoded data removed]",
      "text/plain": [
       "<Figure size 432x288 with 1 Axes>"
      ]
     },
     "metadata": {
      "needs_background": "light"
     },
     "output_type": "display_data"
    }
   ],
   "source": [
    "mid_V_values = values\n",
    "plt.plot(np.arange(0.03,3.0,0.03), mid_V_values)"
   ]
  },
  {
   "cell_type": "code",
   "execution_count": 13,
   "id": "divided-montana",
   "metadata": {},
   "outputs": [],
   "source": [
    "file_name = 'linearity_mid.csv'\n",
    "with open(file_name, mode='w') as file:\n",
    "    writer = csv.writer(file)\n",
    "    \n",
    "    writer.writerow(mid_V_values)\n",
    "    "
   ]
  },
  {
   "cell_type": "code",
   "execution_count": 125,
   "id": "secure-rhythm",
   "metadata": {},
   "outputs": [
    {
     "ename": "ModuleNotFoundError",
     "evalue": "No module named 'statsmodels.formul'",
     "output_type": "error",
     "traceback": [
      "\u001b[1;31m---------------------------------------------------------------------------\u001b[0m",
      "\u001b[1;31mModuleNotFoundError\u001b[0m                       Traceback (most recent call last)",
      "\u001b[1;32m<ipython-input-125-853d2b903ed0>\u001b[0m in \u001b[0;36m<module>\u001b[1;34m\u001b[0m\n\u001b[1;32m----> 1\u001b[1;33m \u001b[1;32mimport\u001b[0m \u001b[0mstatsmodels\u001b[0m\u001b[1;33m.\u001b[0m\u001b[0mformul\u001b[0m\u001b[1;33m.\u001b[0m\u001b[0mapi\u001b[0m \u001b[1;32mas\u001b[0m \u001b[0msmf\u001b[0m\u001b[1;33m\u001b[0m\u001b[1;33m\u001b[0m\u001b[0m\n\u001b[0m",
      "\u001b[1;31mModuleNotFoundError\u001b[0m: No module named 'statsmodels.formul'"
     ]
    }
   ],
   "source": [
    "import statsmodels.formul.api as smf"
   ]
  },
  {
   "cell_type": "code",
   "execution_count": 100,
   "id": "organic-chorus",
   "metadata": {},
   "outputs": [
    {
     "data": {
      "text/plain": [
       "[<matplotlib.lines.Line2D at 0xd43370>]"
      ]
     },
     "execution_count": 100,
     "metadata": {},
     "output_type": "execute_result"
    },
    {
     "data": {
      "image/png": "[encoded data removed]",
      "text/plain": [
       "<Figure size 432x288 with 1 Axes>"
      ]
     },
     "metadata": {
      "needs_background": "light"
     },
     "output_type": "display_data"
    }
   ],
   "source": [
    "plt.plot(np.arange(0.1,5.1,0.1),values)"
   ]
  },
  {
   "cell_type": "code",
   "execution_count": 117,
   "id": "domestic-reach",
   "metadata": {},
   "outputs": [
    {
     "data": {
      "text/plain": [
       "6.666666666666667"
      ]
     },
     "execution_count": 117,
     "metadata": {},
     "output_type": "execute_result"
    }
   ],
   "source": [
    "2*200/60"
   ]
  },
  {
   "cell_type": "code",
   "execution_count": null,
   "id": "outstanding-stadium",
   "metadata": {},
   "outputs": [],
   "source": []
  },
  {
   "cell_type": "code",
   "execution_count": 104,
   "id": "czech-insured",
   "metadata": {},
   "outputs": [
    {
     "name": "stdout",
     "output_type": "stream",
     "text": [
      "[1.11164254e-07]\n",
      "[1.55244017e-07]\n",
      "[2.69694133e-07]\n",
      "[1.56732001e-07]\n",
      "[2.78875551e-07]\n",
      "[2.89189618e-07]\n",
      "[2.03036937e-07]\n",
      "[3.34557723e-07]\n",
      "[1.68486604e-07]\n",
      "[1.82997292e-07]\n",
      "[3.3349311e-07]\n",
      "[3.53815194e-07]\n",
      "[2.17715605e-07]\n",
      "[3.09326525e-07]\n",
      "[1.93790115e-07]\n",
      "[4.32825639e-07]\n",
      "[4.55021166e-07]\n",
      "[3.66344645e-07]\n",
      "[3.491266e-07]\n",
      "[4.58088823e-07]\n",
      "[3.86738215e-07]\n",
      "[4.60606317e-07]\n",
      "[5.71799712e-07]\n",
      "[5.00632904e-07]\n",
      "[5.1215532e-07]\n",
      "[5.3234181e-07]\n",
      "[4.63856538e-07]\n",
      "[4.77187636e-07]\n",
      "[4.13909173e-07]\n",
      "[4.30336819e-07]\n"
     ]
    }
   ],
   "source": [
    "#values = []\n",
    "for i in range(30):\n",
    "    scope.timeout = 5000\n",
    "    scope.clear()\n",
    "    r = scope.query(r\"\"\"vbs? 'return=app.WaitUntilIdle(5)' \"\"\")\n",
    "    values.append(osc.MeasureIntegral(scope)) #- dark_count\n",
    "    time.sleep(2)"
   ]
  },
  {
   "cell_type": "code",
   "execution_count": 105,
   "id": "ordered-throat",
   "metadata": {},
   "outputs": [
    {
     "data": {
      "text/plain": [
       "[<matplotlib.lines.Line2D at 0xddb0d0>]"
      ]
     },
     "execution_count": 105,
     "metadata": {},
     "output_type": "execute_result"
    },
    {
     "data": {
      "image/png": "[encoded data removed]",
      "text/plain": [
       "<Figure size 432x288 with 1 Axes>"
      ]
     },
     "metadata": {
      "needs_background": "light"
     },
     "output_type": "display_data"
    }
   ],
   "source": [
    "plt.plot(np.arange(0.02,0.82,0.01),values)"
   ]
  },
  {
   "cell_type": "code",
   "execution_count": 113,
   "id": "copyrighted-island",
   "metadata": {},
   "outputs": [
    {
     "data": {
      "text/plain": [
       "[<matplotlib.lines.Line2D at 0xe49d30>]"
      ]
     },
     "execution_count": 113,
     "metadata": {},
     "output_type": "execute_result"
    },
    {
     "data": {
      "image/png": "[encoded data removed]",
      "text/plain": [
       "<Figure size 432x288 with 1 Axes>"
      ]
     },
     "metadata": {
      "needs_background": "light"
     },
     "output_type": "display_data"
    }
   ],
   "source": [
    "#small_V_values = values\n",
    "plt.plot(np.arange(0.02,0.82,0.01),small_V_values)"
   ]
  },
  {
   "cell_type": "code",
   "execution_count": 128,
   "id": "built-ballot",
   "metadata": {},
   "outputs": [],
   "source": [
    "# Make sure to close the connection (in teh reverse order of setting it up)\n",
    "scope.close()\n",
    "rm.close()"
   ]
  },
  {
   "cell_type": "code",
   "execution_count": null,
   "id": "sunrise-ecology",
   "metadata": {},
   "outputs": [],
   "source": []
  }
 ],
 "metadata": {
  "kernelspec": {
   "display_name": "Python 3",
   "language": "python",
   "name": "python3"
  },
  "language_info": {
   "codemirror_mode": {
    "name": "ipython",
    "version": 3
   },
   "file_extension": ".py",
   "mimetype": "text/x-python",
   "name": "python",
   "nbconvert_exporter": "python",
   "pygments_lexer": "ipython3",
   "version": "3.8.0"
  }
 },
 "nbformat": 4,
 "nbformat_minor": 5
}
