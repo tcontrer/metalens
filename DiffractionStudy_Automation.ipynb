{
 "cells": [
  {
   "cell_type": "markdown",
   "id": "hired-equipment",
   "metadata": {},
   "source": [
    "# Diffraction Studies Automation\n",
    "written by: Taylor Contreras, Feb 5 2021\n",
    "\n",
    "This code controls the automation of the oscilliscope and the motors to take measurements of the light intensity of a SiPM. An LED is aligned with a diffraction grating in front of the SiPM. The SiPM and LED are on tracks that can move vertically. This allows the calibration of the SiPM with no light and for the measurement of light intensity as a function of angle from the diffraction grating. \n",
    "\n",
    "See other notebooks for more details and tests (PyVisa_tutorial.ipynb, Ardruino_testing.ipynb, Motot_control_testing.ipynb)"
   ]
  },
  {
   "cell_type": "code",
   "execution_count": 1,
   "id": "weird-choir",
   "metadata": {},
   "outputs": [],
   "source": [
    "from motor import Motor\n",
    "import oscilliscope as osc\n",
    "import alignment\n",
    "import run\n",
    "\n",
    "import pyvisa\n",
    "import pyfirmata"
   ]
  },
  {
   "cell_type": "markdown",
   "id": "corporate-reserve",
   "metadata": {},
   "source": [
    "#### Connect to the oscilliscope"
   ]
  },
  {
   "cell_type": "code",
   "execution_count": 2,
   "id": "related-philosophy",
   "metadata": {
    "scrolled": true
   },
   "outputs": [
    {
     "data": {
      "text/plain": [
       "('USB0::0x05FF::0x1023::4206N21552::INSTR',\n",
       " 'ASRL3::INSTR',\n",
       " 'ASRL4::INSTR',\n",
       " 'ASRL10::INSTR')"
      ]
     },
     "execution_count": 2,
     "metadata": {},
     "output_type": "execute_result"
    }
   ],
   "source": [
    "# Before running, connect the laptop to the oscilloscope through the USBTMC\n",
    "rm = pyvisa.ResourceManager()\n",
    "# Use the name this prints to grab the instrument in the next step\n",
    "rm.list_resources() "
   ]
  },
  {
   "cell_type": "code",
   "execution_count": 3,
   "id": "olympic-occasions",
   "metadata": {},
   "outputs": [],
   "source": [
    "# Grabs the instrument and prints name\n",
    "scope = rm.open_resource('USB0::0x05FF::0x1023::4206N21552::INSTR')"
   ]
  },
  {
   "cell_type": "markdown",
   "id": "discrete-change",
   "metadata": {},
   "source": [
    "#### Connect to the Arduino"
   ]
  },
  {
   "cell_type": "code",
   "execution_count": 4,
   "id": "starting-triple",
   "metadata": {},
   "outputs": [],
   "source": [
    "# Use Arduino IDE to find the port name\n",
    "# under Tools->Port\n",
    "# This time is was COM3\n",
    "board = pyfirmata.Arduino('COM3') "
   ]
  },
  {
   "cell_type": "code",
   "execution_count": 5,
   "id": "governing-melbourne",
   "metadata": {},
   "outputs": [],
   "source": [
    "# Creat sipm and led motor class objects\n",
    "sipm_step_pin = 8\n",
    "sipm_dir_pin = 9\n",
    "led_step_pin = 10\n",
    "led_dir_pin = 11\n",
    "sipm_motor = Motor(board, sipm_step_pin, sipm_dir_pin, 'sipm')\n",
    "led_motor = Motor(board, led_step_pin, led_dir_pin, 'led')\n",
    "#sipm_motor.CreatePositionFile()\n",
    "#led_motor.CreatePositionFile()"
   ]
  },
  {
   "cell_type": "markdown",
   "id": "british-stylus",
   "metadata": {},
   "source": [
    "#### Global variables"
   ]
  },
  {
   "cell_type": "code",
   "execution_count": 6,
   "id": "residential-stick",
   "metadata": {},
   "outputs": [],
   "source": [
    "MAX_Z = 231. # Mazimum allowable height in mm\n",
    "GRATING_LED_POSITION = 70. # LED position for alignment with grating\n",
    "BELOW_GRATING_LED_POSITION = 67 # LED position for alignment below grating\n",
    "BELOW_MOUNT_LED_POSITION = 45 # LED position for alignment below grating\n",
    "SIPM_OFFSET = 13.86 #14.355 # Difference in height between SiPM and LeD for direct alignment. LED is lower.\n",
    "NUM_SWEEPS = 15"
   ]
  },
  {
   "cell_type": "code",
   "execution_count": 7,
   "id": "concrete-consideration",
   "metadata": {},
   "outputs": [],
   "source": [
    "alignment.Align(sipm_motor, led_motor, 'grating')"
   ]
  },
  {
   "cell_type": "code",
   "execution_count": 66,
   "id": "reliable-davis",
   "metadata": {},
   "outputs": [],
   "source": [
    "sipm_motor.SetToZero()\n",
    "led_motor.SettoZero()"
   ]
  },
  {
   "cell_type": "code",
   "execution_count": 51,
   "id": "norman-barcelona",
   "metadata": {},
   "outputs": [],
   "source": [
    "alignment.Align(sipm_motor, led_motor, \"below_grating\")"
   ]
  },
  {
   "cell_type": "code",
   "execution_count": 58,
   "id": "welsh-hungarian",
   "metadata": {},
   "outputs": [
    {
     "data": {
      "text/plain": [
       "0.0645624865137506"
      ]
     },
     "execution_count": 58,
     "metadata": {},
     "output_type": "execute_result"
    }
   ],
   "source": [
    "osc.MeasurePeaktoPeak()"
   ]
  },
  {
   "cell_type": "code",
   "execution_count": 68,
   "id": "stunning-church",
   "metadata": {},
   "outputs": [
    {
     "data": {
      "text/plain": [
       "'150/150'"
      ]
     },
     "metadata": {},
     "output_type": "display_data"
    },
    {
     "name": "stdout",
     "output_type": "stream",
     "text": [
      "Saving Global Variables\n"
     ]
    },
    {
     "data": {
      "image/png": "[encoded data removed]",
      "text/plain": [
       "<Figure size 432x288 with 1 Axes>"
      ]
     },
     "metadata": {
      "needs_background": "light"
     },
     "output_type": "display_data"
    }
   ],
   "source": [
    "run.Run('run001_distilled_water_data_50ns_15sweeps.csv')"
   ]
  },
  {
   "cell_type": "code",
   "execution_count": null,
   "id": "educational-attack",
   "metadata": {},
   "outputs": [],
   "source": [
    "# Make sure to close the connection (in teh reverse order of setting it up)\n",
    "scope.close()\n",
    "rm.close()"
   ]
  }
 ],
 "metadata": {
  "kernelspec": {
   "display_name": "Python 3",
   "language": "python",
   "name": "python3"
  },
  "language_info": {
   "codemirror_mode": {
    "name": "ipython",
    "version": 3
   },
   "file_extension": ".py",
   "mimetype": "text/x-python",
   "name": "python",
   "nbconvert_exporter": "python",
   "pygments_lexer": "ipython3",
   "version": "3.8.0"
  }
 },
 "nbformat": 4,
 "nbformat_minor": 5
}
