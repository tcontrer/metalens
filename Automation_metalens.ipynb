{
 "cells": [
  {
   "cell_type": "markdown",
   "id": "hired-equipment",
   "metadata": {},
   "source": [
    "# Metalens Studies Automation\n",
    "written by: Taylor Contreras, Feb 5 2021\n",
    "\n",
    "This code controls the automation of the oscilliscope and the motors to take measurements of the light intensity of a SiPM. An LED is aligned with a diffraction grating in front of the SiPM. The SiPM and LED are on tracks that can move vertically. This allows the calibration of the SiPM with no light and for the measurement of light intensity as a function of angle from the diffraction grating. \n",
    "\n",
    "See other notebooks for more details and tests (PyVisa_tutorial.ipynb, Ardruino_testing.ipynb, Motot_control_testing.ipynb)"
   ]
  },
  {
   "cell_type": "code",
   "execution_count": 1,
   "id": "weird-choir",
   "metadata": {},
   "outputs": [],
   "source": [
    "from motor import Motor\n",
    "import oscilloscope as osc\n",
    "from metalens_experiment import Experiment\n",
    "import matplotlib.pyplot as plt\n",
    "from IPython.display import display, clear_output\n",
    "import csv\n",
    "import pyvisa\n",
    "import pyfirmata\n",
    "import numpy as np\n",
    "import time"
   ]
  },
  {
   "cell_type": "markdown",
   "id": "handmade-stamp",
   "metadata": {},
   "source": [
    "## Save Data Function"
   ]
  },
  {
   "cell_type": "code",
   "execution_count": 5,
   "id": "interior-south",
   "metadata": {},
   "outputs": [],
   "source": [
    "file_name = 'run03_metalens_100ns_10sweeps.csv'\n",
    "def SaveScanMaxesData(file_name, position_lens, position_led, positions_sipm, maxes, rot_angle):\n",
    "    with open('data/'+file_name, mode='w') as file:\n",
    "                writer = csv.writer(file)\n",
    "                \n",
    "                writer.writerow(['position_lens'])\n",
    "                writer.writerow([position_lens]) \n",
    "                writer.writerow(['position_led'])\n",
    "                writer.writerow([position_led])\n",
    "                writer.writerow(['positions_sipm'])\n",
    "                writer.writerow(positions_sipm)\n",
    "                writer.writerow(['maxes'])\n",
    "                writer.writerow(maxes)\n",
    "                writer.writerow(['rotation'])\n",
    "                writer.writerow([rot_angle])"
   ]
  },
  {
   "cell_type": "markdown",
   "id": "corporate-reserve",
   "metadata": {},
   "source": [
    "### Connect to the oscilliscope"
   ]
  },
  {
   "cell_type": "code",
   "execution_count": 6,
   "id": "related-philosophy",
   "metadata": {
    "scrolled": true
   },
   "outputs": [
    {
     "data": {
      "text/plain": [
       "('USB0::0x05FF::0x1023::4206N21552::INSTR',\n",
       " 'ASRL3::INSTR',\n",
       " 'ASRL10::INSTR',\n",
       " 'ASRL12::INSTR')"
      ]
     },
     "execution_count": 6,
     "metadata": {},
     "output_type": "execute_result"
    }
   ],
   "source": [
    "# Before running, connect the laptop to the oscilloscope through the USBTMC\n",
    "rm = pyvisa.ResourceManager()\n",
    "# Use the name this prints to grab the instrument in the next step\n",
    "rm.list_resources() "
   ]
  },
  {
   "cell_type": "code",
   "execution_count": 7,
   "id": "olympic-occasions",
   "metadata": {},
   "outputs": [],
   "source": [
    "# Grabs the instrument and prints name\n",
    "scope = rm.open_resource('USB0::0x05FF::0x1023::4206N21552::INSTR')"
   ]
  },
  {
   "cell_type": "markdown",
   "id": "discrete-change",
   "metadata": {},
   "source": [
    "### Connect to the Arduino"
   ]
  },
  {
   "cell_type": "code",
   "execution_count": 2,
   "id": "starting-triple",
   "metadata": {},
   "outputs": [],
   "source": [
    "# Use Arduino IDE to find the port name\n",
    "# under Tools->Port\n",
    "# This time is was COM3\n",
    "board1 = pyfirmata.Arduino('COM3')\n",
    "#board2 = pyfirmata.Arduino('COM6')\n",
    "\n",
    "# must set iterator in order to take input (the button)\n",
    "# make sure to run only once\n",
    "it1 = pyfirmata.util.Iterator(board1)\n",
    "it1.start()\n",
    "#it2 = pyfirmata.util.Iterator(board2)\n",
    "#it2.start()"
   ]
  },
  {
   "cell_type": "code",
   "execution_count": null,
   "id": "collect-polls",
   "metadata": {},
   "outputs": [],
   "source": []
  },
  {
   "cell_type": "markdown",
   "id": "scheduled-removal",
   "metadata": {},
   "source": [
    "### Make 'exp' to hold all the experiment objects and variables"
   ]
  },
  {
   "cell_type": "code",
   "execution_count": 8,
   "id": "governing-melbourne",
   "metadata": {},
   "outputs": [],
   "source": [
    "# Creat sipm and led motor class objects\n",
    "sipm_step_pin = 8\n",
    "sipm_dir_pin = 9\n",
    "sipm_button_pin = 6\n",
    "led_step_pin = 10\n",
    "led_dir_pin = 11\n",
    "led_button_pin = 5\n",
    "rot_step_pin = 10\n",
    "rot_dir_pin = 11\n",
    "lens_step_pin = 12\n",
    "lens_dir_pin = 13\n",
    "lens_button_pin = 5\n",
    "board1.digital[sipm_button_pin].mode = pyfirmata.INPUT\n",
    "board1.digital[lens_button_pin].mode = pyfirmata.INPUT\n",
    "sipm_motor = Motor(board1, sipm_step_pin, sipm_dir_pin, 'sipm', sipm_button_pin) # pos dir is toward motor\n",
    "led_motor = Motor(board1, led_step_pin, led_dir_pin, 'led') # pos dir is up\n",
    "rot_motor = Motor(board1, rot_step_pin, rot_dir_pin, 'rot')\n",
    "lens_motor = Motor(board1, lens_step_pin, lens_dir_pin, 'lens', lens_button_pin) # pos dir is toward motor\n",
    "\n",
    "#sipm_motor.CreatePositionFile()\n",
    "#led_motor.CreatePositionFile()"
   ]
  },
  {
   "cell_type": "code",
   "execution_count": 9,
   "id": "competitive-notion",
   "metadata": {},
   "outputs": [],
   "source": [
    "exp = Experiment(rot_motor, lens_motor, led_motor, sipm_motor, scope, align_with_file=True)"
   ]
  },
  {
   "cell_type": "code",
   "execution_count": 10,
   "id": "alert-spotlight",
   "metadata": {},
   "outputs": [
    {
     "name": "stdout",
     "output_type": "stream",
     "text": [
      "---Experiment---\n",
      "Motor name: lens\n",
      "    Step pin: 12\n",
      "    Dir pin: 13\n",
      "    Button pin: 5\n",
      "Motor name: sipm\n",
      "    Step pin: 8\n",
      "    Dir pin: 9\n",
      "    Button pin: 6\n",
      "Motor name: rot\n",
      "    Step pin: 10\n",
      "    Dir pin: 11\n",
      "    Button pin: 0\n",
      "LED motor off\n",
      "--Alignments--\n",
      "    sipm_center = 65.27\n",
      "    led_center = 268.02289179238477\n",
      "    lens_center = 323.515\n",
      "    lens_diam = 9.8\n",
      "    mount_center = 177.0\n",
      "    mount_left_outer_edge = 311.71500000000003\n",
      "    mount_left_inner_edge = 317.71500000000003\n",
      "    mount_diam = 10.6\n",
      "    rot_center = 19851\n",
      "Oscilloscope: *IDN LECROY,WAVERUNNER8054,LCRY4206N21552,8.5.1\n",
      "\n",
      "    Number of Sweeps: 15\n"
     ]
    }
   ],
   "source": [
    "exp.PrintInfo()"
   ]
  },
  {
   "cell_type": "markdown",
   "id": "applied-density",
   "metadata": {},
   "source": [
    "#### Tests and examples of movements and measurements"
   ]
  },
  {
   "cell_type": "code",
   "execution_count": 8,
   "id": "voluntary-briefing",
   "metadata": {},
   "outputs": [
    {
     "name": "stdout",
     "output_type": "stream",
     "text": [
      "LED motor is off. Switch motors to align\n"
     ]
    }
   ],
   "source": [
    "exp.Align()"
   ]
  },
  {
   "cell_type": "code",
   "execution_count": 26,
   "id": "sophisticated-desktop",
   "metadata": {},
   "outputs": [
    {
     "data": {
      "text/plain": [
       "0.0281551661028061"
      ]
     },
     "execution_count": 26,
     "metadata": {},
     "output_type": "execute_result"
    }
   ],
   "source": [
    "osc.MeasurePeaktoPeak(scope, 10)"
   ]
  },
  {
   "cell_type": "code",
   "execution_count": 1381,
   "id": "beautiful-guidance",
   "metadata": {},
   "outputs": [
    {
     "name": "stdout",
     "output_type": "stream",
     "text": [
      "Manually connect rot motor and disconnect led motor\n"
     ]
    }
   ],
   "source": [
    "exp.SwitchMotor('rot')"
   ]
  },
  {
   "cell_type": "code",
   "execution_count": 1387,
   "id": "racial-homeless",
   "metadata": {},
   "outputs": [],
   "source": [
    "exp.RotateLens(180)"
   ]
  },
  {
   "cell_type": "code",
   "execution_count": 189,
   "id": "capital-nashville",
   "metadata": {
    "scrolled": true
   },
   "outputs": [
    {
     "ename": "SerialException",
     "evalue": "WriteFile failed (PermissionError(13, 'The device does not recognize the command.', None, 22))",
     "output_type": "error",
     "traceback": [
      "\u001b[1;31m---------------------------------------------------------------------------\u001b[0m",
      "\u001b[1;31mSerialException\u001b[0m                           Traceback (most recent call last)",
      "\u001b[1;32m<ipython-input-189-de0f5bdebf35>\u001b[0m in \u001b[0;36m<module>\u001b[1;34m\u001b[0m\n\u001b[1;32m----> 1\u001b[1;33m \u001b[0mexp\u001b[0m\u001b[1;33m.\u001b[0m\u001b[0msipm_motor\u001b[0m\u001b[1;33m.\u001b[0m\u001b[0mMoveMotor\u001b[0m\u001b[1;33m(\u001b[0m\u001b[1;36m10\u001b[0m\u001b[1;33m)\u001b[0m\u001b[1;33m\u001b[0m\u001b[1;33m\u001b[0m\u001b[0m\n\u001b[0m",
      "\u001b[1;32m~\\Documents\\DiffractionStudies\\metalens\\motor.py\u001b[0m in \u001b[0;36mMoveMotor\u001b[1;34m(self, distance, ignore_limits, sleep_per_step)\u001b[0m\n\u001b[0;32m     96\u001b[0m         \u001b[0mdx_per_step\u001b[0m \u001b[1;33m=\u001b[0m \u001b[1;36m.005\u001b[0m \u001b[1;31m# mm\u001b[0m\u001b[1;33m\u001b[0m\u001b[1;33m\u001b[0m\u001b[0m\n\u001b[0;32m     97\u001b[0m         \u001b[0mnum_steps\u001b[0m \u001b[1;33m=\u001b[0m \u001b[0mint\u001b[0m\u001b[1;33m(\u001b[0m\u001b[0mdistance\u001b[0m \u001b[1;33m//\u001b[0m \u001b[0mdx_per_step\u001b[0m\u001b[1;33m)\u001b[0m\u001b[1;33m\u001b[0m\u001b[1;33m\u001b[0m\u001b[0m\n\u001b[1;32m---> 98\u001b[1;33m         \u001b[0mself\u001b[0m\u001b[1;33m.\u001b[0m\u001b[0mMoveSteps\u001b[0m\u001b[1;33m(\u001b[0m\u001b[0mnum_steps\u001b[0m\u001b[1;33m,\u001b[0m \u001b[0mignore_limits\u001b[0m\u001b[1;33m,\u001b[0m \u001b[0msleep_per_step\u001b[0m\u001b[1;33m)\u001b[0m\u001b[1;33m\u001b[0m\u001b[1;33m\u001b[0m\u001b[0m\n\u001b[0m\u001b[0;32m     99\u001b[0m \u001b[1;33m\u001b[0m\u001b[0m\n\u001b[0;32m    100\u001b[0m         \u001b[1;32mreturn\u001b[0m\u001b[1;33m\u001b[0m\u001b[1;33m\u001b[0m\u001b[0m\n",
      "\u001b[1;32m~\\Documents\\DiffractionStudies\\metalens\\motor.py\u001b[0m in \u001b[0;36mMoveSteps\u001b[1;34m(self, num_steps, ignore_button, sleep_per_step)\u001b[0m\n\u001b[0;32m     76\u001b[0m                     \u001b[0mself\u001b[0m\u001b[1;33m.\u001b[0m\u001b[0mAlertAtEdge\u001b[0m\u001b[1;33m(\u001b[0m\u001b[0mnum_steps\u001b[0m\u001b[1;33m//\u001b[0m\u001b[0mabs\u001b[0m\u001b[1;33m(\u001b[0m\u001b[0mnum_steps\u001b[0m\u001b[1;33m)\u001b[0m\u001b[1;33m)\u001b[0m\u001b[1;33m\u001b[0m\u001b[1;33m\u001b[0m\u001b[0m\n\u001b[0;32m     77\u001b[0m                     \u001b[1;32mbreak\u001b[0m\u001b[1;33m\u001b[0m\u001b[1;33m\u001b[0m\u001b[0m\n\u001b[1;32m---> 78\u001b[1;33m             \u001b[0mself\u001b[0m\u001b[1;33m.\u001b[0m\u001b[0mstep\u001b[0m\u001b[1;33m(\u001b[0m\u001b[0mmotor_direction\u001b[0m\u001b[1;33m)\u001b[0m\u001b[1;33m\u001b[0m\u001b[1;33m\u001b[0m\u001b[0m\n\u001b[0m\u001b[0;32m     79\u001b[0m             \u001b[1;32mif\u001b[0m \u001b[0msleep_per_step\u001b[0m\u001b[1;33m>\u001b[0m\u001b[1;36m0\u001b[0m\u001b[1;33m:\u001b[0m \u001b[0mtime\u001b[0m\u001b[1;33m.\u001b[0m\u001b[0msleep\u001b[0m\u001b[1;33m(\u001b[0m\u001b[0msleep_per_step\u001b[0m\u001b[1;33m)\u001b[0m\u001b[1;33m\u001b[0m\u001b[1;33m\u001b[0m\u001b[0m\n\u001b[0;32m     80\u001b[0m \u001b[1;33m\u001b[0m\u001b[0m\n",
      "\u001b[1;32m~\\Documents\\DiffractionStudies\\metalens\\motor.py\u001b[0m in \u001b[0;36mstep\u001b[1;34m(self, direction)\u001b[0m\n\u001b[0;32m     44\u001b[0m         \"\"\"\n\u001b[0;32m     45\u001b[0m         \u001b[0mself\u001b[0m\u001b[1;33m.\u001b[0m\u001b[0mboard\u001b[0m\u001b[1;33m.\u001b[0m\u001b[0mdigital\u001b[0m\u001b[1;33m[\u001b[0m\u001b[0mself\u001b[0m\u001b[1;33m.\u001b[0m\u001b[0mdir_pin\u001b[0m\u001b[1;33m]\u001b[0m\u001b[1;33m.\u001b[0m\u001b[0mwrite\u001b[0m\u001b[1;33m(\u001b[0m\u001b[0mdirection\u001b[0m\u001b[1;33m)\u001b[0m \u001b[1;31m# direction pin\u001b[0m\u001b[1;33m\u001b[0m\u001b[1;33m\u001b[0m\u001b[0m\n\u001b[1;32m---> 46\u001b[1;33m         \u001b[0mself\u001b[0m\u001b[1;33m.\u001b[0m\u001b[0mboard\u001b[0m\u001b[1;33m.\u001b[0m\u001b[0mdigital\u001b[0m\u001b[1;33m[\u001b[0m\u001b[0mself\u001b[0m\u001b[1;33m.\u001b[0m\u001b[0mstep_pin\u001b[0m\u001b[1;33m]\u001b[0m\u001b[1;33m.\u001b[0m\u001b[0mwrite\u001b[0m\u001b[1;33m(\u001b[0m\u001b[1;36m1\u001b[0m\u001b[1;33m)\u001b[0m\u001b[1;33m\u001b[0m\u001b[1;33m\u001b[0m\u001b[0m\n\u001b[0m\u001b[0;32m     47\u001b[0m         \u001b[1;31m#time.sleep(.01) # lowest windows can get is 10ms, motor runs faster if we remove the time delay\u001b[0m\u001b[1;33m\u001b[0m\u001b[1;33m\u001b[0m\u001b[1;33m\u001b[0m\u001b[0m\n\u001b[0;32m     48\u001b[0m         \u001b[0mself\u001b[0m\u001b[1;33m.\u001b[0m\u001b[0mboard\u001b[0m\u001b[1;33m.\u001b[0m\u001b[0mdigital\u001b[0m\u001b[1;33m[\u001b[0m\u001b[0mself\u001b[0m\u001b[1;33m.\u001b[0m\u001b[0mstep_pin\u001b[0m\u001b[1;33m]\u001b[0m\u001b[1;33m.\u001b[0m\u001b[0mwrite\u001b[0m\u001b[1;33m(\u001b[0m\u001b[1;36m0\u001b[0m\u001b[1;33m)\u001b[0m\u001b[1;33m\u001b[0m\u001b[1;33m\u001b[0m\u001b[0m\n",
      "\u001b[1;32mc:\\users\\owner\\appdata\\local\\programs\\python\\python38-32\\lib\\site-packages\\pyfirmata\\pyfirmata.py\u001b[0m in \u001b[0;36mwrite\u001b[1;34m(self, value)\u001b[0m\n\u001b[0;32m    536\u001b[0m             \u001b[1;32mif\u001b[0m \u001b[0mself\u001b[0m\u001b[1;33m.\u001b[0m\u001b[0mmode\u001b[0m \u001b[1;32mis\u001b[0m \u001b[0mOUTPUT\u001b[0m\u001b[1;33m:\u001b[0m\u001b[1;33m\u001b[0m\u001b[1;33m\u001b[0m\u001b[0m\n\u001b[0;32m    537\u001b[0m                 \u001b[1;32mif\u001b[0m \u001b[0mself\u001b[0m\u001b[1;33m.\u001b[0m\u001b[0mport\u001b[0m\u001b[1;33m:\u001b[0m\u001b[1;33m\u001b[0m\u001b[1;33m\u001b[0m\u001b[0m\n\u001b[1;32m--> 538\u001b[1;33m                     \u001b[0mself\u001b[0m\u001b[1;33m.\u001b[0m\u001b[0mport\u001b[0m\u001b[1;33m.\u001b[0m\u001b[0mwrite\u001b[0m\u001b[1;33m(\u001b[0m\u001b[1;33m)\u001b[0m\u001b[1;33m\u001b[0m\u001b[1;33m\u001b[0m\u001b[0m\n\u001b[0m\u001b[0;32m    539\u001b[0m                 \u001b[1;32melse\u001b[0m\u001b[1;33m:\u001b[0m\u001b[1;33m\u001b[0m\u001b[1;33m\u001b[0m\u001b[0m\n\u001b[0;32m    540\u001b[0m                     \u001b[0mmsg\u001b[0m \u001b[1;33m=\u001b[0m \u001b[0mbytearray\u001b[0m\u001b[1;33m(\u001b[0m\u001b[1;33m[\u001b[0m\u001b[0mDIGITAL_MESSAGE\u001b[0m\u001b[1;33m,\u001b[0m \u001b[0mself\u001b[0m\u001b[1;33m.\u001b[0m\u001b[0mpin_number\u001b[0m\u001b[1;33m,\u001b[0m \u001b[0mvalue\u001b[0m\u001b[1;33m]\u001b[0m\u001b[1;33m)\u001b[0m\u001b[1;33m\u001b[0m\u001b[1;33m\u001b[0m\u001b[0m\n",
      "\u001b[1;32mc:\\users\\owner\\appdata\\local\\programs\\python\\python38-32\\lib\\site-packages\\pyfirmata\\pyfirmata.py\u001b[0m in \u001b[0;36mwrite\u001b[1;34m(self)\u001b[0m\n\u001b[0;32m    428\u001b[0m \u001b[1;31m#        print(\"type pinnr\", type(pin_nr))\u001b[0m\u001b[1;33m\u001b[0m\u001b[1;33m\u001b[0m\u001b[1;33m\u001b[0m\u001b[0m\n\u001b[0;32m    429\u001b[0m         \u001b[0mmsg\u001b[0m \u001b[1;33m=\u001b[0m \u001b[0mbytearray\u001b[0m\u001b[1;33m(\u001b[0m\u001b[1;33m[\u001b[0m\u001b[0mDIGITAL_MESSAGE\u001b[0m \u001b[1;33m+\u001b[0m \u001b[0mself\u001b[0m\u001b[1;33m.\u001b[0m\u001b[0mport_number\u001b[0m\u001b[1;33m,\u001b[0m \u001b[0mmask\u001b[0m \u001b[1;33m%\u001b[0m \u001b[1;36m128\u001b[0m\u001b[1;33m,\u001b[0m \u001b[0mmask\u001b[0m \u001b[1;33m>>\u001b[0m \u001b[1;36m7\u001b[0m\u001b[1;33m]\u001b[0m\u001b[1;33m)\u001b[0m\u001b[1;33m\u001b[0m\u001b[1;33m\u001b[0m\u001b[0m\n\u001b[1;32m--> 430\u001b[1;33m         \u001b[0mself\u001b[0m\u001b[1;33m.\u001b[0m\u001b[0mboard\u001b[0m\u001b[1;33m.\u001b[0m\u001b[0msp\u001b[0m\u001b[1;33m.\u001b[0m\u001b[0mwrite\u001b[0m\u001b[1;33m(\u001b[0m\u001b[0mmsg\u001b[0m\u001b[1;33m)\u001b[0m\u001b[1;33m\u001b[0m\u001b[1;33m\u001b[0m\u001b[0m\n\u001b[0m\u001b[0;32m    431\u001b[0m \u001b[1;33m\u001b[0m\u001b[0m\n\u001b[0;32m    432\u001b[0m     \u001b[1;32mdef\u001b[0m \u001b[0m_update\u001b[0m\u001b[1;33m(\u001b[0m\u001b[0mself\u001b[0m\u001b[1;33m,\u001b[0m \u001b[0mmask\u001b[0m\u001b[1;33m)\u001b[0m\u001b[1;33m:\u001b[0m\u001b[1;33m\u001b[0m\u001b[1;33m\u001b[0m\u001b[0m\n",
      "\u001b[1;32mc:\\users\\owner\\appdata\\local\\programs\\python\\python38-32\\lib\\site-packages\\serial\\serialwin32.py\u001b[0m in \u001b[0;36mwrite\u001b[1;34m(self, data)\u001b[0m\n\u001b[0;32m    315\u001b[0m             \u001b[1;32mif\u001b[0m \u001b[0mself\u001b[0m\u001b[1;33m.\u001b[0m\u001b[0m_write_timeout\u001b[0m \u001b[1;33m!=\u001b[0m \u001b[1;36m0\u001b[0m\u001b[1;33m:\u001b[0m  \u001b[1;31m# if blocking (None) or w/ write timeout (>0)\u001b[0m\u001b[1;33m\u001b[0m\u001b[1;33m\u001b[0m\u001b[0m\n\u001b[0;32m    316\u001b[0m                 \u001b[1;32mif\u001b[0m \u001b[1;32mnot\u001b[0m \u001b[0msuccess\u001b[0m \u001b[1;32mand\u001b[0m \u001b[0mwin32\u001b[0m\u001b[1;33m.\u001b[0m\u001b[0mGetLastError\u001b[0m\u001b[1;33m(\u001b[0m\u001b[1;33m)\u001b[0m \u001b[1;32mnot\u001b[0m \u001b[1;32min\u001b[0m \u001b[1;33m(\u001b[0m\u001b[0mwin32\u001b[0m\u001b[1;33m.\u001b[0m\u001b[0mERROR_SUCCESS\u001b[0m\u001b[1;33m,\u001b[0m \u001b[0mwin32\u001b[0m\u001b[1;33m.\u001b[0m\u001b[0mERROR_IO_PENDING\u001b[0m\u001b[1;33m)\u001b[0m\u001b[1;33m:\u001b[0m\u001b[1;33m\u001b[0m\u001b[1;33m\u001b[0m\u001b[0m\n\u001b[1;32m--> 317\u001b[1;33m                     \u001b[1;32mraise\u001b[0m \u001b[0mSerialException\u001b[0m\u001b[1;33m(\u001b[0m\u001b[1;34m\"WriteFile failed ({!r})\"\u001b[0m\u001b[1;33m.\u001b[0m\u001b[0mformat\u001b[0m\u001b[1;33m(\u001b[0m\u001b[0mctypes\u001b[0m\u001b[1;33m.\u001b[0m\u001b[0mWinError\u001b[0m\u001b[1;33m(\u001b[0m\u001b[1;33m)\u001b[0m\u001b[1;33m)\u001b[0m\u001b[1;33m)\u001b[0m\u001b[1;33m\u001b[0m\u001b[1;33m\u001b[0m\u001b[0m\n\u001b[0m\u001b[0;32m    318\u001b[0m \u001b[1;33m\u001b[0m\u001b[0m\n\u001b[0;32m    319\u001b[0m                 \u001b[1;31m# Wait for the write to complete.\u001b[0m\u001b[1;33m\u001b[0m\u001b[1;33m\u001b[0m\u001b[1;33m\u001b[0m\u001b[0m\n",
      "\u001b[1;31mSerialException\u001b[0m: WriteFile failed (PermissionError(13, 'The device does not recognize the command.', None, 22))"
     ]
    }
   ],
   "source": [
    "exp.sipm_motor.MoveMotor(10)"
   ]
  },
  {
   "cell_type": "code",
   "execution_count": 175,
   "id": "permanent-benjamin",
   "metadata": {},
   "outputs": [],
   "source": [
    "for i in range(50):\n",
    "    exp.sipm_motor.MoveMotor(-0.2)\n",
    "    time.sleep(0.25)"
   ]
  },
  {
   "cell_type": "code",
   "execution_count": 155,
   "id": "finite-canvas",
   "metadata": {},
   "outputs": [],
   "source": [
    "exp.lens_motor.MoveMotor(-5)"
   ]
  },
  {
   "cell_type": "code",
   "execution_count": 167,
   "id": "willing-miracle",
   "metadata": {},
   "outputs": [],
   "source": [
    "exp.lens_motor.MoveMotor(-5)"
   ]
  },
  {
   "cell_type": "code",
   "execution_count": 233,
   "id": "constitutional-legislature",
   "metadata": {},
   "outputs": [
    {
     "name": "stdout",
     "output_type": "stream",
     "text": [
      "Manually connect rot motor and disconnect led motor\n"
     ]
    }
   ],
   "source": [
    "exp.SwitchMotor('rot')"
   ]
  },
  {
   "cell_type": "markdown",
   "id": "marked-inflation",
   "metadata": {},
   "source": [
    "# Alignment\n",
    "\n",
    "If you have replaced any pieces inside the dark box, you must first by eye align the sipm, led, and lens centers. Then run the following alignments for the new experimental setup. The alignments take approximately 15 minutes."
   ]
  },
  {
   "cell_type": "markdown",
   "id": "ambient-combining",
   "metadata": {},
   "source": [
    "### Alignment of SiPM and LED"
   ]
  },
  {
   "cell_type": "code",
   "execution_count": 2666,
   "id": "israeli-disco",
   "metadata": {},
   "outputs": [
    {
     "data": {
      "text/plain": [
       "'80/80'"
      ]
     },
     "metadata": {},
     "output_type": "display_data"
    },
    {
     "name": "stdout",
     "output_type": "stream",
     "text": [
      "Old SiPM center = 65.21000000000001\n",
      "New SiPM center = 65.29\n"
     ]
    },
    {
     "data": {
      "text/plain": [
       "Text(0, 0.5, 'Peak to Peak voltage [V]')"
      ]
     },
     "execution_count": 2666,
     "metadata": {},
     "output_type": "execute_result"
    },
    {
     "data": {
      "image/png": "[encoded data removed]",
      "text/plain": [
       "<Figure size 432x288 with 1 Axes>"
      ]
     },
     "metadata": {
      "needs_background": "light"
     },
     "output_type": "display_data"
    }
   ],
   "source": [
    "width=5. \n",
    "num_measurements=80\n",
    "position_led, positions_sipm, maxes = exp.FindSiPMCenter(width, num_measurements)\n",
    "plt.plot(positions_sipm, maxes)\n",
    "plt.xlabel('SiPM position [mm]')\n",
    "plt.ylabel('Peak to Peak voltage [V]')"
   ]
  },
  {
   "cell_type": "code",
   "execution_count": 2667,
   "id": "temporal-lying",
   "metadata": {},
   "outputs": [],
   "source": [
    "exp.Align('sipm')"
   ]
  },
  {
   "cell_type": "code",
   "execution_count": 420,
   "id": "local-ministry",
   "metadata": {},
   "outputs": [],
   "source": []
  },
  {
   "cell_type": "markdown",
   "id": "direct-halifax",
   "metadata": {},
   "source": [
    "### Align the Lens to the LED"
   ]
  },
  {
   "cell_type": "code",
   "execution_count": 2550,
   "id": "framed-anxiety",
   "metadata": {},
   "outputs": [
    {
     "data": {
      "text/plain": [
       "Text(0, 0.5, 'Peak to Peak voltage [V]')"
      ]
     },
     "execution_count": 2550,
     "metadata": {},
     "output_type": "execute_result"
    },
    {
     "data": {
      "image/png": "[encoded data removed]",
      "text/plain": [
       "<Figure size 432x288 with 1 Axes>"
      ]
     },
     "metadata": {
      "needs_background": "light"
     },
     "output_type": "display_data"
    }
   ],
   "source": [
    "width=40.\n",
    "num_measurements=100\n",
    "positions_lens, maxes = exp.ScanLens(width, num_measurements)\n",
    "plt.plot(positions_lens, maxes)\n",
    "plt.xlabel('LED position [mm]')\n",
    "plt.ylabel('Peak to Peak voltage [V]')"
   ]
  },
  {
   "cell_type": "code",
   "execution_count": 2551,
   "id": "linear-technique",
   "metadata": {
    "scrolled": true
   },
   "outputs": [
    {
     "name": "stdout",
     "output_type": "stream",
     "text": [
      "Mount edges 311.73 317.73\n",
      "Mount edges 318.93 328.13\n",
      "Mount edges 329.33 334.93\n"
     ]
    },
    {
     "data": {
      "text/plain": [
       "[<matplotlib.lines.Line2D at 0x27cd30e8>]"
      ]
     },
     "execution_count": 2551,
     "metadata": {},
     "output_type": "execute_result"
    },
    {
     "data": {
      "image/png": "[encoded data removed]",
      "text/plain": [
       "<Figure size 432x288 with 1 Axes>"
      ]
     },
     "metadata": {
      "needs_background": "light"
     },
     "output_type": "display_data"
    }
   ],
   "source": [
    "peak_width=4\n",
    "prominence=0.02\n",
    "lens_data = exp.FindLensData(positions_lens, maxes, peak_width, prominence)\n",
    "plt.plot(lens_data[0], lens_data[1])"
   ]
  },
  {
   "cell_type": "code",
   "execution_count": 298,
   "id": "norwegian-seventh",
   "metadata": {},
   "outputs": [],
   "source": [
    "exp.lens_motor.MoveMotor(276 - exp.lens_motor.GetCurrentPosition())"
   ]
  },
  {
   "cell_type": "code",
   "execution_count": 1392,
   "id": "deluxe-photography",
   "metadata": {},
   "outputs": [],
   "source": [
    "from scipy import signal"
   ]
  },
  {
   "cell_type": "code",
   "execution_count": 1489,
   "id": "accurate-intermediate",
   "metadata": {},
   "outputs": [
    {
     "ename": "TypeError",
     "evalue": "only size-1 arrays can be converted to Python scalars",
     "output_type": "error",
     "traceback": [
      "\u001b[1;31m---------------------------------------------------------------------------\u001b[0m",
      "\u001b[1;31mTypeError\u001b[0m                                 Traceback (most recent call last)",
      "\u001b[1;32m<ipython-input-1489-b3bfcc2e046a>\u001b[0m in \u001b[0;36m<module>\u001b[1;34m\u001b[0m\n\u001b[0;32m      3\u001b[0m \u001b[0mwidths\u001b[0m \u001b[1;33m=\u001b[0m \u001b[0msignal\u001b[0m\u001b[1;33m.\u001b[0m\u001b[0mpeak_widths\u001b[0m\u001b[1;33m(\u001b[0m\u001b[0mlens_data\u001b[0m\u001b[1;33m[\u001b[0m\u001b[1;36m1\u001b[0m\u001b[1;33m]\u001b[0m\u001b[1;33m,\u001b[0m \u001b[0mpeaks\u001b[0m\u001b[1;33m)\u001b[0m\u001b[1;33m\u001b[0m\u001b[1;33m\u001b[0m\u001b[0m\n\u001b[0;32m      4\u001b[0m \u001b[1;33m\u001b[0m\u001b[0m\n\u001b[1;32m----> 5\u001b[1;33m \u001b[0mexp\u001b[0m\u001b[1;33m.\u001b[0m\u001b[0malignments\u001b[0m\u001b[1;33m[\u001b[0m\u001b[1;34m'lens_center'\u001b[0m\u001b[1;33m]\u001b[0m \u001b[1;33m=\u001b[0m \u001b[1;33m(\u001b[0m\u001b[0mlens_data\u001b[0m\u001b[1;33m[\u001b[0m\u001b[1;36m0\u001b[0m\u001b[1;33m]\u001b[0m\u001b[1;33m[\u001b[0m\u001b[0mint\u001b[0m\u001b[1;33m(\u001b[0m\u001b[0mwidths\u001b[0m\u001b[1;33m[\u001b[0m\u001b[1;36m3\u001b[0m\u001b[1;33m]\u001b[0m\u001b[1;33m)\u001b[0m\u001b[1;33m]\u001b[0m \u001b[1;33m+\u001b[0m \u001b[0mlens_data\u001b[0m\u001b[1;33m[\u001b[0m\u001b[1;36m0\u001b[0m\u001b[1;33m]\u001b[0m\u001b[1;33m[\u001b[0m\u001b[0mint\u001b[0m\u001b[1;33m(\u001b[0m\u001b[0mwidths\u001b[0m\u001b[1;33m[\u001b[0m\u001b[1;36m2\u001b[0m\u001b[1;33m]\u001b[0m\u001b[1;33m)\u001b[0m\u001b[1;33m]\u001b[0m\u001b[1;33m)\u001b[0m\u001b[1;33m/\u001b[0m\u001b[1;36m2.\u001b[0m\u001b[1;33m\u001b[0m\u001b[1;33m\u001b[0m\u001b[0m\n\u001b[0m",
      "\u001b[1;31mTypeError\u001b[0m: only size-1 arrays can be converted to Python scalars"
     ]
    }
   ],
   "source": [
    "from scipy import signal\n",
    "peaks, _ = signal.find_peaks(lens_data[1], prominence=.01)\n",
    "widths = signal.peak_widths(lens_data[1], peaks)\n",
    "\n",
    "exp.alignments['lens_center'] = (lens_data[0][int(widths[3])] + lens_data[0][int(widths[2])])/2."
   ]
  },
  {
   "cell_type": "code",
   "execution_count": 1493,
   "id": "necessary-apollo",
   "metadata": {},
   "outputs": [
    {
     "data": {
      "image/png": "[encoded data removed]",
      "text/plain": [
       "<Figure size 432x288 with 1 Axes>"
      ]
     },
     "metadata": {
      "needs_background": "light"
     },
     "output_type": "display_data"
    }
   ],
   "source": [
    "exp.FindLensCenter(lens_data, glass_prominence=0.001)"
   ]
  },
  {
   "cell_type": "code",
   "execution_count": 1412,
   "id": "human-radar",
   "metadata": {},
   "outputs": [],
   "source": [
    "exp.Align('sipm')\n",
    "exp.Align('lens')"
   ]
  },
  {
   "cell_type": "markdown",
   "id": "instant-portable",
   "metadata": {},
   "source": [
    "#### Only run if the data is too noisy"
   ]
  },
  {
   "cell_type": "code",
   "execution_count": 633,
   "id": "worst-chrome",
   "metadata": {},
   "outputs": [
    {
     "ename": "ValueError",
     "evalue": "The length of the input vector x must be greater than padlen, which is 50.",
     "output_type": "error",
     "traceback": [
      "\u001b[1;31m---------------------------------------------------------------------------\u001b[0m",
      "\u001b[1;31mValueError\u001b[0m                                Traceback (most recent call last)",
      "\u001b[1;32m<ipython-input-633-036f8972d881>\u001b[0m in \u001b[0;36m<module>\u001b[1;34m\u001b[0m\n\u001b[0;32m      2\u001b[0m \u001b[0mb\u001b[0m\u001b[1;33m,\u001b[0m \u001b[0ma\u001b[0m \u001b[1;33m=\u001b[0m \u001b[0msignal\u001b[0m\u001b[1;33m.\u001b[0m\u001b[0mellip\u001b[0m\u001b[1;33m(\u001b[0m\u001b[1;36m2\u001b[0m\u001b[1;33m,\u001b[0m \u001b[1;36m0.1\u001b[0m\u001b[1;33m,\u001b[0m \u001b[1;36m120\u001b[0m\u001b[1;33m,\u001b[0m \u001b[1;36m0.125\u001b[0m\u001b[1;33m)\u001b[0m  \u001b[1;31m# Filter to be applied.\u001b[0m\u001b[1;33m\u001b[0m\u001b[1;33m\u001b[0m\u001b[0m\n\u001b[0;32m      3\u001b[0m \u001b[0mfgust\u001b[0m \u001b[1;33m=\u001b[0m \u001b[0msignal\u001b[0m\u001b[1;33m.\u001b[0m\u001b[0mfiltfilt\u001b[0m\u001b[1;33m(\u001b[0m\u001b[0mb\u001b[0m\u001b[1;33m,\u001b[0m \u001b[0ma\u001b[0m\u001b[1;33m,\u001b[0m \u001b[0mlens_data\u001b[0m\u001b[1;33m[\u001b[0m\u001b[1;36m1\u001b[0m\u001b[1;33m]\u001b[0m\u001b[1;33m,\u001b[0m \u001b[0mmethod\u001b[0m\u001b[1;33m=\u001b[0m\u001b[1;34m\"gust\"\u001b[0m\u001b[1;33m)\u001b[0m\u001b[1;33m\u001b[0m\u001b[1;33m\u001b[0m\u001b[0m\n\u001b[1;32m----> 4\u001b[1;33m \u001b[0mfpad\u001b[0m \u001b[1;33m=\u001b[0m \u001b[0msignal\u001b[0m\u001b[1;33m.\u001b[0m\u001b[0mfiltfilt\u001b[0m\u001b[1;33m(\u001b[0m\u001b[0mb\u001b[0m\u001b[1;33m,\u001b[0m \u001b[0ma\u001b[0m\u001b[1;33m,\u001b[0m \u001b[0mlens_data\u001b[0m\u001b[1;33m[\u001b[0m\u001b[1;36m1\u001b[0m\u001b[1;33m]\u001b[0m\u001b[1;33m,\u001b[0m \u001b[0mpadlen\u001b[0m\u001b[1;33m=\u001b[0m\u001b[1;36m50\u001b[0m\u001b[1;33m)\u001b[0m\u001b[1;33m\u001b[0m\u001b[1;33m\u001b[0m\u001b[0m\n\u001b[0m\u001b[0;32m      5\u001b[0m \u001b[0mplt\u001b[0m\u001b[1;33m.\u001b[0m\u001b[0mplot\u001b[0m\u001b[1;33m(\u001b[0m\u001b[0mlens_data\u001b[0m\u001b[1;33m[\u001b[0m\u001b[1;36m1\u001b[0m\u001b[1;33m]\u001b[0m\u001b[1;33m,\u001b[0m \u001b[1;34m'k-'\u001b[0m\u001b[1;33m,\u001b[0m \u001b[0mlabel\u001b[0m\u001b[1;33m=\u001b[0m\u001b[1;34m'input'\u001b[0m\u001b[1;33m)\u001b[0m\u001b[1;33m\u001b[0m\u001b[1;33m\u001b[0m\u001b[0m\n\u001b[0;32m      6\u001b[0m \u001b[0mplt\u001b[0m\u001b[1;33m.\u001b[0m\u001b[0mplot\u001b[0m\u001b[1;33m(\u001b[0m\u001b[0mfgust\u001b[0m\u001b[1;33m,\u001b[0m \u001b[1;34m'b-'\u001b[0m\u001b[1;33m,\u001b[0m \u001b[0mlinewidth\u001b[0m\u001b[1;33m=\u001b[0m\u001b[1;36m4\u001b[0m\u001b[1;33m,\u001b[0m \u001b[0mlabel\u001b[0m\u001b[1;33m=\u001b[0m\u001b[1;34m'gust'\u001b[0m\u001b[1;33m)\u001b[0m\u001b[1;33m\u001b[0m\u001b[1;33m\u001b[0m\u001b[0m\n",
      "\u001b[1;32mc:\\users\\owner\\appdata\\local\\programs\\python\\python38-32\\lib\\site-packages\\scipy\\signal\\signaltools.py\u001b[0m in \u001b[0;36mfiltfilt\u001b[1;34m(b, a, x, axis, padtype, padlen, method, irlen)\u001b[0m\n\u001b[0;32m   4027\u001b[0m \u001b[1;33m\u001b[0m\u001b[0m\n\u001b[0;32m   4028\u001b[0m     \u001b[1;31m# method == \"pad\"\u001b[0m\u001b[1;33m\u001b[0m\u001b[1;33m\u001b[0m\u001b[1;33m\u001b[0m\u001b[0m\n\u001b[1;32m-> 4029\u001b[1;33m     edge, ext = _validate_pad(padtype, padlen, x, axis,\n\u001b[0m\u001b[0;32m   4030\u001b[0m                               ntaps=max(len(a), len(b)))\n\u001b[0;32m   4031\u001b[0m \u001b[1;33m\u001b[0m\u001b[0m\n",
      "\u001b[1;32mc:\\users\\owner\\appdata\\local\\programs\\python\\python38-32\\lib\\site-packages\\scipy\\signal\\signaltools.py\u001b[0m in \u001b[0;36m_validate_pad\u001b[1;34m(padtype, padlen, x, axis, ntaps)\u001b[0m\n\u001b[0;32m   4077\u001b[0m     \u001b[1;31m# x's 'axis' dimension must be bigger than edge.\u001b[0m\u001b[1;33m\u001b[0m\u001b[1;33m\u001b[0m\u001b[1;33m\u001b[0m\u001b[0m\n\u001b[0;32m   4078\u001b[0m     \u001b[1;32mif\u001b[0m \u001b[0mx\u001b[0m\u001b[1;33m.\u001b[0m\u001b[0mshape\u001b[0m\u001b[1;33m[\u001b[0m\u001b[0maxis\u001b[0m\u001b[1;33m]\u001b[0m \u001b[1;33m<=\u001b[0m \u001b[0medge\u001b[0m\u001b[1;33m:\u001b[0m\u001b[1;33m\u001b[0m\u001b[1;33m\u001b[0m\u001b[0m\n\u001b[1;32m-> 4079\u001b[1;33m         raise ValueError(\"The length of the input vector x must be greater \"\n\u001b[0m\u001b[0;32m   4080\u001b[0m                          \"than padlen, which is %d.\" % edge)\n\u001b[0;32m   4081\u001b[0m \u001b[1;33m\u001b[0m\u001b[0m\n",
      "\u001b[1;31mValueError\u001b[0m: The length of the input vector x must be greater than padlen, which is 50."
     ]
    }
   ],
   "source": [
    "from scipy import signal\n",
    "b, a = signal.ellip(2, 0.1, 120, 0.125)  # Filter to be applied.\n",
    "fgust = signal.filtfilt(b, a, lens_data[1], method=\"gust\")\n",
    "fpad = signal.filtfilt(b, a, lens_data[1], padlen=50)\n",
    "plt.plot(lens_data[1], 'k-', label='input')\n",
    "plt.plot(fgust, 'b-', linewidth=4, label='gust')\n",
    "plt.plot(fpad, 'c-', linewidth=1.5, label='pad')\n",
    "plt.legend(loc='best')\n",
    "plt.show()\n",
    "\n",
    "smoothed_maxes = fgust"
   ]
  },
  {
   "cell_type": "code",
   "execution_count": 46,
   "id": "detailed-nursing",
   "metadata": {},
   "outputs": [
    {
     "data": {
      "image/png": "[encoded data removed]",
      "text/plain": [
       "<Figure size 432x288 with 1 Axes>"
      ]
     },
     "metadata": {
      "needs_background": "light"
     },
     "output_type": "display_data"
    }
   ],
   "source": [
    "smoothed_lens_data = [lens_data[0], smoothed_maxes]\n",
    "exp.FindLensCenter(smoothed_lens_data)"
   ]
  },
  {
   "cell_type": "code",
   "execution_count": 77,
   "id": "fiscal-subcommittee",
   "metadata": {},
   "outputs": [
    {
     "data": {
      "image/png": "[encoded data removed]",
      "text/plain": [
       "<Figure size 432x288 with 1 Axes>"
      ]
     },
     "metadata": {
      "needs_background": "light"
     },
     "output_type": "display_data"
    }
   ],
   "source": [
    "plt.plot(lens_data[0], lens_data[1], label='data')\n",
    "plt.vlines(exp.alignments['lens_center'] - exp.alignments['lens_diam']/2., 0,.15, color='r', label='lens edges')\n",
    "plt.vlines(exp.alignments['lens_center'] + exp.alignments['lens_diam']/2., 0, .15, color='r')\n",
    "plt.vlines(exp.alignments['lens_center'], 0, .15, color='y', label='lens_center')\n",
    "plt.vlines(exp.alignments['mount_left_inner_edge'], 0., .25, color='k')\n",
    "plt.xlabel('Lens position [mm]')\n",
    "plt.ylabel('SiPM signal [V]')\n",
    "plt.legend()\n",
    "plt.show()"
   ]
  },
  {
   "cell_type": "code",
   "execution_count": 117,
   "id": "tough-humidity",
   "metadata": {},
   "outputs": [
    {
     "name": "stdout",
     "output_type": "stream",
     "text": [
      "LED motor is off. Switch motors to align\n"
     ]
    }
   ],
   "source": [
    "exp.Align()"
   ]
  },
  {
   "cell_type": "code",
   "execution_count": 1245,
   "id": "personal-innocent",
   "metadata": {},
   "outputs": [],
   "source": []
  },
  {
   "cell_type": "markdown",
   "id": "eastern-macintosh",
   "metadata": {},
   "source": [
    "### Align the lens do be perpindicular with the beam\n",
    "You must make sure the rotation motor is connected and  not the LED motor."
   ]
  },
  {
   "cell_type": "code",
   "execution_count": 1470,
   "id": "quality-flower",
   "metadata": {},
   "outputs": [
    {
     "name": "stdout",
     "output_type": "stream",
     "text": [
      "Manually connect rot motor and disconnect led motor\n"
     ]
    }
   ],
   "source": [
    "exp.SwitchMotor('rot')"
   ]
  },
  {
   "cell_type": "code",
   "execution_count": 2552,
   "id": "virgin-privacy",
   "metadata": {},
   "outputs": [],
   "source": [
    "exp.Align('sipm')\n"
   ]
  },
  {
   "cell_type": "code",
   "execution_count": 2572,
   "id": "floating-pointer",
   "metadata": {},
   "outputs": [],
   "source": [
    "width = 10.\n",
    "num_measurements = 50\n",
    "exp.lens_motor.MoveMotor(exp.alignments['mount_left_outer_edge'] - exp.lens_motor.GetCurrentPosition())\n",
    "positions_lens, maxes = exp.ScanLens(width, num_measurements)"
   ]
  },
  {
   "cell_type": "code",
   "execution_count": 1497,
   "id": "random-jersey",
   "metadata": {},
   "outputs": [
    {
     "data": {
      "image/png": "[encoded data removed]",
      "text/plain": [
       "<Figure size 432x288 with 1 Axes>"
      ]
     },
     "metadata": {
      "needs_background": "light"
     },
     "output_type": "display_data"
    }
   ],
   "source": [
    "buffer = .1\n",
    "plt.plot(positions_lens, maxes, label='data')\n",
    "plt.vlines(exp.alignments['mount_left_outer_edge'], 0, .17, 'r', label='edge of mount')\n",
    "plt.vlines(exp.alignments['mount_left_outer_edge']-buffer, 0, .17, 'y', label='just outside mount')\n",
    "plt.xlabel('Lens position [mm]')\n",
    "plt.ylabel('Peak to Peak voltage [V]')\n",
    "plt.legend()\n",
    "plt.show()"
   ]
  },
  {
   "cell_type": "code",
   "execution_count": 2582,
   "id": "expressed-frame",
   "metadata": {},
   "outputs": [
    {
     "data": {
      "text/plain": [
       "'Rot step: 100/100'"
      ]
     },
     "metadata": {},
     "output_type": "display_data"
    },
    {
     "data": {
      "text/plain": [
       "[<matplotlib.lines.Line2D at 0x25541d30>]"
      ]
     },
     "execution_count": 2582,
     "metadata": {},
     "output_type": "execute_result"
    },
    {
     "data": {
      "image/png": "[encoded data removed]",
      "text/plain": [
       "<Figure size 432x288 with 1 Axes>"
      ]
     },
     "metadata": {
      "needs_background": "light"
     },
     "output_type": "display_data"
    }
   ],
   "source": [
    "exp.lens_motor.MoveMotor(exp.alignments['mount_left_outer_edge'] - buffer - exp.lens_motor.GetCurrentPosition())\n",
    "rot_data = exp.ScanRotation(180,100)\n",
    "plt.plot((rot_data[:,0] - rot_data[len(rot_data[:,0])//2,0])*(1.8/8.), rot_data[:,1])\n",
    "#exp.lens_motor.MoveMotor(-(exp.alignments['mount_left_outer_edge'] - buffer - exp.lens_motor.GetCurrentPosition()))"
   ]
  },
  {
   "cell_type": "code",
   "execution_count": 2583,
   "id": "average-california",
   "metadata": {},
   "outputs": [
    {
     "name": "stdout",
     "output_type": "stream",
     "text": [
      "Rotated 0.0 to align\n"
     ]
    },
    {
     "data": {
      "image/png": "[encoded data removed]",
      "text/plain": [
       "<Figure size 432x288 with 1 Axes>"
      ]
     },
     "metadata": {
      "needs_background": "light"
     },
     "output_type": "display_data"
    },
    {
     "name": "stdout",
     "output_type": "stream",
     "text": [
      "19851\n",
      "Rotated 0.0 to align\n"
     ]
    }
   ],
   "source": [
    "old_center = exp.alignments['rot_center']\n",
    "exp.FindLensRotationAlignment(rot_data, prominence=0.02)\n",
    "print(exp.alignments['rot_center'])\n",
    "exp.WriteAlignment()\n",
    "print('Rotated '+str((old_center - exp.alignments['rot_center'])*(1.8/8.))+' to align')"
   ]
  },
  {
   "cell_type": "code",
   "execution_count": 738,
   "id": "imported-writer",
   "metadata": {},
   "outputs": [
    {
     "ename": "IndentationError",
     "evalue": "unexpected indent (<ipython-input-738-20ae84bcd935>, line 2)",
     "output_type": "error",
     "traceback": [
      "\u001b[1;36m  File \u001b[1;32m\"<ipython-input-738-20ae84bcd935>\"\u001b[1;36m, line \u001b[1;32m2\u001b[0m\n\u001b[1;33m    self.rot_motor.MoveSteps(center_step - self.rot_motor.GetCurrentNumSteps())\u001b[0m\n\u001b[1;37m    ^\u001b[0m\n\u001b[1;31mIndentationError\u001b[0m\u001b[1;31m:\u001b[0m unexpected indent\n"
     ]
    }
   ],
   "source": [
    "current_step = self.rot_motor.GetCurrentNumSteps()\n",
    "            self.rot_motor.MoveSteps(center_step - self.rot_motor.GetCurrentNumSteps())\n",
    "            self.alignments['rot_center'] = center_step\n",
    "            print('Rotated '+str((current_step - center_step)*(1.8/8.))+' to align')"
   ]
  },
  {
   "cell_type": "code",
   "execution_count": 2584,
   "id": "optical-venue",
   "metadata": {},
   "outputs": [
    {
     "data": {
      "text/plain": [
       "19851"
      ]
     },
     "execution_count": 2584,
     "metadata": {},
     "output_type": "execute_result"
    }
   ],
   "source": [
    "exp.alignments['rot_center']"
   ]
  },
  {
   "cell_type": "code",
   "execution_count": 2585,
   "id": "selective-momentum",
   "metadata": {},
   "outputs": [
    {
     "data": {
      "text/plain": [
       "19851"
      ]
     },
     "execution_count": 2585,
     "metadata": {},
     "output_type": "execute_result"
    }
   ],
   "source": [
    "exp.rot_motor.GetCurrentNumSteps()"
   ]
  },
  {
   "cell_type": "code",
   "execution_count": 2586,
   "id": "creative-encyclopedia",
   "metadata": {},
   "outputs": [],
   "source": [
    "old_center = exp.alignments['rot_center']\n",
    "exp.rot_motor.MoveMotor(old_center-exp.rot_motor.GetCurrentNumSteps())"
   ]
  },
  {
   "cell_type": "code",
   "execution_count": 2587,
   "id": "lesser-impact",
   "metadata": {},
   "outputs": [],
   "source": [
    "exp.Align('rot')"
   ]
  },
  {
   "cell_type": "code",
   "execution_count": 1476,
   "id": "civilian-advocate",
   "metadata": {},
   "outputs": [],
   "source": [
    "exp.RotateLens(10)"
   ]
  },
  {
   "cell_type": "code",
   "execution_count": 105,
   "id": "critical-perfume",
   "metadata": {},
   "outputs": [],
   "source": [
    "exp.lens_motor.MoveMotor(-10)"
   ]
  },
  {
   "cell_type": "markdown",
   "id": "romance-turner",
   "metadata": {},
   "source": [
    "### Align LED in vertical direction to lens\n",
    "\n",
    "#### ----- Warning -----\n",
    "You must make sure the LED motor is connected, rather than the rotation motor."
   ]
  },
  {
   "cell_type": "code",
   "execution_count": 145,
   "id": "prostate-workplace",
   "metadata": {},
   "outputs": [
    {
     "name": "stdout",
     "output_type": "stream",
     "text": [
      "Manually connect led motor and disconnect rot motor\n"
     ]
    }
   ],
   "source": [
    "exp.SwitchMotor('led')"
   ]
  },
  {
   "cell_type": "code",
   "execution_count": 147,
   "id": "disciplinary-jaguar",
   "metadata": {},
   "outputs": [
    {
     "name": "stdout",
     "output_type": "stream",
     "text": [
      "Rotation motor is off. Switch motors to align\n"
     ]
    }
   ],
   "source": [
    "exp.Align()"
   ]
  },
  {
   "cell_type": "code",
   "execution_count": 106,
   "id": "acute-mouse",
   "metadata": {},
   "outputs": [],
   "source": [
    "width = 10.\n",
    "num_measurements = 30\n",
    "buffer = 0.0\n",
    "exp.lens_motor.MoveMotor(exp.alignments['mount_left_inner_edge'] - exp.lens_motor.GetCurrentPosition() + buffer)\n",
    "#exp.Align()\n",
    "#exp.lens_motor.MoveMotor(-5)\n",
    "positions_lens, maxes = exp.ScanLens(width, num_measurements)\n",
    "#exp.lens_motor.MoveMotor(5)"
   ]
  },
  {
   "cell_type": "code",
   "execution_count": 107,
   "id": "unsigned-emergency",
   "metadata": {
    "scrolled": true
   },
   "outputs": [
    {
     "data": {
      "image/png": "[encoded data removed]",
      "text/plain": [
       "<Figure size 432x288 with 1 Axes>"
      ]
     },
     "metadata": {
      "needs_background": "light"
     },
     "output_type": "display_data"
    }
   ],
   "source": [
    "plt.plot(positions_lens, maxes, label='data')\n",
    "plt.xlabel('Lens position [mm]')\n",
    "plt.ylabel('Peak to Peak voltage [V]')\n",
    "plt.show()"
   ]
  },
  {
   "cell_type": "code",
   "execution_count": 113,
   "id": "completed-textbook",
   "metadata": {},
   "outputs": [
    {
     "data": {
      "image/png": "[encoded data removed]",
      "text/plain": [
       "<Figure size 432x288 with 1 Axes>"
      ]
     },
     "metadata": {
      "needs_background": "light"
     },
     "output_type": "display_data"
    }
   ],
   "source": [
    "led_scan_width = 5.\n",
    "lens_scan_width = 10.\n",
    "num_measurements_led = 5\n",
    "num_measurements_lens = 100\n",
    "led_data = exp.ScanLED(led_scan_width, lens_scan_width, num_measurements_led, num_measurements_lens)\n",
    "\n",
    "for led_step in led_data:\n",
    "    plt.plot(led_step[0], led_step[1], label='LED at '+str(led_step[2])+' mm')\n",
    "plt.xlabel('Lens position [mm]')\n",
    "plt.legend()\n",
    "plt.xlabel('Lens position [mm]')\n",
    "plt.ylabel('Peak to Peak voltage [V]')\n",
    "plt.show()"
   ]
  },
  {
   "cell_type": "code",
   "execution_count": 114,
   "id": "useful-keyboard",
   "metadata": {},
   "outputs": [
    {
     "data": {
      "image/png": "[encoded data removed]",
      "text/plain": [
       "<Figure size 432x288 with 1 Axes>"
      ]
     },
     "metadata": {
      "needs_background": "light"
     },
     "output_type": "display_data"
    },
    {
     "name": "stdout",
     "output_type": "stream",
     "text": [
      "LED Center = 268.02289179238477\n"
     ]
    }
   ],
   "source": [
    "exp.FindLEDCenter(led_data, prominence=0.02, guess=[5., 268., 198.])"
   ]
  },
  {
   "cell_type": "code",
   "execution_count": 125,
   "id": "intermediate-dining",
   "metadata": {},
   "outputs": [
    {
     "name": "stdout",
     "output_type": "stream",
     "text": [
      "LED motor is off. Switch motors to align\n"
     ]
    }
   ],
   "source": [
    "exp.Align()"
   ]
  },
  {
   "cell_type": "code",
   "execution_count": 80,
   "id": "separated-instrumentation",
   "metadata": {},
   "outputs": [],
   "source": [
    "exp.RotateLens(10)"
   ]
  },
  {
   "cell_type": "markdown",
   "id": "blind-kinase",
   "metadata": {},
   "source": [
    "#### Use this code if the data is particulalry noisy and you are having trouble finding peaks"
   ]
  },
  {
   "cell_type": "code",
   "execution_count": 187,
   "id": "approved-invention",
   "metadata": {
    "collapsed": true
   },
   "outputs": [
    {
     "ename": "ValueError",
     "evalue": "The length of the input vector x must be greater than padlen, which is 50.",
     "output_type": "error",
     "traceback": [
      "\u001b[1;31m---------------------------------------------------------------------------\u001b[0m",
      "\u001b[1;31mValueError\u001b[0m                                Traceback (most recent call last)",
      "\u001b[1;32m<ipython-input-187-da04705b3fbc>\u001b[0m in \u001b[0;36m<module>\u001b[1;34m\u001b[0m\n\u001b[0;32m      2\u001b[0m \u001b[0mb\u001b[0m\u001b[1;33m,\u001b[0m \u001b[0ma\u001b[0m \u001b[1;33m=\u001b[0m \u001b[0msignal\u001b[0m\u001b[1;33m.\u001b[0m\u001b[0mellip\u001b[0m\u001b[1;33m(\u001b[0m\u001b[1;36m6\u001b[0m\u001b[1;33m,\u001b[0m \u001b[1;36m0.01\u001b[0m\u001b[1;33m,\u001b[0m \u001b[1;36m120\u001b[0m\u001b[1;33m,\u001b[0m \u001b[1;36m0.125\u001b[0m\u001b[1;33m)\u001b[0m  \u001b[1;31m# Filter to be applied.\u001b[0m\u001b[1;33m\u001b[0m\u001b[1;33m\u001b[0m\u001b[0m\n\u001b[0;32m      3\u001b[0m \u001b[0mfgust\u001b[0m \u001b[1;33m=\u001b[0m \u001b[0msignal\u001b[0m\u001b[1;33m.\u001b[0m\u001b[0mfiltfilt\u001b[0m\u001b[1;33m(\u001b[0m\u001b[0mb\u001b[0m\u001b[1;33m,\u001b[0m \u001b[0ma\u001b[0m\u001b[1;33m,\u001b[0m \u001b[0mmaxes\u001b[0m\u001b[1;33m,\u001b[0m \u001b[0mmethod\u001b[0m\u001b[1;33m=\u001b[0m\u001b[1;34m\"gust\"\u001b[0m\u001b[1;33m)\u001b[0m\u001b[1;33m\u001b[0m\u001b[1;33m\u001b[0m\u001b[0m\n\u001b[1;32m----> 4\u001b[1;33m \u001b[0mfpad\u001b[0m \u001b[1;33m=\u001b[0m \u001b[0msignal\u001b[0m\u001b[1;33m.\u001b[0m\u001b[0mfiltfilt\u001b[0m\u001b[1;33m(\u001b[0m\u001b[0mb\u001b[0m\u001b[1;33m,\u001b[0m \u001b[0ma\u001b[0m\u001b[1;33m,\u001b[0m \u001b[0mmaxes\u001b[0m\u001b[1;33m,\u001b[0m \u001b[0mpadlen\u001b[0m\u001b[1;33m=\u001b[0m\u001b[1;36m50\u001b[0m\u001b[1;33m)\u001b[0m\u001b[1;33m\u001b[0m\u001b[1;33m\u001b[0m\u001b[0m\n\u001b[0m\u001b[0;32m      5\u001b[0m \u001b[0mplt\u001b[0m\u001b[1;33m.\u001b[0m\u001b[0mplot\u001b[0m\u001b[1;33m(\u001b[0m\u001b[0mmaxes\u001b[0m\u001b[1;33m,\u001b[0m \u001b[1;34m'k-'\u001b[0m\u001b[1;33m,\u001b[0m \u001b[0mlabel\u001b[0m\u001b[1;33m=\u001b[0m\u001b[1;34m'input'\u001b[0m\u001b[1;33m)\u001b[0m\u001b[1;33m\u001b[0m\u001b[1;33m\u001b[0m\u001b[0m\n\u001b[0;32m      6\u001b[0m \u001b[0mplt\u001b[0m\u001b[1;33m.\u001b[0m\u001b[0mplot\u001b[0m\u001b[1;33m(\u001b[0m\u001b[0mfgust\u001b[0m\u001b[1;33m,\u001b[0m \u001b[1;34m'b-'\u001b[0m\u001b[1;33m,\u001b[0m \u001b[0mlinewidth\u001b[0m\u001b[1;33m=\u001b[0m\u001b[1;36m4\u001b[0m\u001b[1;33m,\u001b[0m \u001b[0mlabel\u001b[0m\u001b[1;33m=\u001b[0m\u001b[1;34m'gust'\u001b[0m\u001b[1;33m)\u001b[0m\u001b[1;33m\u001b[0m\u001b[1;33m\u001b[0m\u001b[0m\n",
      "\u001b[1;32mc:\\users\\owner\\appdata\\local\\programs\\python\\python38-32\\lib\\site-packages\\scipy\\signal\\signaltools.py\u001b[0m in \u001b[0;36mfiltfilt\u001b[1;34m(b, a, x, axis, padtype, padlen, method, irlen)\u001b[0m\n\u001b[0;32m   4027\u001b[0m \u001b[1;33m\u001b[0m\u001b[0m\n\u001b[0;32m   4028\u001b[0m     \u001b[1;31m# method == \"pad\"\u001b[0m\u001b[1;33m\u001b[0m\u001b[1;33m\u001b[0m\u001b[1;33m\u001b[0m\u001b[0m\n\u001b[1;32m-> 4029\u001b[1;33m     edge, ext = _validate_pad(padtype, padlen, x, axis,\n\u001b[0m\u001b[0;32m   4030\u001b[0m                               ntaps=max(len(a), len(b)))\n\u001b[0;32m   4031\u001b[0m \u001b[1;33m\u001b[0m\u001b[0m\n",
      "\u001b[1;32mc:\\users\\owner\\appdata\\local\\programs\\python\\python38-32\\lib\\site-packages\\scipy\\signal\\signaltools.py\u001b[0m in \u001b[0;36m_validate_pad\u001b[1;34m(padtype, padlen, x, axis, ntaps)\u001b[0m\n\u001b[0;32m   4077\u001b[0m     \u001b[1;31m# x's 'axis' dimension must be bigger than edge.\u001b[0m\u001b[1;33m\u001b[0m\u001b[1;33m\u001b[0m\u001b[1;33m\u001b[0m\u001b[0m\n\u001b[0;32m   4078\u001b[0m     \u001b[1;32mif\u001b[0m \u001b[0mx\u001b[0m\u001b[1;33m.\u001b[0m\u001b[0mshape\u001b[0m\u001b[1;33m[\u001b[0m\u001b[0maxis\u001b[0m\u001b[1;33m]\u001b[0m \u001b[1;33m<=\u001b[0m \u001b[0medge\u001b[0m\u001b[1;33m:\u001b[0m\u001b[1;33m\u001b[0m\u001b[1;33m\u001b[0m\u001b[0m\n\u001b[1;32m-> 4079\u001b[1;33m         raise ValueError(\"The length of the input vector x must be greater \"\n\u001b[0m\u001b[0;32m   4080\u001b[0m                          \"than padlen, which is %d.\" % edge)\n\u001b[0;32m   4081\u001b[0m \u001b[1;33m\u001b[0m\u001b[0m\n",
      "\u001b[1;31mValueError\u001b[0m: The length of the input vector x must be greater than padlen, which is 50."
     ]
    }
   ],
   "source": [
    "from scipy import signal\n",
    "b, a = signal.ellip(6, 0.01, 120, 0.125)  # Filter to be applied.\n",
    "fgust = signal.filtfilt(b, a, maxes, method=\"gust\")\n",
    "fpad = signal.filtfilt(b, a, maxes, padlen=50)\n",
    "plt.plot(maxes, 'k-', label='input')\n",
    "plt.plot(fgust, 'b-', linewidth=4, label='gust')\n",
    "plt.plot(fpad, 'c-', linewidth=1.5, label='pad')\n",
    "plt.legend(loc='best')\n",
    "plt.show()\n",
    "\n",
    "smoothed_maxes = fgust"
   ]
  },
  {
   "cell_type": "code",
   "execution_count": 188,
   "id": "gross-curve",
   "metadata": {},
   "outputs": [
    {
     "data": {
      "text/plain": [
       "(30,)"
      ]
     },
     "execution_count": 188,
     "metadata": {},
     "output_type": "execute_result"
    }
   ],
   "source": [
    "np.shape(maxes)"
   ]
  },
  {
   "cell_type": "markdown",
   "id": "looking-seafood",
   "metadata": {},
   "source": [
    "# Runs"
   ]
  },
  {
   "cell_type": "code",
   "execution_count": 78,
   "id": "specified-impact",
   "metadata": {},
   "outputs": [
    {
     "name": "stdout",
     "output_type": "stream",
     "text": [
      "Manually connect rot motor and disconnect led motor\n"
     ]
    }
   ],
   "source": [
    "exp.SwitchMotor('rot')"
   ]
  },
  {
   "cell_type": "code",
   "execution_count": 118,
   "id": "future-gothic",
   "metadata": {},
   "outputs": [
    {
     "data": {
      "text/plain": [
       "'50/50'"
      ]
     },
     "metadata": {},
     "output_type": "display_data"
    },
    {
     "data": {
      "text/plain": [
       "[<matplotlib.lines.Line2D at 0x1f6bd340>]"
      ]
     },
     "execution_count": 118,
     "metadata": {},
     "output_type": "execute_result"
    },
    {
     "data": {
      "image/png": "[encoded data removed]",
      "text/plain": [
       "<Figure size 432x288 with 1 Axes>"
      ]
     },
     "metadata": {
      "needs_background": "light"
     },
     "output_type": "display_data"
    }
   ],
   "source": [
    "exp.Align()\n",
    "position_led, positions_sipm, maxes = exp.ScanMaxes(width=15., num_measurements=50)\n",
    "plt.plot(positions_sipm, maxes)"
   ]
  },
  {
   "cell_type": "code",
   "execution_count": 122,
   "id": "cellular-proposition",
   "metadata": {},
   "outputs": [
    {
     "data": {
      "text/plain": [
       "'100/100'"
      ]
     },
     "metadata": {},
     "output_type": "display_data"
    },
    {
     "name": "stdout",
     "output_type": "stream",
     "text": [
      "Total run time = 2.434846905867259\n"
     ]
    },
    {
     "data": {
      "image/png": "[encoded data removed]",
      "text/plain": [
       "<Figure size 432x288 with 1 Axes>"
      ]
     },
     "metadata": {
      "needs_background": "light"
     },
     "output_type": "display_data"
    }
   ],
   "source": [
    "start_time = time.time()\n",
    "exp.Align()\n",
    "exp.lens_motor.MoveMotor(3)\n",
    "position_led, positions_sipm, maxes = exp.ScanMaxes(width=60., num_measurements=100)\n",
    "plt.plot(positions_sipm, maxes)\n",
    "end_time = time.time()\n",
    "print('Total run time = '+str((end_time-start_time)/60.))"
   ]
  },
  {
   "cell_type": "code",
   "execution_count": 189,
   "id": "champion-wallace",
   "metadata": {},
   "outputs": [
    {
     "data": {
      "text/plain": [
       "'100/100'"
      ]
     },
     "metadata": {},
     "output_type": "display_data"
    },
    {
     "data": {
      "text/plain": [
       "[<matplotlib.lines.Line2D at 0x12a2a78>]"
      ]
     },
     "execution_count": 189,
     "metadata": {},
     "output_type": "execute_result"
    },
    {
     "data": {
      "image/png": "[encoded data removed]",
      "text/plain": [
       "<Figure size 432x288 with 1 Axes>"
      ]
     },
     "metadata": {
      "needs_background": "light"
     },
     "output_type": "display_data"
    }
   ],
   "source": [
    "exp.Align()\n",
    "exp.RotateLens(180.)\n",
    "exp.lens_motor.MoveMotor(4)\n",
    "position_led, positions_sipm, maxes = exp.ScanMaxes(width=60., num_measurements=100)\n",
    "plt.plot(positions_sipm, maxes)"
   ]
  },
  {
   "cell_type": "markdown",
   "id": "widespread-howard",
   "metadata": {},
   "source": [
    "# Take dark noise data"
   ]
  },
  {
   "cell_type": "code",
   "execution_count": 119,
   "id": "severe-roberts",
   "metadata": {},
   "outputs": [
    {
     "data": {
      "text/plain": [
       "'200/200'"
      ]
     },
     "metadata": {},
     "output_type": "display_data"
    },
    {
     "ename": "NameError",
     "evalue": "name 'SaveScanMaxesData' is not defined",
     "output_type": "error",
     "traceback": [
      "\u001b[1;31m---------------------------------------------------------------------------\u001b[0m",
      "\u001b[1;31mNameError\u001b[0m                                 Traceback (most recent call last)",
      "\u001b[1;32m<ipython-input-119-f1282d3e7141>\u001b[0m in \u001b[0;36m<module>\u001b[1;34m\u001b[0m\n\u001b[0;32m     11\u001b[0m \u001b[0mposition_lens\u001b[0m \u001b[1;33m=\u001b[0m \u001b[0mexp\u001b[0m\u001b[1;33m.\u001b[0m\u001b[0mlens_motor\u001b[0m\u001b[1;33m.\u001b[0m\u001b[0mGetCurrentPosition\u001b[0m\u001b[1;33m(\u001b[0m\u001b[1;33m)\u001b[0m\u001b[1;33m\u001b[0m\u001b[1;33m\u001b[0m\u001b[0m\n\u001b[0;32m     12\u001b[0m \u001b[1;33m\u001b[0m\u001b[0m\n\u001b[1;32m---> 13\u001b[1;33m \u001b[0mSaveScanMaxesData\u001b[0m\u001b[1;33m(\u001b[0m\u001b[0mfile_name\u001b[0m\u001b[1;33m,\u001b[0m \u001b[0mposition_lens\u001b[0m\u001b[1;33m,\u001b[0m \u001b[0mposition_led\u001b[0m\u001b[1;33m,\u001b[0m \u001b[0mpositions_sipm\u001b[0m\u001b[1;33m,\u001b[0m \u001b[0mmaxes\u001b[0m\u001b[1;33m,\u001b[0m \u001b[0mrot_angle\u001b[0m\u001b[1;33m)\u001b[0m\u001b[1;33m\u001b[0m\u001b[1;33m\u001b[0m\u001b[0m\n\u001b[0m",
      "\u001b[1;31mNameError\u001b[0m: name 'SaveScanMaxesData' is not defined"
     ]
    },
    {
     "data": {
      "image/png": "[encoded data removed]",
      "text/plain": [
       "<Figure size 432x288 with 1 Axes>"
      ]
     },
     "metadata": {
      "needs_background": "light"
     },
     "output_type": "display_data"
    }
   ],
   "source": [
    "# Take data with led spot on the substrate\n",
    "run_num = 576\n",
    "sipm_scan_width = 60\n",
    "sipm_num_measurements = 200\n",
    "rot_angle = 0.0\n",
    "base_file_name = '_darknoise_100ns_15sweeps.csv'\n",
    "file_name = 'run'+str(run_num)+base_file_name\n",
    "\n",
    "position_led, positions_sipm, maxes = exp.ScanMaxes(width=sipm_scan_width, num_measurements=sipm_num_measurements)\n",
    "plt.plot(positions_sipm, maxes)\n",
    "position_lens = exp.lens_motor.GetCurrentPosition()\n",
    "\n",
    "SaveScanMaxesData(file_name, position_lens, position_led, positions_sipm, maxes, rot_angle)"
   ]
  },
  {
   "cell_type": "markdown",
   "id": "aquatic-margin",
   "metadata": {},
   "source": [
    "## Take air reference data"
   ]
  },
  {
   "cell_type": "code",
   "execution_count": 137,
   "id": "frequent-vegetarian",
   "metadata": {},
   "outputs": [
    {
     "data": {
      "text/plain": [
       "'200/200'"
      ]
     },
     "metadata": {},
     "output_type": "display_data"
    },
    {
     "data": {
      "image/png": "[encoded data removed]",
      "text/plain": [
       "<Figure size 432x288 with 1 Axes>"
      ]
     },
     "metadata": {
      "needs_background": "light"
     },
     "output_type": "display_data"
    }
   ],
   "source": [
    "# Take data with led spot on the substrate\n",
    "run_num = 1418\n",
    "sipm_scan_width = 60\n",
    "sipm_num_measurements = 200\n",
    "rot_angle = 0.0\n",
    "#base_file_name = '_metalens_100ns_15sweeps.csv'\n",
    "file_name = 'run'+str(run_num)+base_file_name\n",
    "\n",
    "exp.Align()\n",
    "exp.lens_motor.MoveMotor(-40)\n",
    "position_led, positions_sipm, maxes = exp.ScanMaxes(width=sipm_scan_width, num_measurements=sipm_num_measurements)\n",
    "exp.lens_motor.MoveMotor(40)\n",
    "plt.plot(positions_sipm, maxes)\n",
    "position_lens = exp.lens_motor.GetCurrentPosition()\n",
    "\n",
    "SaveScanMaxesData(file_name, position_lens, position_led, positions_sipm, maxes, rot_angle)"
   ]
  },
  {
   "cell_type": "code",
   "execution_count": 78,
   "id": "unauthorized-dallas",
   "metadata": {},
   "outputs": [
    {
     "data": {
      "image/png": "[encoded data removed]",
      "text/plain": [
       "<Figure size 432x288 with 1 Axes>"
      ]
     },
     "metadata": {
      "needs_background": "light"
     },
     "output_type": "display_data"
    }
   ],
   "source": [
    "plt.plot(positions_sipm, maxes)\n",
    "#plt.xlim(115,120)\n",
    "plt.show()"
   ]
  },
  {
   "cell_type": "code",
   "execution_count": 75,
   "id": "occasional-arrival",
   "metadata": {},
   "outputs": [
    {
     "data": {
      "text/plain": [
       "'200/200'"
      ]
     },
     "metadata": {},
     "output_type": "display_data"
    },
    {
     "data": {
      "image/png": "[encoded data removed]",
      "text/plain": [
       "<Figure size 432x288 with 1 Axes>"
      ]
     },
     "metadata": {
      "needs_background": "light"
     },
     "output_type": "display_data"
    }
   ],
   "source": [
    "# Take data with led spot on the substrate\n",
    "#run_num = 575\n",
    "sipm_scan_width = 60\n",
    "sipm_num_measurements = 200\n",
    "rot_angle = 0.0\n",
    "#base_file_name = '_metalens_100ns_15sweeps.csv'\n",
    "#file_name = 'run'+str(run_num)+base_file_name\n",
    "\n",
    "exp.Align()\n",
    "exp.lens_motor.MoveMotor(-40)\n",
    "position_led, positions_sipm, maxes = exp.ScanMaxes(width=sipm_scan_width, num_measurements=sipm_num_measurements)\n",
    "exp.lens_motor.MoveMotor(40)\n",
    "plt.plot(positions_sipm, maxes)\n",
    "position_lens = exp.lens_motor.GetCurrentPosition()\n",
    "\n",
    "#SaveScanMaxesData(file_name, position_lens, position_led, positions_sipm, maxes, rot_angle)"
   ]
  },
  {
   "cell_type": "code",
   "execution_count": 77,
   "id": "metallic-button",
   "metadata": {},
   "outputs": [
    {
     "data": {
      "image/png": "[encoded data removed]",
      "text/plain": [
       "<Figure size 432x288 with 1 Axes>"
      ]
     },
     "metadata": {
      "needs_background": "light"
     },
     "output_type": "display_data"
    }
   ],
   "source": [
    "plt.plot(positions_sipm, maxes)\n",
    "plt.title('Almost closed slit')\n",
    "plt.xlim(115,120)\n",
    "plt.show()"
   ]
  },
  {
   "cell_type": "markdown",
   "id": "challenging-victoria",
   "metadata": {},
   "source": [
    "## Take substrate reference data"
   ]
  },
  {
   "cell_type": "code",
   "execution_count": 139,
   "id": "electric-parking",
   "metadata": {},
   "outputs": [],
   "source": [
    "# For a scan with just substrate, align the center of lens based on mount edges\n",
    "from scipy import signal\n",
    "peaks, _ = signal.find_peaks(lens_data[1], prominence=.1)\n",
    "widths = signal.peak_widths(lens_data[1], peaks)\n",
    "\n",
    "exp.alignments['lens_center'] = (lens_data[0][int(widths[3])] + lens_data[0][int(widths[2])])/2."
   ]
  },
  {
   "cell_type": "code",
   "execution_count": 174,
   "id": "foreign-ethernet",
   "metadata": {},
   "outputs": [
    {
     "name": "stdout",
     "output_type": "stream",
     "text": [
      "LED motor is off. Switch motors to align\n",
      "Total run time = 13.07053189277649\n"
     ]
    }
   ],
   "source": [
    "# Run as of 5/26/2022\n",
    "start_time = time.time()\n",
    "num_rots = 4\n",
    "drot = 20\n",
    "lens_scan_width = 6.\n",
    "lens_num_measurements = 3 #120\n",
    "lens_dx = lens_scan_width / max((lens_num_measurements-1),1)\n",
    "sipm_scan_width = 8\n",
    "sipm_num_measurements = 40\n",
    "base_file_name = '_substrate_100ns_15sweeps.csv'\n",
    "run_num = 1419\n",
    "\n",
    "exp.Align()\n",
    "current_rot = -drot*num_rots/2\n",
    "exp.RotateLens(current_rot)\n",
    "for rot in range(num_rots+1):\n",
    "    \n",
    "    exp.Align('lens')\n",
    "    exp.lens_motor.MoveMotor(-lens_scan_width/2.)\n",
    "    for lens_scan in range(lens_num_measurements):\n",
    "    \n",
    "        exp.Align('sipm')\n",
    "        position_lens = exp.lens_motor.GetCurrentPosition()\n",
    "        position_led, positions_sipm, maxes = exp.ScanMaxes(width=sipm_scan_width, num_measurements=sipm_num_measurements, print_progress=False)\n",
    "        file_name = 'run'+str(run_num)+base_file_name\n",
    "        SaveScanMaxesData(file_name, position_lens, position_led, positions_sipm, maxes, current_rot)\n",
    "        exp.lens_motor.MoveMotor(lens_dx)\n",
    "        run_num += 1\n",
    "        #print(rot, lens_scan, current_rot, lens_dx)\n",
    "\n",
    "    exp.RotateLens(drot)  \n",
    "    current_rot += drot\n",
    "\n",
    "exp.Align('rot')\n",
    "end_time = time.time()\n",
    "print('Total run time = '+str((end_time-start_time)/60.))"
   ]
  },
  {
   "cell_type": "code",
   "execution_count": 194,
   "id": "corporate-berlin",
   "metadata": {},
   "outputs": [],
   "source": [
    "exp.lens_motor.MoveMotor(-7)"
   ]
  },
  {
   "cell_type": "code",
   "execution_count": null,
   "id": "spanish-pharmacy",
   "metadata": {},
   "outputs": [],
   "source": []
  },
  {
   "cell_type": "code",
   "execution_count": 52,
   "id": "announced-packing",
   "metadata": {},
   "outputs": [],
   "source": [
    "from scipy import signal\n"
   ]
  },
  {
   "cell_type": "code",
   "execution_count": null,
   "id": "skilled-horror",
   "metadata": {},
   "outputs": [],
   "source": []
  },
  {
   "cell_type": "markdown",
   "id": "vital-rough",
   "metadata": {},
   "source": [
    "## Rotation and symmetry runs"
   ]
  },
  {
   "cell_type": "code",
   "execution_count": 94,
   "id": "virgin-timing",
   "metadata": {},
   "outputs": [
    {
     "data": {
      "text/plain": [
       "'Scan: 5/5, rot: 3/3'"
      ]
     },
     "metadata": {},
     "output_type": "display_data"
    }
   ],
   "source": [
    "# Running over many lens positions to check lens symmetry\n",
    "start_time = time.time()\n",
    "lens_scan_width = 5. # mm (lens radius)\n",
    "num_scans = 5\n",
    "sipm_scan_width = 60\n",
    "sipm_num_measurements = 200\n",
    "base_file_name = '_metalens_100ns_15sweeps.csv'\n",
    "run_num = 500\n",
    "dx_lens = lens_scan_width / num_scans\n",
    "lens_pos = 0.0\n",
    "rot_width = 30.\n",
    "rot_scans = 3\n",
    "drot = rot_width/rot_scans\n",
    "exp.Align()\n",
    "for rot in range(rot_scans):\n",
    "\n",
    "    for i in range(num_scans):\n",
    "        clear_output(wait=True)\n",
    "        display('Scan: '+str(i+1)+\"/\"+str(num_scans)+', rot: '+str(rot+1)+'/'+str(rot_scans))\n",
    "        \n",
    "        exp.Align('lens')\n",
    "        exp.Align('sipm')\n",
    "        exp.lens_motor.MoveMotor(dx_lens*i)\n",
    "        position_lens = exp.lens_motor.GetCurrentPosition()\n",
    "        position_led, positions_sipm, maxes = exp.ScanMaxes(width=sipm_scan_width, num_measurements=sipm_num_measurements, print_progress=False)\n",
    "        file_name = 'run'+str(run_num)+base_file_name\n",
    "        rot_angle = rot * drot\n",
    "        SaveScanMaxesData(file_name, position_lens, position_led, positions_sipm, maxes, rot_angle)\n",
    "        run_num += 1\n",
    "\n",
    "        exp.Align('lens')\n",
    "        exp.Align('sipm')\n",
    "        exp.lens_motor.MoveMotor(-dx_lens*i)\n",
    "        position_lens = exp.lens_motor.GetCurrentPosition()\n",
    "        position_led, positions_sipm, maxes = exp.ScanMaxes(width=sipm_scan_width, num_measurements=sipm_num_measurements, print_progress=False)\n",
    "        file_name = 'run'+str(run_num)+base_file_name\n",
    "        SaveScanMaxesData(file_name, position_lens, position_led, positions_sipm, maxes, rot_angle)\n",
    "        run_num += 1\n",
    "\n",
    "    exp.RotateLens(drot)\n",
    "    \n",
    "end_time = time.time()\n",
    "exp.RotateLens(-rot_width)"
   ]
  },
  {
   "cell_type": "code",
   "execution_count": 323,
   "id": "conceptual-embassy",
   "metadata": {
    "scrolled": true
   },
   "outputs": [
    {
     "data": {
      "text/plain": [
       "[<matplotlib.lines.Line2D at 0x1c68c130>]"
      ]
     },
     "execution_count": 323,
     "metadata": {},
     "output_type": "execute_result"
    },
    {
     "data": {
      "image/png": "[encoded data removed]",
      "text/plain": [
       "<Figure size 432x288 with 1 Axes>"
      ]
     },
     "metadata": {
      "needs_background": "light"
     },
     "output_type": "display_data"
    }
   ],
   "source": [
    "plt.plot(positions_sipm, maxes)"
   ]
  },
  {
   "cell_type": "markdown",
   "id": "exotic-wrong",
   "metadata": {},
   "source": [
    "# Runs for Adam\n",
    "Very fine grained runs over entire metalens"
   ]
  },
  {
   "cell_type": "code",
   "execution_count": 127,
   "id": "fossil-comment",
   "metadata": {},
   "outputs": [
    {
     "data": {
      "text/plain": [
       "'Scan: 20/20'"
      ]
     },
     "metadata": {},
     "output_type": "display_data"
    },
    {
     "name": "stdout",
     "output_type": "stream",
     "text": [
      "Total run time = 353.4198785742124\n"
     ]
    }
   ],
   "source": [
    "# Running over many lens positions to check lens symmetry\n",
    "start_time = time.time()\n",
    "lens_scan_width = 2. # mm (lens radius)\n",
    "num_scans = 20\n",
    "sipm_scan_width = 120\n",
    "sipm_num_measurements = 600\n",
    "base_file_name = '_metalens_100ns_15sweeps.csv'\n",
    "run_num = 531\n",
    "dx_lens = lens_scan_width / num_scans\n",
    "\n",
    "exp.Align()\n",
    "exp.lens_motor.MoveMotor(-lens_scan_width/2.)\n",
    "for i in range(num_scans):\n",
    "    clear_output(wait=True)\n",
    "    display('Scan: '+str(i+1)+\"/\"+str(num_scans))\n",
    "\n",
    "    exp.Align('sipm')\n",
    "    position_lens = exp.lens_motor.GetCurrentPosition()\n",
    "    position_led, positions_sipm, maxes = exp.ScanMaxes(width=sipm_scan_width, num_measurements=sipm_num_measurements, print_progress=False)\n",
    "    file_name = 'run'+str(run_num)+base_file_name\n",
    "    SaveScanMaxesData(file_name, position_lens, position_led, positions_sipm, maxes, 0.0)\n",
    "    #print(position_lens)\n",
    "    #plt.plot(positions_sipm, maxes, label=position_lens)\n",
    "    #plt.legend()\n",
    "    #plt.show()\n",
    "    exp.lens_motor.MoveMotor(dx_lens)\n",
    "    run_num += 1\n",
    "    \n",
    "end_time = time.time()\n",
    "print('Total run time = '+str((end_time-start_time)/60.))"
   ]
  },
  {
   "cell_type": "code",
   "execution_count": 128,
   "id": "nearby-favor",
   "metadata": {},
   "outputs": [
    {
     "data": {
      "text/plain": [
       "'Scan: 24/24'"
      ]
     },
     "metadata": {},
     "output_type": "display_data"
    },
    {
     "name": "stdout",
     "output_type": "stream",
     "text": [
      "Total run time = 425.63242812951404\n"
     ]
    }
   ],
   "source": [
    "# Running over many lens positions to check lens symmetry\n",
    "start_time = time.time()\n",
    "lens_scan_width = 24. # mm (lens radius)\n",
    "num_scans = 24\n",
    "sipm_scan_width = 120\n",
    "sipm_num_measurements = 600\n",
    "base_file_name = '_metalens_100ns_15sweeps.csv'\n",
    "#run_num = 531\n",
    "dx_lens = lens_scan_width / num_scans\n",
    "\n",
    "exp.Align()\n",
    "exp.lens_motor.MoveMotor(-lens_scan_width/2.)\n",
    "for i in range(num_scans):\n",
    "    clear_output(wait=True)\n",
    "    display('Scan: '+str(i+1)+\"/\"+str(num_scans))\n",
    "\n",
    "    exp.Align('sipm')\n",
    "    position_lens = exp.lens_motor.GetCurrentPosition()\n",
    "    position_led, positions_sipm, maxes = exp.ScanMaxes(width=sipm_scan_width, num_measurements=sipm_num_measurements, print_progress=False)\n",
    "    file_name = 'run'+str(run_num)+base_file_name\n",
    "    SaveScanMaxesData(file_name, position_lens, position_led, positions_sipm, maxes, 0.0)\n",
    "    #print(position_lens)\n",
    "    #plt.plot(positions_sipm, maxes, label=position_lens)\n",
    "    #plt.legend()\n",
    "    #plt.show()\n",
    "    exp.lens_motor.MoveMotor(dx_lens)\n",
    "    run_num += 1\n",
    "    \n",
    "end_time = time.time()\n",
    "print('Total run time = '+str((end_time-start_time)/60.))"
   ]
  },
  {
   "cell_type": "code",
   "execution_count": null,
   "id": "considered-suffering",
   "metadata": {},
   "outputs": [],
   "source": []
  },
  {
   "cell_type": "code",
   "execution_count": 21,
   "id": "nuclear-excess",
   "metadata": {},
   "outputs": [
    {
     "name": "stdout",
     "output_type": "stream",
     "text": [
      "LED motor is off. Switch motors to align\n",
      "Total run time = 1157.215026072661\n"
     ]
    }
   ],
   "source": [
    "# Special run to get fine grained data at center, at lens edge, and at mount edge\n",
    "start_time = time.time()\n",
    "num_rots = 2\n",
    "max_rot = 20.\n",
    "drot = max_rot / (num_rots-1)\n",
    "lens_scan_width = 3. # mm (lens radius)\n",
    "num_lens_scans = 30\n",
    "dx_lens = lens_scan_width / num_lens_scans\n",
    "sipm_scan_width = 120\n",
    "sipm_num_measurements = 600\n",
    "sipm_scan_width_less = 60\n",
    "sipm_num_measurements_less = 300\n",
    "base_file_name = '_metalens_100ns_15sweeps.csv'\n",
    "run_num = 576\n",
    "\n",
    "exp.Align()\n",
    "for rot in range(num_rots):\n",
    "    current_rot = drot*rot\n",
    "    \n",
    "    exp.Align('lens')\n",
    "    exp.lens_motor.MoveMotor(-lens_scan_width/2.)\n",
    "    for i in range(num_lens_scans):\n",
    "        exp.Align('sipm')\n",
    "        position_lens = exp.lens_motor.GetCurrentPosition()\n",
    "        position_led, positions_sipm, maxes = exp.ScanMaxes(width=sipm_scan_width_less, num_measurements=sipm_num_measurements_less, print_progress=False)\n",
    "        file_name = 'run'+str(run_num)+base_file_name\n",
    "        SaveScanMaxesData(file_name, position_lens, position_led, positions_sipm, maxes, current_rot)\n",
    "        run_num += 1\n",
    "        exp.lens_motor.MoveMotor(dx_lens)  \n",
    "\n",
    "    # Take edge of lens data\n",
    "    exp.lens_motor.MoveMotor(exp.alignments['mount_left_inner_edge'] - exp.lens_motor.GetCurrentPosition())\n",
    "    exp.lens_motor.MoveMotor(-lens_scan_width/2.)\n",
    "    for i in range(num_lens_scans):\n",
    "        position_lens = exp.lens_motor.GetCurrentPosition()\n",
    "        position_led, positions_sipm, maxes = exp.ScanMaxes(width=sipm_scan_width_less, num_measurements=sipm_num_measurements_less, print_progress=False)\n",
    "        file_name = 'run'+str(run_num)+base_file_name\n",
    "        SaveScanMaxesData(file_name, position_lens, position_led, positions_sipm, maxes, current_rot)\n",
    "        run_num += 1\n",
    "        exp.lens_motor.MoveMotor(dx_lens)\n",
    "\n",
    "    # Take edge of mount data\n",
    "    exp.lens_motor.MoveMotor(-lens_scan_width/2.)\n",
    "    exp.lens_motor.MoveMotor(exp.alignments['mount_left_outer_edge'] - exp.lens_motor.GetCurrentPosition())\n",
    "    for i in range(num_lens_scans):\n",
    "        position_lens = exp.lens_motor.GetCurrentPosition()\n",
    "        position_led, positions_sipm, maxes = exp.ScanMaxes(width=sipm_scan_width_less, num_measurements=sipm_num_measurements_less, print_progress=False)\n",
    "        file_name = 'run'+str(run_num)+base_file_name\n",
    "        SaveScanMaxesData(file_name, position_lens, position_led, positions_sipm, maxes, current_rot)\n",
    "        run_num += 1\n",
    "        exp.lens_motor.MoveMotor(dx_lens)\n",
    "    \n",
    "    exp.RotateLens(drot)  \n",
    "\n",
    "exp.RotateLens(-drot*num_rots)\n",
    "end_time = time.time()\n",
    "print('Total run time = '+str((end_time-start_time)/60.))"
   ]
  },
  {
   "cell_type": "code",
   "execution_count": 47,
   "id": "white-invitation",
   "metadata": {},
   "outputs": [
    {
     "data": {
      "text/plain": [
       "203.815"
      ]
     },
     "execution_count": 47,
     "metadata": {},
     "output_type": "execute_result"
    }
   ],
   "source": [
    "center"
   ]
  },
  {
   "cell_type": "code",
   "execution_count": 75,
   "id": "attempted-fiber",
   "metadata": {},
   "outputs": [],
   "source": [
    "exp.lens_motor.MoveMotor(center - exp.lens_motor.GetCurrentPosition())"
   ]
  },
  {
   "cell_type": "code",
   "execution_count": 52,
   "id": "fifth-spare",
   "metadata": {},
   "outputs": [
    {
     "data": {
      "text/plain": [
       "203.815"
      ]
     },
     "execution_count": 52,
     "metadata": {},
     "output_type": "execute_result"
    }
   ],
   "source": [
    "exp.lens_motor.GetCurrentPosition()"
   ]
  },
  {
   "cell_type": "code",
   "execution_count": 312,
   "id": "twenty-growth",
   "metadata": {},
   "outputs": [],
   "source": [
    "exp.Align('rot')"
   ]
  },
  {
   "cell_type": "code",
   "execution_count": null,
   "id": "whole-psychiatry",
   "metadata": {},
   "outputs": [],
   "source": []
  },
  {
   "cell_type": "code",
   "execution_count": 143,
   "id": "encouraging-light",
   "metadata": {},
   "outputs": [
    {
     "name": "stdout",
     "output_type": "stream",
     "text": [
      "LED motor is off. Switch motors to align\n",
      "0 0 -20.0\n",
      "0 1 -20.0\n",
      "0 2 -20.0\n",
      "1 0 0.0\n",
      "1 1 0.0\n",
      "1 2 0.0\n",
      "2 0 20.0\n",
      "2 1 20.0\n",
      "2 2 20.0\n",
      "Total run time = 1.2271172324816386\n"
     ]
    }
   ],
   "source": [
    "# Run as of 5/4/2022\n",
    "start_time = time.time()\n",
    "num_rots = 2\n",
    "drot = 20\n",
    "lens_scan_width = 12.\n",
    "lens_num_measurements = 3 #120\n",
    "lens_dx = lens_scan_width / lens_num_measurements\n",
    "sipm_scan_width = 60\n",
    "sipm_num_measurements = 120\n",
    "base_file_name = '_substrate_100ns_15sweeps.csv'\n",
    "run_num = 1058\n",
    "\n",
    "exp.Align()\n",
    "current_rot = -drot*num_rots/2\n",
    "exp.RotateLens(current_rot)\n",
    "for rot in range(num_rots+1):\n",
    "    \n",
    "    exp.Align('lens')\n",
    "    exp.lens_motor.MoveMotor(-lens_scan_width/2.)\n",
    "    for lens_scan in range(lens_num_measurements):\n",
    "    \n",
    "        exp.Align('sipm')\n",
    "        position_lens = exp.lens_motor.GetCurrentPosition()\n",
    "        position_led, positions_sipm, maxes = exp.ScanMaxes(width=sipm_scan_width, num_measurements=sipm_num_measurements, print_progress=False)\n",
    "        file_name = 'run'+str(run_num)+base_file_name\n",
    "        SaveScanMaxesData(file_name, position_lens, position_led, positions_sipm, maxes, current_rot)\n",
    "        exp.lens_motor.MoveMotor(lens_dx)\n",
    "        run_num += 1\n",
    "        #print(rot, lens_scan, current_rot)\n",
    "\n",
    "    exp.RotateLens(drot)  \n",
    "    current_rot += drot\n",
    "\n",
    "exp.Align('rot')\n",
    "end_time = time.time()\n",
    "print('Total run time = '+str((end_time-start_time)/60.))"
   ]
  },
  {
   "cell_type": "markdown",
   "id": "possible-singapore",
   "metadata": {},
   "source": [
    "## Strip Metalenses"
   ]
  },
  {
   "cell_type": "code",
   "execution_count": 1851,
   "id": "departmental-singing",
   "metadata": {},
   "outputs": [
    {
     "name": "stdout",
     "output_type": "stream",
     "text": [
      "Manually connect led motor and disconnect rot motor\n"
     ]
    }
   ],
   "source": [
    "exp.SwitchMotor('led')\n"
   ]
  },
  {
   "cell_type": "code",
   "execution_count": 2578,
   "id": "fitting-cookbook",
   "metadata": {},
   "outputs": [],
   "source": [
    "exp.Align('rot')"
   ]
  },
  {
   "cell_type": "markdown",
   "id": "unusual-charter",
   "metadata": {},
   "source": [
    "#### Scanning the LED up and down to find lens center in vertical position"
   ]
  },
  {
   "cell_type": "code",
   "execution_count": 2380,
   "id": "light-network",
   "metadata": {},
   "outputs": [
    {
     "data": {
      "text/plain": [
       "'Scan: 15/15'"
      ]
     },
     "metadata": {},
     "output_type": "display_data"
    },
    {
     "data": {
      "image/png": "[encoded data removed]",
      "text/plain": [
       "<Figure size 432x288 with 1 Axes>"
      ]
     },
     "metadata": {
      "needs_background": "light"
     },
     "output_type": "display_data"
    }
   ],
   "source": [
    "led_scan_width = 1.5\n",
    "exp.Align('sipm')\n",
    "\n",
    "dx_led = 0.1\n",
    "num_led_steps = int(led_scan_width / dx_led)\n",
    "maxes = []\n",
    "led_positions = []\n",
    "\n",
    "exp.led_motor.MoveMotor(-led_scan_width/2.)\n",
    "for step in range(num_led_steps):\n",
    "    clear_output(wait=True)\n",
    "    display('Scan: '+str(step+1)+\"/\"+str(num_led_steps))\n",
    "    maxes.append(osc.MeasurePeaktoPeak(scope, 15))\n",
    "    led_positions.append(exp.led_motor.GetCurrentPosition())\n",
    "    exp.led_motor.MoveMotor(dx_led)\n",
    "exp.led_motor.MoveMotor(-led_scan_width/2.)\n",
    "plt.plot(led_positions, np.array(maxes))\n",
    "plt.xlabel('LED position [mm]')\n",
    "plt.show()"
   ]
  },
  {
   "cell_type": "code",
   "execution_count": 2282,
   "id": "julian-static",
   "metadata": {},
   "outputs": [
    {
     "name": "stdout",
     "output_type": "stream",
     "text": [
      "306.475\n"
     ]
    }
   ],
   "source": [
    "peaks, _ = signal.find_peaks(np.array(maxes)*-1, prominence=.01)\n",
    "widths = signal.peak_widths(np.array(maxes)*-1, peaks)\n",
    "lens_center = (led_positions[int(widths[2])] + led_positions[int(widths[3])])/2.\n",
    "print(lens_center)"
   ]
  },
  {
   "cell_type": "code",
   "execution_count": 2381,
   "id": "intense-excess",
   "metadata": {},
   "outputs": [
    {
     "data": {
      "image/png": "[encoded data removed]",
      "text/plain": [
       "<Figure size 432x288 with 1 Axes>"
      ]
     },
     "metadata": {
      "needs_background": "light"
     },
     "output_type": "display_data"
    },
    {
     "name": "stdout",
     "output_type": "stream",
     "text": [
      "306.95770770770775\n"
     ]
    }
   ],
   "source": [
    "meio = (led_positions[len(led_positions)-1]+led_positions[0])/2\n",
    "x = np.linspace(led_positions[0], led_positions[len(led_positions)-1], 1000)\n",
    "FWHM = 0.1\n",
    "sigma=FWHM/2.3548\n",
    "G = np.exp(-(x-meio)**2/(2*sigma**2))/(sigma*np.sqrt(2*np.pi))\n",
    "G = G/sum(G)\n",
    "\n",
    "interp = interpolate.interp1d(led_positions, maxes, kind = \"linear\")\n",
    "maxes3 = interp(x)\n",
    "maxes3 = np.convolve(maxes3, G, mode='same')\n",
    "\n",
    "plt.plot(x,maxes3)\n",
    "plt.show()\n",
    "\n",
    "peaks, _ = signal.find_peaks(np.array(maxes3)*-1, prominence=.01)\n",
    "widths = signal.peak_widths(np.array(maxes3)*-1, peaks)\n",
    "lens_center = (x[int(widths[2])] + x[int(widths[3])])/2.\n",
    "print(lens_center)"
   ]
  },
  {
   "cell_type": "code",
   "execution_count": 2388,
   "id": "british-priority",
   "metadata": {},
   "outputs": [],
   "source": [
    "exp.led_motor.MoveMotor(lens_center - exp.led_motor.GetCurrentPosition())"
   ]
  },
  {
   "cell_type": "code",
   "execution_count": 2601,
   "id": "designing-establishment",
   "metadata": {},
   "outputs": [],
   "source": [
    "exp.Align('rot')"
   ]
  },
  {
   "cell_type": "markdown",
   "id": "rental-vampire",
   "metadata": {},
   "source": [
    "#### Scanning across lens  to find center of lens horizontally"
   ]
  },
  {
   "cell_type": "code",
   "execution_count": 2675,
   "id": "sublime-positive",
   "metadata": {},
   "outputs": [],
   "source": [
    "def StripFindCenter(lens_scan_width,dx_lens,rot):\n",
    "    exp.Align('sipm')\n",
    "\n",
    "\n",
    "    num_lens_steps = int(lens_scan_width / dx_lens)\n",
    "    maxes = []\n",
    "    lens_positions = []\n",
    "    exp.lens_motor.MoveMotor(-lens_scan_width/2.)\n",
    "    if rot>0:\n",
    "        exp.Align('rot')\n",
    "        exp.RotateLens(rot)\n",
    "    for step in range(num_lens_steps):\n",
    "        clear_output(wait=True)\n",
    "        display('Scan: '+str(step+1)+\"/\"+str(num_lens_steps))\n",
    "    \n",
    "        maxes.append(osc.MeasurePeaktoPeak(scope, 15))\n",
    "        lens_positions.append(exp.lens_motor.GetCurrentPosition())\n",
    "        exp.lens_motor.MoveMotor(dx_lens)\n",
    "    exp.lens_motor.MoveMotor(-lens_scan_width/2.)\n",
    "    plt.plot(lens_positions, np.array(maxes))\n",
    "    plt.show()\n",
    "    indices = signal.find_peaks(np.array(maxes), prominence=0.002)[0]\n",
    "    lens_center_x =lens_positions[int(indices[0])]\n",
    "    if rot>0:\n",
    "        exp.Align('rot')\n",
    "    return(lens_center_x)"
   ]
  },
  {
   "cell_type": "code",
   "execution_count": 2676,
   "id": "miniature-pressure",
   "metadata": {},
   "outputs": [
    {
     "data": {
      "text/plain": [
       "'Scan: 30/30'"
      ]
     },
     "metadata": {},
     "output_type": "display_data"
    },
    {
     "data": {
      "image/png": "[encoded data removed]",
      "text/plain": [
       "<Figure size 432x288 with 1 Axes>"
      ]
     },
     "metadata": {
      "needs_background": "light"
     },
     "output_type": "display_data"
    },
    {
     "data": {
      "text/plain": [
       "323.745"
      ]
     },
     "metadata": {},
     "output_type": "display_data"
    }
   ],
   "source": [
    "exp.Align('rot')\n",
    "lens_center_x = StripFindCenter(.75,0.025,0)\n",
    "display(lens_center_x)"
   ]
  },
  {
   "cell_type": "code",
   "execution_count": 2354,
   "id": "incorrect-stadium",
   "metadata": {},
   "outputs": [
    {
     "ename": "IndexError",
     "evalue": "index 1 is out of bounds for axis 0 with size 0",
     "output_type": "error",
     "traceback": [
      "\u001b[1;31m---------------------------------------------------------------------------\u001b[0m",
      "\u001b[1;31mIndexError\u001b[0m                                Traceback (most recent call last)",
      "\u001b[1;32m<ipython-input-2354-333baaa12a75>\u001b[0m in \u001b[0;36m<module>\u001b[1;34m\u001b[0m\n\u001b[0;32m      1\u001b[0m \u001b[0mpeaks\u001b[0m\u001b[1;33m,\u001b[0m \u001b[0m_\u001b[0m \u001b[1;33m=\u001b[0m \u001b[0msignal\u001b[0m\u001b[1;33m.\u001b[0m\u001b[0mfind_peaks\u001b[0m\u001b[1;33m(\u001b[0m\u001b[0mnp\u001b[0m\u001b[1;33m.\u001b[0m\u001b[0marray\u001b[0m\u001b[1;33m(\u001b[0m\u001b[0mmaxes\u001b[0m\u001b[1;33m)\u001b[0m\u001b[1;33m*\u001b[0m\u001b[1;33m-\u001b[0m\u001b[1;36m1\u001b[0m\u001b[1;33m,\u001b[0m \u001b[0mprominence\u001b[0m\u001b[1;33m=\u001b[0m\u001b[1;36m.002\u001b[0m\u001b[1;33m)\u001b[0m\u001b[1;33m\u001b[0m\u001b[1;33m\u001b[0m\u001b[0m\n\u001b[0;32m      2\u001b[0m \u001b[0mwidths\u001b[0m \u001b[1;33m=\u001b[0m \u001b[0msignal\u001b[0m\u001b[1;33m.\u001b[0m\u001b[0mpeak_widths\u001b[0m\u001b[1;33m(\u001b[0m\u001b[0mnp\u001b[0m\u001b[1;33m.\u001b[0m\u001b[0marray\u001b[0m\u001b[1;33m(\u001b[0m\u001b[0mmaxes\u001b[0m\u001b[1;33m)\u001b[0m\u001b[1;33m*\u001b[0m\u001b[1;33m-\u001b[0m\u001b[1;36m1\u001b[0m\u001b[1;33m,\u001b[0m \u001b[0mpeaks\u001b[0m\u001b[1;33m)\u001b[0m\u001b[1;33m\u001b[0m\u001b[1;33m\u001b[0m\u001b[0m\n\u001b[1;32m----> 3\u001b[1;33m \u001b[0mlens_center_x\u001b[0m \u001b[1;33m=\u001b[0m \u001b[0mlens_positions\u001b[0m\u001b[1;33m[\u001b[0m\u001b[0mint\u001b[0m\u001b[1;33m(\u001b[0m\u001b[0mwidths\u001b[0m\u001b[1;33m[\u001b[0m\u001b[1;36m3\u001b[0m\u001b[1;33m]\u001b[0m\u001b[1;33m[\u001b[0m\u001b[1;36m1\u001b[0m\u001b[1;33m]\u001b[0m\u001b[1;33m)\u001b[0m\u001b[1;33m]\u001b[0m\u001b[1;33m\u001b[0m\u001b[1;33m\u001b[0m\u001b[0m\n\u001b[0m\u001b[0;32m      4\u001b[0m \u001b[0mlens_center_x\u001b[0m\u001b[1;33m\u001b[0m\u001b[1;33m\u001b[0m\u001b[0m\n",
      "\u001b[1;31mIndexError\u001b[0m: index 1 is out of bounds for axis 0 with size 0"
     ]
    }
   ],
   "source": [
    "peaks, _ = signal.find_peaks(np.array(maxes)*-1, prominence=.002)\n",
    "widths = signal.peak_widths(np.array(maxes)*-1, peaks)\n",
    "lens_center_x = lens_positions[int(widths[3][1])]\n",
    "lens_center_x"
   ]
  },
  {
   "cell_type": "code",
   "execution_count": 2673,
   "id": "given-spine",
   "metadata": {},
   "outputs": [
    {
     "data": {
      "text/plain": [
       "323.72"
      ]
     },
     "metadata": {},
     "output_type": "display_data"
    }
   ],
   "source": []
  },
  {
   "cell_type": "code",
   "execution_count": 2677,
   "id": "sound-settle",
   "metadata": {},
   "outputs": [],
   "source": [
    "exp.lens_motor.MoveMotor(lens_center_x - exp.lens_motor.GetCurrentPosition())\n"
   ]
  },
  {
   "cell_type": "code",
   "execution_count": 2564,
   "id": "comparable-humor",
   "metadata": {},
   "outputs": [
    {
     "name": "stdout",
     "output_type": "stream",
     "text": [
      "Manually connect rot motor and disconnect rot motor\n"
     ]
    }
   ],
   "source": [
    "#exp.RotateLens(5)\n",
    "exp.SwitchMotor('rot')\n"
   ]
  },
  {
   "cell_type": "markdown",
   "id": "equal-commissioner",
   "metadata": {},
   "source": [
    "#### Rotation test"
   ]
  },
  {
   "cell_type": "code",
   "execution_count": 2386,
   "id": "floppy-portugal",
   "metadata": {},
   "outputs": [
    {
     "name": "stdout",
     "output_type": "stream",
     "text": [
      "Manually connect rot motor and disconnect led motor\n"
     ]
    }
   ],
   "source": [
    "## Move LED up and change motor to LED\n",
    "led_displacement_y = 1.\n",
    "exp.led_motor.MoveMotor(lens_center - exp.led_motor.GetCurrentPosition())\n",
    "exp.led_motor.MoveMotor(led_displacement_y) #Moving LED 2mm up to take substrate data \n",
    "exp.SwitchMotor('rot')\n"
   ]
  },
  {
   "cell_type": "code",
   "execution_count": 2537,
   "id": "plastic-extra",
   "metadata": {},
   "outputs": [
    {
     "data": {
      "text/plain": [
       "75.526699912218"
      ]
     },
     "metadata": {},
     "output_type": "display_data"
    }
   ],
   "source": [
    "exp.Align('sipm')\n",
    "exp.rot_motor.MoveMotor(pos - exp.rot_motor.GetCurrentPosition())\n",
    "\n",
    "exp.lens_motor.MoveMotor(lens_center_x - exp.lens_motor.GetCurrentPosition())\n",
    "lens_offset = 4.\n",
    "exp.lens_motor.MoveMotor(lens_offset)\n",
    "rots = 30\n",
    "exp.RotateLens(rots)\n",
    "\n",
    "display(FirstOrderDisplacement_oblique(lens_offset,rots))\n",
    "disp = FirstOrderDisplacement_oblique(lens_offset,rots)\n",
    "exp.sipm_motor.MoveMotor(disp)\n"
   ]
  },
  {
   "cell_type": "code",
   "execution_count": 2541,
   "id": "binary-count",
   "metadata": {},
   "outputs": [
    {
     "data": {
      "text/plain": [
       "75.526699912218"
      ]
     },
     "metadata": {},
     "output_type": "display_data"
    }
   ],
   "source": [
    "display(FirstOrderDisplacement_oblique(4.,30))\n",
    "exp.rot_motor.MoveMotor(pos - exp.rot_motor.GetCurrentPosition())\n"
   ]
  },
  {
   "cell_type": "code",
   "execution_count": 2341,
   "id": "prescription-front",
   "metadata": {},
   "outputs": [
    {
     "data": {
      "text/plain": [
       "'15/15'"
      ]
     },
     "metadata": {},
     "output_type": "display_data"
    },
    {
     "data": {
      "image/png": "[encoded data removed]",
      "text/plain": [
       "<Figure size 432x288 with 1 Axes>"
      ]
     },
     "metadata": {
      "needs_background": "light"
     },
     "output_type": "display_data"
    }
   ],
   "source": [
    "sipm_dx = 0.2\n",
    "sipm_scan_width = 3. # mm\n",
    "sipm_num_measurements = int(sipm_scan_width / sipm_dx)\n",
    "\n",
    "###Substrate data\n",
    "exp.lens_motor.MoveMotor(lens_center_x - exp.lens_motor.GetCurrentPosition())\n",
    "exp.Align('sipm')\n",
    "\n",
    "position_led, positions_sipm, maxes = exp.ScanMaxes(width=sipm_scan_width, num_measurements=sipm_num_measurements, print_progress=True)\n",
    "exp.lens_motor.MoveMotor(lens_center_x - exp.lens_motor.GetCurrentPosition())\n",
    " \n",
    "\n",
    "###Air data\n",
    "exp.Align('sipm')\n",
    "\n",
    "exp.lens_motor.MoveMotor(40.)\n",
    "position_led_air, positions_sipm_air, maxes_air = exp.ScanMaxes(width=sipm_scan_width, num_measurements=sipm_num_measurements, print_progress=True)\n",
    "exp.lens_motor.MoveMotor(lens_center_x - exp.lens_motor.GetCurrentPosition())\n",
    "\n",
    "\n",
    "plt.plot(positions_sipm,maxes)\n",
    "plt.plot(positions_sipm_air,maxes_air)\n",
    "\n",
    "plt.show()"
   ]
  },
  {
   "cell_type": "code",
   "execution_count": 2342,
   "id": "distinct-groove",
   "metadata": {},
   "outputs": [
    {
     "data": {
      "image/png": "[encoded data removed]",
      "text/plain": [
       "<Figure size 432x288 with 1 Axes>"
      ]
     },
     "metadata": {
      "needs_background": "light"
     },
     "output_type": "display_data"
    },
    {
     "data": {
      "text/plain": [
       "-0.058858858858855"
      ]
     },
     "metadata": {},
     "output_type": "display_data"
    },
    {
     "data": {
      "text/plain": [
       "-9.807503383756083"
      ]
     },
     "metadata": {},
     "output_type": "display_data"
    }
   ],
   "source": [
    "from scipy import interpolate\n",
    "thickness = 0.5\n",
    "index = 1.457\n",
    "FWHM = 0.1\n",
    "\n",
    "meio = (positions_sipm[len(positions_sipm)-1]+positions_sipm[0])/2\n",
    "x = np.linspace(positions_sipm[0], positions_sipm[len(positions_sipm)-1], 1000)\n",
    "sigma=FWHM/2.3548\n",
    "G = np.exp(-(x-meio)**2/(2*sigma**2))/(sigma*np.sqrt(2*np.pi))\n",
    "G = G/sum(G)\n",
    "\n",
    "interp = interpolate.interp1d(positions_sipm, maxes, kind = \"linear\")\n",
    "maxes3 = interp(x)\n",
    "maxes3 = np.convolve(maxes3, G, mode='same')\n",
    "\n",
    "interp = interpolate.interp1d(positions_sipm, maxes_air, kind = \"linear\")\n",
    "maxes_air2 = interp(x)\n",
    "maxes_air2 = np.convolve(maxes_air2, G, mode='same')\n",
    "\n",
    "plt.plot(x,maxes3)\n",
    "plt.plot(x,maxes_air2)\n",
    "plt.show()\n",
    "\n",
    "indices = signal.find_peaks(np.array(maxes3), prominence=0.01)[0]\n",
    "substrate_center =x[int(indices)]\n",
    "indices = signal.find_peaks(np.array(maxes_air2), prominence=0.01)[0]\n",
    "air_center =x[int(indices)]\n",
    "dbeam = air_center-substrate_center\n",
    "thetain = np.arctan(dbeam/thickness)\n",
    "display(dbeam)\n",
    "thetaI = np.arcsin(index*np.sin(thetain))\n",
    "display(thetaI*180/np.pi)"
   ]
  },
  {
   "cell_type": "code",
   "execution_count": 2340,
   "id": "chronic-expert",
   "metadata": {},
   "outputs": [],
   "source": [
    "exp.RotateLens(thetaI*180/np.pi)"
   ]
  },
  {
   "cell_type": "markdown",
   "id": "under-clock",
   "metadata": {},
   "source": [
    "#### Test split lens orientation"
   ]
  },
  {
   "cell_type": "code",
   "execution_count": 2343,
   "id": "green-antigua",
   "metadata": {},
   "outputs": [
    {
     "name": "stdout",
     "output_type": "stream",
     "text": [
      "Manually connect led motor and disconnect rot motor\n"
     ]
    }
   ],
   "source": [
    "exp.SwitchMotor('led')"
   ]
  },
  {
   "cell_type": "code",
   "execution_count": 2314,
   "id": "anticipated-reminder",
   "metadata": {},
   "outputs": [
    {
     "data": {
      "text/plain": [
       "'Scan 1/3: 47/50'"
      ]
     },
     "metadata": {},
     "output_type": "display_data"
    },
    {
     "ename": "KeyboardInterrupt",
     "evalue": "",
     "output_type": "error",
     "traceback": [
      "\u001b[1;31m---------------------------------------------------------------------------\u001b[0m",
      "\u001b[1;31mKeyboardInterrupt\u001b[0m                         Traceback (most recent call last)",
      "\u001b[1;32m<ipython-input-2314-123b8b2ccc2d>\u001b[0m in \u001b[0;36m<module>\u001b[1;34m\u001b[0m\n\u001b[0;32m     19\u001b[0m         \u001b[0mclear_output\u001b[0m\u001b[1;33m(\u001b[0m\u001b[0mwait\u001b[0m\u001b[1;33m=\u001b[0m\u001b[1;32mTrue\u001b[0m\u001b[1;33m)\u001b[0m\u001b[1;33m\u001b[0m\u001b[1;33m\u001b[0m\u001b[0m\n\u001b[0;32m     20\u001b[0m         \u001b[0mdisplay\u001b[0m\u001b[1;33m(\u001b[0m\u001b[1;34m'Scan 1/3: '\u001b[0m\u001b[1;33m+\u001b[0m\u001b[0mstr\u001b[0m\u001b[1;33m(\u001b[0m\u001b[0mstep\u001b[0m\u001b[1;33m+\u001b[0m\u001b[1;36m1\u001b[0m\u001b[1;33m)\u001b[0m\u001b[1;33m+\u001b[0m\u001b[1;34m\"/\"\u001b[0m\u001b[1;33m+\u001b[0m\u001b[0mstr\u001b[0m\u001b[1;33m(\u001b[0m\u001b[0mnum_led_steps\u001b[0m\u001b[1;33m)\u001b[0m\u001b[1;33m)\u001b[0m\u001b[1;33m\u001b[0m\u001b[1;33m\u001b[0m\u001b[0m\n\u001b[1;32m---> 21\u001b[1;33m         \u001b[0mmaxes_l\u001b[0m\u001b[1;33m.\u001b[0m\u001b[0mappend\u001b[0m\u001b[1;33m(\u001b[0m\u001b[0mosc\u001b[0m\u001b[1;33m.\u001b[0m\u001b[0mMeasurePeaktoPeak\u001b[0m\u001b[1;33m(\u001b[0m\u001b[0mscope\u001b[0m\u001b[1;33m,\u001b[0m \u001b[1;36m15\u001b[0m\u001b[1;33m)\u001b[0m\u001b[1;33m)\u001b[0m\u001b[1;33m\u001b[0m\u001b[1;33m\u001b[0m\u001b[0m\n\u001b[0m\u001b[0;32m     22\u001b[0m         \u001b[0mled_positions_l\u001b[0m\u001b[1;33m.\u001b[0m\u001b[0mappend\u001b[0m\u001b[1;33m(\u001b[0m\u001b[0mexp\u001b[0m\u001b[1;33m.\u001b[0m\u001b[0mled_motor\u001b[0m\u001b[1;33m.\u001b[0m\u001b[0mGetCurrentPosition\u001b[0m\u001b[1;33m(\u001b[0m\u001b[1;33m)\u001b[0m\u001b[1;33m)\u001b[0m\u001b[1;33m\u001b[0m\u001b[1;33m\u001b[0m\u001b[0m\n\u001b[0;32m     23\u001b[0m         \u001b[0mexp\u001b[0m\u001b[1;33m.\u001b[0m\u001b[0mled_motor\u001b[0m\u001b[1;33m.\u001b[0m\u001b[0mMoveMotor\u001b[0m\u001b[1;33m(\u001b[0m\u001b[0mdx_led\u001b[0m\u001b[1;33m)\u001b[0m\u001b[1;33m\u001b[0m\u001b[1;33m\u001b[0m\u001b[0m\n",
      "\u001b[1;32m~\\Documents\\DiffractionStudies\\metalens\\oscilloscope.py\u001b[0m in \u001b[0;36mMeasurePeaktoPeak\u001b[1;34m(scope, num_sweeps)\u001b[0m\n\u001b[0;32m     38\u001b[0m \u001b[1;33m\u001b[0m\u001b[0m\n\u001b[0;32m     39\u001b[0m     \u001b[1;32mfor\u001b[0m \u001b[0mi\u001b[0m \u001b[1;32min\u001b[0m \u001b[0mrange\u001b[0m\u001b[1;33m(\u001b[0m\u001b[1;36m0\u001b[0m\u001b[1;33m,\u001b[0m \u001b[0mnum_sweeps\u001b[0m\u001b[1;33m)\u001b[0m\u001b[1;33m:\u001b[0m\u001b[1;33m\u001b[0m\u001b[1;33m\u001b[0m\u001b[0m\n\u001b[1;32m---> 40\u001b[1;33m         \u001b[0mr\u001b[0m \u001b[1;33m=\u001b[0m \u001b[0mscope\u001b[0m\u001b[1;33m.\u001b[0m\u001b[0mquery\u001b[0m\u001b[1;33m(\u001b[0m\u001b[1;34mr\"\"\"vbs? 'return=app.acquisition.acquire( 0.0003 , True ) ' \"\"\"\u001b[0m\u001b[1;33m)\u001b[0m\u001b[1;33m\u001b[0m\u001b[1;33m\u001b[0m\u001b[0m\n\u001b[0m\u001b[0;32m     41\u001b[0m         \u001b[0mr\u001b[0m \u001b[1;33m=\u001b[0m \u001b[0mscope\u001b[0m\u001b[1;33m.\u001b[0m\u001b[0mquery\u001b[0m\u001b[1;33m(\u001b[0m\u001b[1;34mr\"\"\"vbs? 'return=app.WaitUntilIdle(.0003)' \"\"\"\u001b[0m\u001b[1;33m)\u001b[0m\u001b[1;33m\u001b[0m\u001b[1;33m\u001b[0m\u001b[0m\n\u001b[0;32m     42\u001b[0m         \u001b[1;32mif\u001b[0m \u001b[0mr\u001b[0m\u001b[1;33m==\u001b[0m\u001b[1;36m0\u001b[0m\u001b[1;33m:\u001b[0m\u001b[1;33m\u001b[0m\u001b[1;33m\u001b[0m\u001b[0m\n",
      "\u001b[1;32mc:\\users\\owner\\appdata\\local\\programs\\python\\python38-32\\lib\\site-packages\\pyvisa\\resources\\messagebased.py\u001b[0m in \u001b[0;36mquery\u001b[1;34m(self, message, delay)\u001b[0m\n\u001b[0;32m    611\u001b[0m         \u001b[1;32mif\u001b[0m \u001b[0mdelay\u001b[0m \u001b[1;33m>\u001b[0m \u001b[1;36m0.0\u001b[0m\u001b[1;33m:\u001b[0m\u001b[1;33m\u001b[0m\u001b[1;33m\u001b[0m\u001b[0m\n\u001b[0;32m    612\u001b[0m             \u001b[0mtime\u001b[0m\u001b[1;33m.\u001b[0m\u001b[0msleep\u001b[0m\u001b[1;33m(\u001b[0m\u001b[0mdelay\u001b[0m\u001b[1;33m)\u001b[0m\u001b[1;33m\u001b[0m\u001b[1;33m\u001b[0m\u001b[0m\n\u001b[1;32m--> 613\u001b[1;33m         \u001b[1;32mreturn\u001b[0m \u001b[0mself\u001b[0m\u001b[1;33m.\u001b[0m\u001b[0mread\u001b[0m\u001b[1;33m(\u001b[0m\u001b[1;33m)\u001b[0m\u001b[1;33m\u001b[0m\u001b[1;33m\u001b[0m\u001b[0m\n\u001b[0m\u001b[0;32m    614\u001b[0m \u001b[1;33m\u001b[0m\u001b[0m\n\u001b[0;32m    615\u001b[0m     \u001b[1;32mdef\u001b[0m \u001b[0mask\u001b[0m\u001b[1;33m(\u001b[0m\u001b[0mself\u001b[0m\u001b[1;33m,\u001b[0m \u001b[0mmessage\u001b[0m\u001b[1;33m,\u001b[0m \u001b[0mdelay\u001b[0m\u001b[1;33m=\u001b[0m\u001b[1;32mNone\u001b[0m\u001b[1;33m)\u001b[0m\u001b[1;33m:\u001b[0m\u001b[1;33m\u001b[0m\u001b[1;33m\u001b[0m\u001b[0m\n",
      "\u001b[1;32mc:\\users\\owner\\appdata\\local\\programs\\python\\python38-32\\lib\\site-packages\\pyvisa\\resources\\messagebased.py\u001b[0m in \u001b[0;36mread\u001b[1;34m(self, termination, encoding)\u001b[0m\n\u001b[0;32m    425\u001b[0m         \u001b[1;32mif\u001b[0m \u001b[0mtermination\u001b[0m \u001b[1;32mis\u001b[0m \u001b[1;32mNone\u001b[0m\u001b[1;33m:\u001b[0m\u001b[1;33m\u001b[0m\u001b[1;33m\u001b[0m\u001b[0m\n\u001b[0;32m    426\u001b[0m             \u001b[0mtermination\u001b[0m \u001b[1;33m=\u001b[0m \u001b[0mself\u001b[0m\u001b[1;33m.\u001b[0m\u001b[0m_read_termination\u001b[0m\u001b[1;33m\u001b[0m\u001b[1;33m\u001b[0m\u001b[0m\n\u001b[1;32m--> 427\u001b[1;33m             \u001b[0mmessage\u001b[0m \u001b[1;33m=\u001b[0m \u001b[0mself\u001b[0m\u001b[1;33m.\u001b[0m\u001b[0m_read_raw\u001b[0m\u001b[1;33m(\u001b[0m\u001b[1;33m)\u001b[0m\u001b[1;33m.\u001b[0m\u001b[0mdecode\u001b[0m\u001b[1;33m(\u001b[0m\u001b[0menco\u001b[0m\u001b[1;33m)\u001b[0m\u001b[1;33m\u001b[0m\u001b[1;33m\u001b[0m\u001b[0m\n\u001b[0m\u001b[0;32m    428\u001b[0m         \u001b[1;32melse\u001b[0m\u001b[1;33m:\u001b[0m\u001b[1;33m\u001b[0m\u001b[1;33m\u001b[0m\u001b[0m\n\u001b[0;32m    429\u001b[0m             \u001b[1;32mwith\u001b[0m \u001b[0mself\u001b[0m\u001b[1;33m.\u001b[0m\u001b[0mread_termination_context\u001b[0m\u001b[1;33m(\u001b[0m\u001b[0mtermination\u001b[0m\u001b[1;33m)\u001b[0m\u001b[1;33m:\u001b[0m\u001b[1;33m\u001b[0m\u001b[1;33m\u001b[0m\u001b[0m\n",
      "\u001b[1;32mc:\\users\\owner\\appdata\\local\\programs\\python\\python38-32\\lib\\site-packages\\pyvisa\\resources\\messagebased.py\u001b[0m in \u001b[0;36m_read_raw\u001b[1;34m(self, size)\u001b[0m\n\u001b[0;32m    398\u001b[0m                     logger.debug('%s - reading %d bytes (last status %r)',\n\u001b[0;32m    399\u001b[0m                                  self._resource_name, size, status)\n\u001b[1;32m--> 400\u001b[1;33m                     \u001b[0mchunk\u001b[0m\u001b[1;33m,\u001b[0m \u001b[0mstatus\u001b[0m \u001b[1;33m=\u001b[0m \u001b[0mself\u001b[0m\u001b[1;33m.\u001b[0m\u001b[0mvisalib\u001b[0m\u001b[1;33m.\u001b[0m\u001b[0mread\u001b[0m\u001b[1;33m(\u001b[0m\u001b[0mself\u001b[0m\u001b[1;33m.\u001b[0m\u001b[0msession\u001b[0m\u001b[1;33m,\u001b[0m \u001b[0msize\u001b[0m\u001b[1;33m)\u001b[0m\u001b[1;33m\u001b[0m\u001b[1;33m\u001b[0m\u001b[0m\n\u001b[0m\u001b[0;32m    401\u001b[0m                     \u001b[0mret\u001b[0m\u001b[1;33m.\u001b[0m\u001b[0mextend\u001b[0m\u001b[1;33m(\u001b[0m\u001b[0mchunk\u001b[0m\u001b[1;33m)\u001b[0m\u001b[1;33m\u001b[0m\u001b[1;33m\u001b[0m\u001b[0m\n\u001b[0;32m    402\u001b[0m             \u001b[1;32mexcept\u001b[0m \u001b[0merrors\u001b[0m\u001b[1;33m.\u001b[0m\u001b[0mVisaIOError\u001b[0m \u001b[1;32mas\u001b[0m \u001b[0me\u001b[0m\u001b[1;33m:\u001b[0m\u001b[1;33m\u001b[0m\u001b[1;33m\u001b[0m\u001b[0m\n",
      "\u001b[1;32mc:\\users\\owner\\appdata\\local\\programs\\python\\python38-32\\lib\\site-packages\\pyvisa\\ctwrapper\\functions.py\u001b[0m in \u001b[0;36mread\u001b[1;34m(library, session, count)\u001b[0m\n\u001b[0;32m   1582\u001b[0m     \u001b[0mbuffer\u001b[0m \u001b[1;33m=\u001b[0m \u001b[0mcreate_string_buffer\u001b[0m\u001b[1;33m(\u001b[0m\u001b[0mcount\u001b[0m\u001b[1;33m)\u001b[0m\u001b[1;33m\u001b[0m\u001b[1;33m\u001b[0m\u001b[0m\n\u001b[0;32m   1583\u001b[0m     \u001b[0mreturn_count\u001b[0m \u001b[1;33m=\u001b[0m \u001b[0mViUInt32\u001b[0m\u001b[1;33m(\u001b[0m\u001b[1;33m)\u001b[0m\u001b[1;33m\u001b[0m\u001b[1;33m\u001b[0m\u001b[0m\n\u001b[1;32m-> 1584\u001b[1;33m     \u001b[0mret\u001b[0m \u001b[1;33m=\u001b[0m \u001b[0mlibrary\u001b[0m\u001b[1;33m.\u001b[0m\u001b[0mviRead\u001b[0m\u001b[1;33m(\u001b[0m\u001b[0msession\u001b[0m\u001b[1;33m,\u001b[0m \u001b[0mbuffer\u001b[0m\u001b[1;33m,\u001b[0m \u001b[0mcount\u001b[0m\u001b[1;33m,\u001b[0m \u001b[0mbyref\u001b[0m\u001b[1;33m(\u001b[0m\u001b[0mreturn_count\u001b[0m\u001b[1;33m)\u001b[0m\u001b[1;33m)\u001b[0m\u001b[1;33m\u001b[0m\u001b[1;33m\u001b[0m\u001b[0m\n\u001b[0m\u001b[0;32m   1585\u001b[0m     \u001b[1;32mreturn\u001b[0m \u001b[0mbuffer\u001b[0m\u001b[1;33m.\u001b[0m\u001b[0mraw\u001b[0m\u001b[1;33m[\u001b[0m\u001b[1;33m:\u001b[0m\u001b[0mreturn_count\u001b[0m\u001b[1;33m.\u001b[0m\u001b[0mvalue\u001b[0m\u001b[1;33m]\u001b[0m\u001b[1;33m,\u001b[0m \u001b[0mret\u001b[0m\u001b[1;33m\u001b[0m\u001b[1;33m\u001b[0m\u001b[0m\n\u001b[0;32m   1586\u001b[0m \u001b[1;33m\u001b[0m\u001b[0m\n",
      "\u001b[1;32mc:\\users\\owner\\appdata\\local\\programs\\python\\python38-32\\lib\\site-packages\\pyvisa\\ctwrapper\\highlevel.py\u001b[0m in \u001b[0;36m_return_handler\u001b[1;34m(self, ret_value, func, arguments)\u001b[0m\n\u001b[0;32m    152\u001b[0m             \u001b[0msetattr\u001b[0m\u001b[1;33m(\u001b[0m\u001b[0mself\u001b[0m\u001b[1;33m,\u001b[0m \u001b[0mmethod_name\u001b[0m\u001b[1;33m,\u001b[0m \u001b[0mgetattr\u001b[0m\u001b[1;33m(\u001b[0m\u001b[0mself\u001b[0m\u001b[1;33m.\u001b[0m\u001b[0mlib\u001b[0m\u001b[1;33m,\u001b[0m \u001b[0mmethod_name\u001b[0m\u001b[1;33m)\u001b[0m\u001b[1;33m)\u001b[0m\u001b[1;33m\u001b[0m\u001b[1;33m\u001b[0m\u001b[0m\n\u001b[0;32m    153\u001b[0m \u001b[1;33m\u001b[0m\u001b[0m\n\u001b[1;32m--> 154\u001b[1;33m     \u001b[1;32mdef\u001b[0m \u001b[0m_return_handler\u001b[0m\u001b[1;33m(\u001b[0m\u001b[0mself\u001b[0m\u001b[1;33m,\u001b[0m \u001b[0mret_value\u001b[0m\u001b[1;33m,\u001b[0m \u001b[0mfunc\u001b[0m\u001b[1;33m,\u001b[0m \u001b[0marguments\u001b[0m\u001b[1;33m)\u001b[0m\u001b[1;33m:\u001b[0m\u001b[1;33m\u001b[0m\u001b[1;33m\u001b[0m\u001b[0m\n\u001b[0m\u001b[0;32m    155\u001b[0m         \"\"\"Check return values for errors and warnings.\n\u001b[0;32m    156\u001b[0m         \"\"\"\n",
      "\u001b[1;31mKeyboardInterrupt\u001b[0m: "
     ]
    }
   ],
   "source": [
    "led_scan_width = 5.\n",
    "dx_led = .1\n",
    "num_led_steps = int(led_scan_width / dx_led)\n",
    "lens_offset = .1 # mm\n",
    "lens_scan_width = 2.\n",
    "dx_lens = .5\n",
    "num_lens_steps = int(lens_scan_width / dx_lens)\n",
    "maxes = []\n",
    "lens_positions = []\n",
    "led_positions = []\n",
    "\n",
    "exp.lens_motor.MoveMotor(lens_center_x - exp.lens_motor.GetCurrentPosition())\n",
    "exp.led_motor.MoveMotor(lens_center - exp.led_motor.GetCurrentPosition())\n",
    "exp.lens_motor.MoveMotor(-lens_offset)\n",
    "for lens_step in range(num_lens_steps):\n",
    "    exp.led_motor.MoveMotor(-led_scan_width/2.)\n",
    "    lens_positions.append(exp.lens_motor.GetCurrentPosition())\n",
    "    for step in range(num_led_steps):\n",
    "        clear_output(wait=True)\n",
    "        display('Scan 1/3: '+str(step+1)+\"/\"+str(num_led_steps))\n",
    "        maxes_l.append(osc.MeasurePeaktoPeak(scope, 15))\n",
    "        led_positions_l.append(exp.led_motor.GetCurrentPosition())\n",
    "        exp.led_motor.MoveMotor(dx_led)\n",
    "    exp.led_motor.MoveMotor(-led_scan_width/2.)"
   ]
  },
  {
   "cell_type": "code",
   "execution_count": 2373,
   "id": "written-craft",
   "metadata": {},
   "outputs": [
    {
     "data": {
      "text/plain": [
       "'Scan 3/3: 15/15'"
      ]
     },
     "metadata": {},
     "output_type": "display_data"
    }
   ],
   "source": [
    "exp.Align('sipm')\n",
    "led_scan_width = 1.5\n",
    "dx_led = .1\n",
    "num_led_steps = int(led_scan_width / dx_led)\n",
    "lens_offset = 4. # mm\n",
    "maxes_l = []\n",
    "led_positions_l = []\n",
    "maxes_c = []\n",
    "led_positions_c = []\n",
    "maxes_r = []\n",
    "led_positions_r = []\n",
    "correction = 0.\n",
    "exp.lens_motor.MoveMotor(lens_center_x - exp.lens_motor.GetCurrentPosition())\n",
    "exp.led_motor.MoveMotor(lens_center - exp.led_motor.GetCurrentPosition())\n",
    "exp.lens_motor.MoveMotor(-lens_offset)\n",
    "exp.led_motor.MoveMotor(-led_scan_width/2.)\n",
    "exp.led_motor.MoveMotor(-correction*lens_offset)\n",
    "lens_pos_l = exp.lens_motor.GetCurrentPosition()\n",
    "for step in range(num_led_steps):\n",
    "    clear_output(wait=True)\n",
    "    display('Scan 1/3: '+str(step+1)+\"/\"+str(num_led_steps))\n",
    "    maxes_l.append(osc.MeasurePeaktoPeak(scope, 15))\n",
    "    led_positions_l.append(exp.led_motor.GetCurrentPosition())\n",
    "    exp.led_motor.MoveMotor(dx_led)\n",
    "exp.led_motor.MoveMotor(-led_scan_width/2.)\n",
    "\n",
    "exp.lens_motor.MoveMotor(lens_center_x - exp.lens_motor.GetCurrentPosition())\n",
    "exp.led_motor.MoveMotor(lens_center - exp.led_motor.GetCurrentPosition())\n",
    "exp.led_motor.MoveMotor(-led_scan_width/2.)\n",
    "lens_pos_c = exp.lens_motor.GetCurrentPosition()\n",
    "for step in range(num_led_steps):\n",
    "    clear_output(wait=True)\n",
    "    display('Scan 2/3: '+str(step+1)+\"/\"+str(num_led_steps))\n",
    "    maxes_c.append(osc.MeasurePeaktoPeak(scope, 15))\n",
    "    led_positions_c.append(exp.led_motor.GetCurrentPosition())\n",
    "    exp.led_motor.MoveMotor(dx_led)\n",
    "exp.led_motor.MoveMotor(-led_scan_width/2.)\n",
    "\n",
    "exp.lens_motor.MoveMotor(lens_center_x - exp.lens_motor.GetCurrentPosition())\n",
    "exp.led_motor.MoveMotor(lens_center - exp.led_motor.GetCurrentPosition())\n",
    "exp.lens_motor.MoveMotor(lens_offset)\n",
    "exp.led_motor.MoveMotor(correction*lens_offset)\n",
    "\n",
    "exp.led_motor.MoveMotor(-led_scan_width/2.)\n",
    "lens_pos_r = exp.lens_motor.GetCurrentPosition()\n",
    "for step in range(num_led_steps):\n",
    "    clear_output(wait=True)\n",
    "    display('Scan 3/3: '+str(step+1)+\"/\"+str(num_led_steps))\n",
    "    maxes_r.append(osc.MeasurePeaktoPeak(scope, 15))\n",
    "    led_positions_r.append(exp.led_motor.GetCurrentPosition())\n",
    "    exp.led_motor.MoveMotor(dx_led)\n",
    "exp.led_motor.MoveMotor(-led_scan_width/2.)"
   ]
  },
  {
   "cell_type": "code",
   "execution_count": 2374,
   "id": "mighty-gibson",
   "metadata": {},
   "outputs": [
    {
     "data": {
      "image/png": "[encoded data removed]",
      "text/plain": [
       "<Figure size 432x288 with 1 Axes>"
      ]
     },
     "metadata": {
      "needs_background": "light"
     },
     "output_type": "display_data"
    }
   ],
   "source": [
    "plt.plot(led_positions_l, maxes_l, label=str(lens_pos_l))\n",
    "plt.plot(led_positions_l, maxes_c, label=str(lens_pos_c))\n",
    "plt.plot(led_positions_l, maxes_r, label=str(lens_pos_r))\n",
    "plt.xlabel('led position')\n",
    "plt.legend()\n",
    "plt.show()"
   ]
  },
  {
   "cell_type": "code",
   "execution_count": 2375,
   "id": "meaningful-terrorist",
   "metadata": {},
   "outputs": [
    {
     "data": {
      "image/png": "[encoded data removed]",
      "text/plain": [
       "<Figure size 432x288 with 1 Axes>"
      ]
     },
     "metadata": {
      "needs_background": "light"
     },
     "output_type": "display_data"
    },
    {
     "data": {
      "text/plain": [
       "-0.046246246246255396"
      ]
     },
     "metadata": {},
     "output_type": "display_data"
    },
    {
     "data": {
      "text/plain": [
       "-0.07707707707709233"
      ]
     },
     "metadata": {},
     "output_type": "display_data"
    },
    {
     "data": {
      "text/plain": [
       "0.03083083083083693"
      ]
     },
     "metadata": {},
     "output_type": "display_data"
    },
    {
     "data": {
      "text/plain": [
       "-0.023123123123127698"
      ]
     },
     "metadata": {},
     "output_type": "display_data"
    },
    {
     "data": {
      "text/plain": [
       "-0.3312106516594931"
      ]
     },
     "metadata": {},
     "output_type": "display_data"
    }
   ],
   "source": [
    "from scipy import interpolate\n",
    "\n",
    "FWHM = 0.05\n",
    "sigma=FWHM/2.3548\n",
    "\n",
    "meio = (led_positions_l[len(led_positions_l)-1]+led_positions_l[0])/2\n",
    "xl = np.linspace(led_positions_l[0], led_positions_l[len(led_positions_l)-1], 1000)\n",
    "G = np.exp(-(xl-meio)**2/(2*sigma**2))/(sigma*np.sqrt(2*np.pi))\n",
    "G = G/sum(G)\n",
    "\n",
    "xl = np.linspace(led_positions_l[0], led_positions_l[len(led_positions_l)-1], 1000)\n",
    "interp = interpolate.interp1d(led_positions_l, maxes_l, kind = \"linear\")\n",
    "maxes3l = interp(xl)\n",
    "maxes3l = np.convolve(maxes3l, G, mode='same')\n",
    "\n",
    "xc = np.linspace(led_positions_c[0], led_positions_c[len(led_positions_c)-1], 1000)\n",
    "interp = interpolate.interp1d(led_positions_c, maxes_c, kind = \"linear\")\n",
    "maxes3c = interp(xc)\n",
    "maxes3c = np.convolve(maxes3c, G, mode='same')\n",
    "\n",
    "xr = np.linspace(led_positions_r[0], led_positions_r[len(led_positions_r)-1], 1000)\n",
    "interp = interpolate.interp1d(led_positions_r, maxes_r, kind = \"linear\")\n",
    "maxes3r = interp(xr)\n",
    "maxes3r = np.convolve(maxes3r, G, mode='same')\n",
    "\n",
    "plt.plot(xc,maxes3l, label=str(lens_pos_l))\n",
    "plt.plot(xc,maxes3c, label=str(lens_pos_c))\n",
    "plt.plot(xc,maxes3r, label=str(lens_pos_r))\n",
    "plt.legend()\n",
    "plt.show()\n",
    "\n",
    "indices = signal.find_peaks(np.array(maxes3r)*-1, prominence=0.005)[0]\n",
    "peakr =xr[int(indices[0])]\n",
    "indices = signal.find_peaks(np.array(maxes3c)*-1, prominence=0.005)[0]\n",
    "peakc =xc[int(indices[0])]\n",
    "indices = signal.find_peaks(np.array(maxes3l)*-1, prominence=0.005)[0]\n",
    "peakl =xl[int(indices[0])]\n",
    "\n",
    "display(peakr-peakl)\n",
    "display(peakc-peakl)\n",
    "display(peakr-peakc)\n",
    "\n",
    "correction2 = (peakr-peakl)/(lens_offset*2)\n",
    "display(correction2*lens_offset)\n",
    "\n",
    "display(np.arctan(correction2)*180/np.pi)"
   ]
  },
  {
   "cell_type": "markdown",
   "id": "gentle-picking",
   "metadata": {},
   "source": [
    "### Test runs"
   ]
  },
  {
   "cell_type": "code",
   "execution_count": 333,
   "id": "noble-linux",
   "metadata": {},
   "outputs": [
    {
     "data": {
      "text/plain": [
       "'100/100'"
      ]
     },
     "metadata": {},
     "output_type": "display_data"
    },
    {
     "data": {
      "text/plain": [
       "[<matplotlib.lines.Line2D at 0x1fc71c88>]"
      ]
     },
     "execution_count": 333,
     "metadata": {},
     "output_type": "execute_result"
    },
    {
     "data": {
      "image/png": "[encoded data removed]",
      "text/plain": [
       "<Figure size 432x288 with 1 Axes>"
      ]
     },
     "metadata": {
      "needs_background": "light"
     },
     "output_type": "display_data"
    }
   ],
   "source": [
    "exp.lens_motor.MoveMotor(lens_center_x - exp.lens_motor.GetCurrentPosition())\n",
    "exp.led_motor.MoveMotor(lens_center - exp.led_motor.GetCurrentPosition())\n",
    "exp.lens_motor.MoveMotor(1)\n",
    "position_led, positions_sipm, maxes = exp.ScanMaxes(width=60., num_measurements=100)\n",
    "plt.plot(positions_sipm, maxes)"
   ]
  },
  {
   "cell_type": "markdown",
   "id": "capable-visiting",
   "metadata": {},
   "source": [
    "# Strip Metalens Runs"
   ]
  },
  {
   "cell_type": "code",
   "execution_count": 1376,
   "id": "correct-spokesman",
   "metadata": {},
   "outputs": [],
   "source": [
    "def FirstOrderDisplacement(lens_offset):\n",
    "    sipm_lens_distance = 12.5\n",
    "    focal_length = 0.7\n",
    "    return (- sipm_lens_distance / focal_length + 1.) * lens_offset"
   ]
  },
  {
   "cell_type": "code",
   "execution_count": 2638,
   "id": "emotional-durham",
   "metadata": {},
   "outputs": [],
   "source": [
    "def FirstOrderDisplacement_oblique(lens_offset,angle):\n",
    "    sipm_lens_distance = 125 ## mm\n",
    "    focal_length = 7. ##mm\n",
    "    angle = angle*np.pi/180.\n",
    "    theta = (-lens_offset / np.sqrt(lens_offset**2+focal_length**2)+np.sin(angle))\n",
    "    if abs(theta)>=1.:\n",
    "        return np.nan\n",
    "    else:\n",
    "        theta = np.arcsin(theta)\n",
    "        return sipm_lens_distance*np.tan(theta-angle)+lens_offset"
   ]
  },
  {
   "cell_type": "code",
   "execution_count": 2642,
   "id": "searching-addiction",
   "metadata": {},
   "outputs": [
    {
     "data": {
      "text/plain": [
       "-16.9086086153626"
      ]
     },
     "metadata": {},
     "output_type": "display_data"
    },
    {
     "data": {
      "text/plain": [
       "-16.857142857142858"
      ]
     },
     "execution_count": 2642,
     "metadata": {},
     "output_type": "execute_result"
    }
   ],
   "source": [
    "lens_offset = 1.\n",
    "display(FirstOrderDisplacement_oblique(lens_offset,10.))\n",
    "FirstOrderDisplacement(lens_offset)"
   ]
  },
  {
   "cell_type": "code",
   "execution_count": 2346,
   "id": "structural-liverpool",
   "metadata": {},
   "outputs": [
    {
     "data": {
      "text/plain": [
       "0.0"
      ]
     },
     "execution_count": 2346,
     "metadata": {},
     "output_type": "execute_result"
    }
   ],
   "source": [
    "correction"
   ]
  },
  {
   "cell_type": "code",
   "execution_count": 2362,
   "id": "musical-flood",
   "metadata": {},
   "outputs": [
    {
     "data": {
      "text/plain": [
       "'150/150'"
      ]
     },
     "metadata": {},
     "output_type": "display_data"
    },
    {
     "name": "stdout",
     "output_type": "stream",
     "text": [
      "Total run time = 190.7563063542048\n"
     ]
    }
   ],
   "source": [
    "# Run as of 5/27/2022\n",
    "start_time = time.time()\n",
    "lens_scan_width = 8.\n",
    "lens_dx = .2\n",
    "lens_num_measurements = int( lens_scan_width / lens_dx)\n",
    "sipm_dx = 0.2\n",
    "base_file_name = '_stripmetalens_50ns_15sweeps.csv'\n",
    "run_num = 1752\n",
    "current_rot = 0.0\n",
    "\n",
    "\n",
    "exp.lens_motor.MoveMotor(lens_center_x - exp.lens_motor.GetCurrentPosition())\n",
    "exp.led_motor.MoveMotor(lens_center - exp.led_motor.GetCurrentPosition())\n",
    "\n",
    "exp.lens_motor.MoveMotor(-lens_scan_width/2.)\n",
    "exp.led_motor.MoveMotor(correction*(-lens_scan_width/2.))\n",
    "\n",
    "for lens_scan in range(lens_num_measurements):\n",
    "\n",
    "    exp.Align('sipm')\n",
    "    position_lens = exp.lens_motor.GetCurrentPosition()\n",
    "       \n",
    "    if abs(position_lens - lens_center_x) <= 1.0:\n",
    "        sipm_scan_width = 60. # mm\n",
    "        sipm_num_measurements = int(sipm_scan_width / sipm_dx)\n",
    "        position_led, positions_sipm, maxes = exp.ScanMaxes(width=sipm_scan_width, num_measurements=sipm_num_measurements, print_progress=True)\n",
    "        file_name = 'run'+str(run_num)+base_file_name\n",
    "        SaveScanMaxesData(file_name, position_lens, position_led, positions_sipm, maxes, current_rot)\n",
    "    \n",
    "    else:\n",
    "        sipm_scan_width = 30. # mm\n",
    "        sipm_num_measurements = int(sipm_scan_width / sipm_dx)\n",
    "        position_led1, positions_sipm1, maxes1 = exp.ScanMaxes(width=sipm_scan_width, num_measurements=sipm_num_measurements, print_progress=True)\n",
    "    \n",
    "        first_order_pos = FirstOrderDisplacement(lens_center_x - exp.lens_motor.GetCurrentPosition())\n",
    "        exp.sipm_motor.MoveMotor(first_order_pos)\n",
    "        sipm_scan_width = 30. # mm\n",
    "        sipm_num_measurements = int(sipm_scan_width / sipm_dx)\n",
    "        position_led2, positions_sipm2, maxes2 = exp.ScanMaxes(width=sipm_scan_width, num_measurements=sipm_num_measurements, print_progress=True)\n",
    "        \n",
    "        position_led =  [position_led1 , position_led2]\n",
    "        positions_sipm = positions_sipm1 + positions_sipm2\n",
    "        maxes = maxes1+maxes2\n",
    "        file_name = 'run'+str(run_num)+base_file_name       \n",
    "        SaveScanMaxesData(file_name, position_lens, position_led, positions_sipm, maxes, current_rot)\n",
    "    \n",
    "    exp.lens_motor.MoveMotor(lens_dx)\n",
    "    exp.led_motor.MoveMotor(correction*lens_dx)\n",
    "\n",
    "    run_num += 1\n",
    "    #print(rot, lens_scan, current_rot)\n",
    "\n",
    "exp.lens_motor.MoveMotor(-lens_scan_width/2.)\n",
    "end_time = time.time()\n",
    "print('Total run time = '+str((end_time-start_time)/60.))"
   ]
  },
  {
   "cell_type": "code",
   "execution_count": 1373,
   "id": "brief-driver",
   "metadata": {},
   "outputs": [],
   "source": []
  },
  {
   "cell_type": "code",
   "execution_count": 2367,
   "id": "insured-background",
   "metadata": {},
   "outputs": [
    {
     "data": {
      "text/plain": [
       "'50/50'"
      ]
     },
     "metadata": {},
     "output_type": "display_data"
    },
    {
     "name": "stdout",
     "output_type": "stream",
     "text": [
      "Total run time = 3.8222626566886904\n"
     ]
    }
   ],
   "source": [
    "# Run as of 06/06/2022\n",
    "# Substrate only\n",
    "start_time = time.time()\n",
    "lens_scan_width = 6.\n",
    "lens_dx = 1.2\n",
    "lens_num_measurements = int( lens_scan_width / lens_dx)\n",
    "sipm_dx = 0.2\n",
    "base_file_name = '_substratestrip_50ns_15sweeps.csv'\n",
    "run_num = 1792\n",
    "current_rot = 0.0\n",
    "led_displacement_y = 1.\n",
    "\n",
    "exp.lens_motor.MoveMotor(lens_center_x - exp.lens_motor.GetCurrentPosition())\n",
    "exp.led_motor.MoveMotor(lens_center - exp.led_motor.GetCurrentPosition())\n",
    "exp.led_motor.MoveMotor(led_displacement_y) #Moving LED 2mm up to take substrate data \n",
    "exp.lens_motor.MoveMotor(-lens_scan_width/2.)\n",
    "for lens_scan in range(lens_num_measurements):\n",
    "    exp.Align('sipm')\n",
    "    position_lens = exp.lens_motor.GetCurrentPosition()\n",
    "    sipm_scan_width = 10. # mm\n",
    "    sipm_num_measurements = int(sipm_scan_width / sipm_dx)\n",
    "    position_led, positions_sipm, maxes = exp.ScanMaxes(width=sipm_scan_width, num_measurements=sipm_num_measurements, print_progress=True)\n",
    "    file_name = 'run'+str(run_num)+base_file_name\n",
    "    SaveScanMaxesData(file_name, position_lens, position_led, positions_sipm, maxes, current_rot)   \n",
    "    exp.lens_motor.MoveMotor(lens_dx)\n",
    "    run_num += 1\n",
    "    exp.led_motor.MoveMotor(.2)\n",
    "\n",
    "    #print(rot, lens_scan, current_rot)\n",
    "\n",
    "exp.lens_motor.MoveMotor(-lens_scan_width/2.)\n",
    "exp.led_motor.MoveMotor(lens_center - exp.led_motor.GetCurrentPosition())\n",
    "end_time = time.time()\n",
    "print('Total run time = '+str((end_time-start_time)/60.))"
   ]
  },
  {
   "cell_type": "code",
   "execution_count": 2368,
   "id": "unauthorized-orchestra",
   "metadata": {},
   "outputs": [
    {
     "data": {
      "text/plain": [
       "'50/50'"
      ]
     },
     "metadata": {},
     "output_type": "display_data"
    },
    {
     "name": "stdout",
     "output_type": "stream",
     "text": [
      "Total run time = 0.8616413354873658\n"
     ]
    }
   ],
   "source": [
    "# Run as of 06/06/2022\n",
    "# Air only\n",
    "start_time = time.time()\n",
    "lens_scan_width = 15.\n",
    "lens_dx = 15.\n",
    "lens_num_measurements = int( lens_scan_width / lens_dx)\n",
    "sipm_dx = 0.2\n",
    "base_file_name = '_air_50ns_15sweeps.csv'\n",
    "run_num = 1798\n",
    "current_rot = 0.0\n",
    "led_displacement_y = 0.\n",
    "\n",
    "exp.lens_motor.MoveMotor(lens_center_x - exp.lens_motor.GetCurrentPosition())\n",
    "exp.led_motor.MoveMotor(lens_center - exp.led_motor.GetCurrentPosition())\n",
    "exp.led_motor.MoveMotor(led_displacement_y) #Moving LED 2mm up to take substrate data \n",
    "exp.lens_motor.MoveMotor(-lens_scan_width)\n",
    "for lens_scan in range(lens_num_measurements):\n",
    "    exp.Align('sipm')\n",
    "    position_lens = exp.lens_motor.GetCurrentPosition()\n",
    "    sipm_scan_width = 10. # mm\n",
    "    sipm_num_measurements = int(sipm_scan_width / sipm_dx)\n",
    "    position_led, positions_sipm, maxes = exp.ScanMaxes(width=sipm_scan_width, num_measurements=sipm_num_measurements, print_progress=True)\n",
    "    file_name = 'run'+str(run_num)+base_file_name\n",
    "    SaveScanMaxesData(file_name, position_lens, position_led, positions_sipm, maxes, current_rot)\n",
    "    \n",
    "   \n",
    "    \n",
    "    exp.lens_motor.MoveMotor(lens_dx)\n",
    "    run_num += 1\n",
    "    #print(rot, lens_scan, current_rot)\n",
    "\n",
    "exp.lens_motor.MoveMotor(lens_center_x - exp.lens_motor.GetCurrentPosition())\n",
    "exp.led_motor.MoveMotor(-led_displacement_y)\n",
    "end_time = time.time()\n",
    "print('Total run time = '+str((end_time-start_time)/60.))"
   ]
  },
  {
   "cell_type": "code",
   "execution_count": 2687,
   "id": "important-compilation",
   "metadata": {},
   "outputs": [
    {
     "data": {
      "text/plain": [
       "'150/150'"
      ]
     },
     "metadata": {},
     "output_type": "display_data"
    },
    {
     "data": {
      "image/png": "[encoded data removed]",
      "text/plain": [
       "<Figure size 432x288 with 1 Axes>"
      ]
     },
     "metadata": {
      "needs_background": "light"
     },
     "output_type": "display_data"
    },
    {
     "name": "stdout",
     "output_type": "stream",
     "text": [
      "Total run time = 153.42918025652568\n"
     ]
    }
   ],
   "source": [
    "# Run as of 6/7/2022 angle\n",
    "start_time = time.time()\n",
    "lens_scan_width = 8.\n",
    "lens_dx = .25\n",
    "lens_num_measurements = int( lens_scan_width / lens_dx)\n",
    "sipm_dx = 0.2\n",
    "base_file_name = '_stripmetalens_20deg_50ns_15sweeps.csv'\n",
    "run_num = 1829\n",
    "current_rot = 20.\n",
    "exp.Align('rot')\n",
    "exp.Align('sipm')\n",
    "\n",
    "\n",
    "\n",
    "exp.lens_motor.MoveMotor(lens_center_x - exp.lens_motor.GetCurrentPosition())\n",
    "exp.RotateLens(current_rot)\n",
    "\n",
    "exp.lens_motor.MoveMotor(-lens_scan_width/2.)\n",
    "for lens_scan in range(lens_num_measurements):\n",
    "\n",
    "    exp.Align('sipm')\n",
    "    position_lens = exp.lens_motor.GetCurrentPosition()\n",
    "    display(position_lens - lens_center_x)\n",
    "    if abs(position_lens - lens_center_x) <= 1.0:\n",
    "        sipm_scan_width = 60. # mm\n",
    "        sipm_num_measurements = int(sipm_scan_width / sipm_dx)\n",
    "        position_led, positions_sipm, maxes = exp.ScanMaxes(width=sipm_scan_width, num_measurements=sipm_num_measurements, print_progress=True)\n",
    "        file_name = 'run'+str(run_num)+base_file_name\n",
    "        SaveScanMaxesData(file_name, position_lens, position_led, positions_sipm, maxes, current_rot)\n",
    "    \n",
    "    else:\n",
    "        sipm_scan_width = 30. # mm\n",
    "        sipm_num_measurements = int(sipm_scan_width / sipm_dx)\n",
    "        position_led1, positions_sipm1, maxes1 = exp.ScanMaxes(width=sipm_scan_width, num_measurements=sipm_num_measurements, print_progress=True)\n",
    "        display(lens_center_x - exp.lens_motor.GetCurrentPosition())\n",
    "        first_order_pos = FirstOrderDisplacement_oblique( lens_center_x-exp.lens_motor.GetCurrentPosition(),-current_rot)\n",
    "        display(first_order_pos)\n",
    "        exp.sipm_motor.MoveMotor(first_order_pos)\n",
    "        sipm_scan_width = 30. # mm\n",
    "        sipm_num_measurements = int(sipm_scan_width / sipm_dx)\n",
    "        position_led2, positions_sipm2, maxes2 = exp.ScanMaxes(width=sipm_scan_width, num_measurements=sipm_num_measurements, print_progress=True)\n",
    "        \n",
    "        position_led =  [position_led1 , position_led2]\n",
    "        positions_sipm = positions_sipm1 + positions_sipm2\n",
    "        maxes = maxes1+maxes2\n",
    "        file_name = 'run'+str(run_num)+base_file_name       \n",
    "        SaveScanMaxesData(file_name, position_lens, position_led, positions_sipm, maxes, current_rot)\n",
    "    \n",
    "    exp.lens_motor.MoveMotor(lens_dx)\n",
    "    run_num += 1\n",
    "    #print(rot, lens_scan, current_rot)\n",
    "    plt.plot(positions_sipm,maxes)\n",
    "    plt.show()\n",
    "exp.RotateLens(-current_rot)\n",
    "exp.lens_motor.MoveMotor(-lens_scan_width/2.)\n",
    "end_time = time.time()\n",
    "print('Total run time = '+str((end_time-start_time)/60.))"
   ]
  },
  {
   "cell_type": "code",
   "execution_count": 334,
   "id": "moved-extreme",
   "metadata": {},
   "outputs": [
    {
     "data": {
      "text/plain": [
       "276.0"
      ]
     },
     "execution_count": 334,
     "metadata": {},
     "output_type": "execute_result"
    }
   ],
   "source": [
    "lens_center_x"
   ]
  },
  {
   "cell_type": "code",
   "execution_count": null,
   "id": "after-amplifier",
   "metadata": {},
   "outputs": [],
   "source": [
    "a "
   ]
  },
  {
   "cell_type": "code",
   "execution_count": 340,
   "id": "minor-verse",
   "metadata": {},
   "outputs": [
    {
     "data": {
      "text/plain": [
       "array([1, 2, 3, 4, 5, 6])"
      ]
     },
     "execution_count": 340,
     "metadata": {},
     "output_type": "execute_result"
    }
   ],
   "source": [
    "a = np.array([1,2, 3])\n",
    "b = np.array([4,5,6])\n",
    "c = np.concatenate((a,b))\n",
    "c"
   ]
  },
  {
   "cell_type": "code",
   "execution_count": null,
   "id": "functioning-rebound",
   "metadata": {},
   "outputs": [],
   "source": []
  },
  {
   "cell_type": "code",
   "execution_count": null,
   "id": "contained-somewhere",
   "metadata": {},
   "outputs": [],
   "source": []
  },
  {
   "cell_type": "code",
   "execution_count": 319,
   "id": "metropolitan-electronics",
   "metadata": {},
   "outputs": [
    {
     "data": {
      "text/plain": [
       "266.19"
      ]
     },
     "execution_count": 319,
     "metadata": {},
     "output_type": "execute_result"
    }
   ],
   "source": [
    "lens_center"
   ]
  },
  {
   "cell_type": "code",
   "execution_count": 320,
   "id": "proud-roberts",
   "metadata": {},
   "outputs": [
    {
     "data": {
      "text/plain": [
       "276.0"
      ]
     },
     "execution_count": 320,
     "metadata": {},
     "output_type": "execute_result"
    }
   ],
   "source": [
    "lens_center_x"
   ]
  },
  {
   "cell_type": "code",
   "execution_count": null,
   "id": "responsible-slovenia",
   "metadata": {},
   "outputs": [],
   "source": []
  },
  {
   "cell_type": "code",
   "execution_count": 329,
   "id": "extraordinary-resistance",
   "metadata": {},
   "outputs": [],
   "source": [
    "exp.lens_motor.MoveMotor(40)"
   ]
  },
  {
   "cell_type": "code",
   "execution_count": null,
   "id": "authorized-bridal",
   "metadata": {},
   "outputs": [],
   "source": []
  },
  {
   "cell_type": "code",
   "execution_count": 74,
   "id": "rotary-house",
   "metadata": {},
   "outputs": [
    {
     "name": "stdout",
     "output_type": "stream",
     "text": [
      "Total run time = 331.5511262933413\n"
     ]
    }
   ],
   "source": [
    "# Run with just substrate\n",
    "start_time = time.time()\n",
    "num_rots = 100\n",
    "drot = 1.8\n",
    "sipm_scan_width = 15\n",
    "sipm_num_measurements = 50\n",
    "base_file_name = '_substrate_100ns_15sweeps.csv'\n",
    "run_num = 756\n",
    "\n",
    "exp.Align('rot')\n",
    "current_rot = -drot*num_rots/2\n",
    "exp.RotateLens(current_rot)\n",
    "for rot in range(num_rots):\n",
    "    \n",
    "    exp.Align('sipm')\n",
    "    exp.lens_motor.MoveMotor(center - exp.lens_motor.GetCurrentPosition())\n",
    "    position_lens = exp.lens_motor.GetCurrentPosition()\n",
    "    position_led, positions_sipm, maxes = exp.ScanMaxes(width=sipm_scan_width, num_measurements=sipm_num_measurements, print_progress=False)\n",
    "    file_name = 'run'+str(run_num)+base_file_name\n",
    "    SaveScanMaxesData(file_name, position_lens, position_led, positions_sipm, maxes, current_rot)\n",
    "    run_num += 1 \n",
    "\n",
    "    exp.Align('sipm')\n",
    "    exp.lens_motor.MoveMotor(center - 2 - exp.lens_motor.GetCurrentPosition())\n",
    "    position_lens = exp.lens_motor.GetCurrentPosition()\n",
    "    position_led, positions_sipm, maxes = exp.ScanMaxes(width=sipm_scan_width, num_measurements=sipm_num_measurements, print_progress=False)\n",
    "    file_name = 'run'+str(run_num)+base_file_name\n",
    "    SaveScanMaxesData(file_name, position_lens, position_led, positions_sipm, maxes, current_rot)\n",
    "    run_num += 1\n",
    "\n",
    "    exp.Align('sipm')\n",
    "    exp.lens_motor.MoveMotor(center + 2 - exp.lens_motor.GetCurrentPosition())\n",
    "    position_lens = exp.lens_motor.GetCurrentPosition()\n",
    "    position_led, positions_sipm, maxes = exp.ScanMaxes(width=sipm_scan_width, num_measurements=sipm_num_measurements, print_progress=False)\n",
    "    file_name = 'run'+str(run_num)+base_file_name\n",
    "    SaveScanMaxesData(file_name, position_lens, position_led, positions_sipm, maxes, current_rot)\n",
    "    run_num += 1\n",
    "    \n",
    "    exp.RotateLens(drot)  \n",
    "    current_rot += drot\n",
    "\n",
    "exp.Align('rot')\n",
    "end_time = time.time()\n",
    "print('Total run time = '+str((end_time-start_time)/60.))"
   ]
  },
  {
   "cell_type": "code",
   "execution_count": 20,
   "id": "colonial-arthritis",
   "metadata": {},
   "outputs": [
    {
     "data": {
      "text/plain": [
       "'50/50'"
      ]
     },
     "metadata": {},
     "output_type": "display_data"
    },
    {
     "data": {
      "text/plain": [
       "[<matplotlib.lines.Line2D at 0x14db448>]"
      ]
     },
     "execution_count": 20,
     "metadata": {},
     "output_type": "execute_result"
    },
    {
     "data": {
      "image/png": "[encoded data removed]",
      "text/plain": [
       "<Figure size 432x288 with 1 Axes>"
      ]
     },
     "metadata": {
      "needs_background": "light"
     },
     "output_type": "display_data"
    }
   ],
   "source": [
    "# Testing the new laser (5/13)\n",
    "position_led, positions_sipm, maxes = exp.ScanMaxes(width=15., num_measurements=50)\n",
    "plt.plot(positions_sipm, maxes)"
   ]
  },
  {
   "cell_type": "code",
   "execution_count": 21,
   "id": "olive-separate",
   "metadata": {},
   "outputs": [],
   "source": [
    "exp.lens_motor.MoveMotor(40)"
   ]
  },
  {
   "cell_type": "code",
   "execution_count": 24,
   "id": "disabled-cartridge",
   "metadata": {},
   "outputs": [],
   "source": [
    "exp.sipm_motor.MoveMotor(2)"
   ]
  },
  {
   "cell_type": "code",
   "execution_count": null,
   "id": "arbitrary-poverty",
   "metadata": {},
   "outputs": [],
   "source": []
  },
  {
   "cell_type": "code",
   "execution_count": null,
   "id": "developed-exhaust",
   "metadata": {},
   "outputs": [],
   "source": []
  },
  {
   "cell_type": "code",
   "execution_count": 14,
   "id": "directed-rocket",
   "metadata": {},
   "outputs": [
    {
     "name": "stdout",
     "output_type": "stream",
     "text": [
      "483.915\n",
      "493.91\n",
      "483.91\n"
     ]
    }
   ],
   "source": [
    "print(exp.lens_motor.GetCurrentPosition())\n",
    "exp.lens_motor.MoveMotor(10)\n",
    "print(exp.lens_motor.GetCurrentPosition())\n",
    "exp.lens_motor.MoveMotor(-10)\n",
    "print(exp.lens_motor.GetCurrentPosition())"
   ]
  },
  {
   "cell_type": "code",
   "execution_count": 34,
   "id": "continuous-sampling",
   "metadata": {},
   "outputs": [
    {
     "name": "stdout",
     "output_type": "stream",
     "text": [
      "90784\n",
      "90794\n",
      "90784\n"
     ]
    }
   ],
   "source": [
    "print(exp.lens_motor.GetCurrentNumSteps())\n",
    "exp.lens_motor.MoveSteps(10)\n",
    "print(exp.lens_motor.GetCurrentNumSteps())\n",
    "exp.lens_motor.MoveSteps(-10)\n",
    "print(exp.lens_motor.GetCurrentNumSteps())"
   ]
  },
  {
   "cell_type": "code",
   "execution_count": 40,
   "id": "inappropriate-davis",
   "metadata": {},
   "outputs": [
    {
     "name": "stdout",
     "output_type": "stream",
     "text": [
      "473.915\n",
      "483.915\n",
      "473.915\n"
     ]
    }
   ],
   "source": [
    "print(exp.lens_motor.GetCurrentPosition())\n",
    "exp.lens_motor.MoveSteps(2000)\n",
    "print(exp.lens_motor.GetCurrentPosition())\n",
    "exp.lens_motor.MoveSteps(-2000)\n",
    "print(exp.lens_motor.GetCurrentPosition())"
   ]
  },
  {
   "cell_type": "code",
   "execution_count": 41,
   "id": "continuing-harrison",
   "metadata": {},
   "outputs": [
    {
     "name": "stdout",
     "output_type": "stream",
     "text": [
      "94783\n",
      "96782\n",
      "94782\n"
     ]
    }
   ],
   "source": [
    "print(exp.lens_motor.GetCurrentNumSteps())\n",
    "exp.lens_motor.MoveMotor(10)\n",
    "print(exp.lens_motor.GetCurrentNumSteps())\n",
    "exp.lens_motor.MoveMotor(-10)\n",
    "print(exp.lens_motor.GetCurrentNumSteps())"
   ]
  },
  {
   "cell_type": "code",
   "execution_count": 15,
   "id": "australian-pickup",
   "metadata": {},
   "outputs": [
    {
     "name": "stdout",
     "output_type": "stream",
     "text": [
      "157.225\n",
      "167.22\n",
      "157.22\n"
     ]
    }
   ],
   "source": [
    "print(exp.sipm_motor.GetCurrentPosition())\n",
    "exp.sipm_motor.MoveMotor(10)\n",
    "print(exp.sipm_motor.GetCurrentPosition())\n",
    "exp.sipm_motor.MoveMotor(-10)\n",
    "print(exp.sipm_motor.GetCurrentPosition())"
   ]
  },
  {
   "cell_type": "code",
   "execution_count": 24,
   "id": "mexican-programmer",
   "metadata": {},
   "outputs": [],
   "source": [
    "dx_per_step = 0.005\n",
    "distance = 10.0\n",
    "sign = distance / abs(distance)\n",
    "num_steps = int(abs(distance) // dx_per_step)"
   ]
  },
  {
   "cell_type": "code",
   "execution_count": 38,
   "id": "thirty-portsmouth",
   "metadata": {},
   "outputs": [
    {
     "data": {
      "text/plain": [
       "2000.0"
      ]
     },
     "execution_count": 38,
     "metadata": {},
     "output_type": "execute_result"
    }
   ],
   "source": [
    "10/.005"
   ]
  },
  {
   "cell_type": "code",
   "execution_count": 32,
   "id": "accompanied-department",
   "metadata": {},
   "outputs": [],
   "source": [
    "dx_lens = 10.0 / 10.\n",
    "num_steps = int(abs(dx_lens) // dx_per_step)"
   ]
  },
  {
   "cell_type": "code",
   "execution_count": 33,
   "id": "hidden-logic",
   "metadata": {},
   "outputs": [
    {
     "data": {
      "text/plain": [
       "199"
      ]
     },
     "execution_count": 33,
     "metadata": {},
     "output_type": "execute_result"
    }
   ],
   "source": [
    "exp."
   ]
  },
  {
   "cell_type": "code",
   "execution_count": 22,
   "id": "backed-pipeline",
   "metadata": {},
   "outputs": [
    {
     "name": "stdout",
     "output_type": "stream",
     "text": [
      "LED motor is off. Switch motors to align\n"
     ]
    }
   ],
   "source": [
    "exp.Align()"
   ]
  },
  {
   "cell_type": "code",
   "execution_count": 145,
   "id": "linear-avenue",
   "metadata": {},
   "outputs": [],
   "source": [
    "exp.sipm_motor.MoveMotor(80)\n",
    "exp.lens_motor.MoveMotor(-60)\n",
    "exp.led_motor.MoveMotor(10)\n",
    "exp.led_motor.MoveMotor(-10)"
   ]
  },
  {
   "cell_type": "code",
   "execution_count": 146,
   "id": "transsexual-canal",
   "metadata": {},
   "outputs": [],
   "source": [
    "exp.led_motor.MoveMotor(-10)\n",
    "exp.led_motor.MoveMotor(10)"
   ]
  },
  {
   "cell_type": "code",
   "execution_count": 144,
   "id": "lightweight-weekly",
   "metadata": {},
   "outputs": [],
   "source": [
    "exp.lens_motor.MoveMotor(60)"
   ]
  },
  {
   "cell_type": "code",
   "execution_count": 150,
   "id": "satellite-socket",
   "metadata": {},
   "outputs": [
    {
     "name": "stdout",
     "output_type": "stream",
     "text": [
      "Manually connect rot motor and disconnect led motor\n"
     ]
    }
   ],
   "source": [
    "exp.SwitchMotor('rot')"
   ]
  },
  {
   "cell_type": "code",
   "execution_count": null,
   "id": "registered-watson",
   "metadata": {},
   "outputs": [],
   "source": []
  },
  {
   "cell_type": "code",
   "execution_count": null,
   "id": "informational-conditioning",
   "metadata": {},
   "outputs": [],
   "source": []
  },
  {
   "cell_type": "code",
   "execution_count": null,
   "id": "similar-domain",
   "metadata": {},
   "outputs": [],
   "source": []
  },
  {
   "cell_type": "code",
   "execution_count": 324,
   "id": "engaging-oriental",
   "metadata": {},
   "outputs": [],
   "source": [
    "exp.Align('lens')"
   ]
  },
  {
   "cell_type": "code",
   "execution_count": 141,
   "id": "needed-reconstruction",
   "metadata": {},
   "outputs": [
    {
     "name": "stdout",
     "output_type": "stream",
     "text": [
      "LED motor is off. Switch motors to align\n"
     ]
    }
   ],
   "source": [
    "exp.Rot"
   ]
  },
  {
   "cell_type": "code",
   "execution_count": 142,
   "id": "isolated-legend",
   "metadata": {},
   "outputs": [],
   "source": [
    "exp.RotateLens(-20)"
   ]
  },
  {
   "cell_type": "code",
   "execution_count": null,
   "id": "danish-ending",
   "metadata": {},
   "outputs": [],
   "source": []
  },
  {
   "cell_type": "code",
   "execution_count": 56,
   "id": "dutch-confusion",
   "metadata": {},
   "outputs": [
    {
     "data": {
      "text/plain": [
       "'180/180'"
      ]
     },
     "metadata": {},
     "output_type": "display_data"
    },
    {
     "data": {
      "text/plain": [
       "[<matplotlib.lines.Line2D at 0x1677c58>]"
      ]
     },
     "execution_count": 56,
     "metadata": {},
     "output_type": "execute_result"
    },
    {
     "data": {
      "image/png": "[encoded data removed]",
      "text/plain": [
       "<Figure size 432x288 with 1 Axes>"
      ]
     },
     "metadata": {
      "needs_background": "light"
     },
     "output_type": "display_data"
    }
   ],
   "source": [
    "# Measure voltage at each distance\n",
    "width = 60\n",
    "num_measurements = 180\n",
    "num_sweeps = 10\n",
    "distance_to_move = width/num_measurements\n",
    "maxes = []\n",
    "positions_sipm = []\n",
    "position_led = led_motor.GetCurrentPosition()\n",
    "sipm_motor.MoveMotor(-width/2.)\n",
    "for i in range(num_measurements):\n",
    "    clear_output(wait=True)\n",
    "    display(str(i+1)+\"/\"+str(num_measurements))\n",
    "    sipm_motor.MoveMotor(distance_to_move)\n",
    "    maxes.append(osc.MeasurePeaktoPeak(scope, num_sweeps))\n",
    "    positions_sipm.append(sipm_motor.GetCurrentPosition())\n",
    "sipm_motor.MoveMotor(-width/2.)\n",
    "plt.plot(positions_sipm, maxes)"
   ]
  },
  {
   "cell_type": "markdown",
   "id": "secondary-dragon",
   "metadata": {},
   "source": [
    "# Linearity Run\n",
    "This run takes data to find the linearity of the SiPM at a given LED width for different LED voltages. "
   ]
  },
  {
   "cell_type": "code",
   "execution_count": 143,
   "id": "comprehensive-witch",
   "metadata": {},
   "outputs": [],
   "source": [
    "exp.lens_motor.MoveMotor(-40)"
   ]
  },
  {
   "cell_type": "code",
   "execution_count": 162,
   "id": "acknowledged-meter",
   "metadata": {},
   "outputs": [
    {
     "data": {
      "text/plain": [
       "'Turn Knob to 6.0V'"
      ]
     },
     "metadata": {},
     "output_type": "display_data"
    }
   ],
   "source": [
    "values = []\n",
    "num_voltages = 59\n",
    "step_size = 0.1\n",
    "start_voltage = 0.1\n",
    "end_voltage = 6.0  \n",
    "voltage_range = np.arange(start_voltage, end_voltage,step_size)\n",
    "for i in range(num_voltages):\n",
    "    scope.timeout = 5000\n",
    "    scope.clear()\n",
    "    r = scope.query(r\"\"\"vbs? 'return=app.WaitUntilIdle(5)' \"\"\")\n",
    "    values.append(osc.MeasurePeaktoPeak(scope, 50)) #- dark_count\n",
    "    \n",
    "    clear_output(wait=True)\n",
    "    display('Turn Knob to '+str(start_voltage+(1+i)*step_size)+ 'V')\n",
    "    time.sleep(2)"
   ]
  },
  {
   "cell_type": "code",
   "execution_count": 163,
   "id": "computational-slide",
   "metadata": {},
   "outputs": [
    {
     "data": {
      "text/plain": [
       "[<matplotlib.lines.Line2D at 0x18f5eb20>]"
      ]
     },
     "execution_count": 163,
     "metadata": {},
     "output_type": "execute_result"
    },
    {
     "data": {
      "image/png": "[encoded data removed]",
      "text/plain": [
       "<Figure size 432x288 with 1 Axes>"
      ]
     },
     "metadata": {
      "needs_background": "light"
     },
     "output_type": "display_data"
    }
   ],
   "source": [
    "plt.plot(voltage_range, values,  '.') # sipm slit closed most of the way"
   ]
  },
  {
   "cell_type": "code",
   "execution_count": 160,
   "id": "laughing-aruba",
   "metadata": {},
   "outputs": [
    {
     "data": {
      "text/plain": [
       "[<matplotlib.lines.Line2D at 0x18f24d78>]"
      ]
     },
     "execution_count": 160,
     "metadata": {},
     "output_type": "execute_result"
    },
    {
     "data": {
      "image/png": "[encoded data removed]",
      "text/plain": [
       "<Figure size 432x288 with 1 Axes>"
      ]
     },
     "metadata": {
      "needs_background": "light"
     },
     "output_type": "display_data"
    }
   ],
   "source": [
    "plt.plot(voltage_range, values,  '.') # sipm slit all the way open, lens out of the way (saved)"
   ]
  },
  {
   "cell_type": "code",
   "execution_count": 147,
   "id": "exotic-wildlife",
   "metadata": {},
   "outputs": [
    {
     "data": {
      "text/plain": [
       "[<matplotlib.lines.Line2D at 0xbe11c0>]"
      ]
     },
     "execution_count": 147,
     "metadata": {},
     "output_type": "execute_result"
    },
    {
     "data": {
      "image/png": "[encoded data removed]",
      "text/plain": [
       "<Figure size 432x288 with 1 Axes>"
      ]
     },
     "metadata": {
      "needs_background": "light"
     },
     "output_type": "display_data"
    }
   ],
   "source": [
    "plt.plot(voltage_range, values[0:59],  '.') # lens out of the way"
   ]
  },
  {
   "cell_type": "code",
   "execution_count": 140,
   "id": "brief-hardware",
   "metadata": {},
   "outputs": [
    {
     "data": {
      "text/plain": [
       "[<matplotlib.lines.Line2D at 0xd293a0>]"
      ]
     },
     "execution_count": 140,
     "metadata": {},
     "output_type": "execute_result"
    },
    {
     "data": {
      "image/png": "[encoded data removed]",
      "text/plain": [
       "<Figure size 432x288 with 1 Axes>"
      ]
     },
     "metadata": {
      "needs_background": "light"
     },
     "output_type": "display_data"
    }
   ],
   "source": [
    "plt.plot(voltage_range, values,  '.') # lens in the way and tilted (saved)"
   ]
  },
  {
   "cell_type": "code",
   "execution_count": 161,
   "id": "mexican-applicant",
   "metadata": {},
   "outputs": [],
   "source": [
    "file_name = 'linearity_100ns_0.1_6V.csv'\n",
    "with open(file_name, mode='w') as file:\n",
    "    writer = csv.writer(file)\n",
    "    \n",
    "    writer.writerow(values)"
   ]
  },
  {
   "cell_type": "markdown",
   "id": "senior-retrieval",
   "metadata": {},
   "source": [
    "### Saving Data"
   ]
  },
  {
   "cell_type": "code",
   "execution_count": 20,
   "id": "capable-strengthening",
   "metadata": {},
   "outputs": [],
   "source": [
    "file_name = 'run03_metalens_100ns_10sweeps.csv'\n",
    "def SaveScanMaxesData(file_name, position_lens, position_led, positions_sipm, maxes, rot_angle):\n",
    "    with open('data/'+file_name, mode='w') as file:\n",
    "                writer = csv.writer(file)\n",
    "                \n",
    "                writer.writerow(['position_lens'])\n",
    "                writer.writerow([position_lens]) \n",
    "                writer.writerow(['position_led'])\n",
    "                writer.writerow([position_led])\n",
    "                writer.writerow(['positions_sipm'])\n",
    "                writer.writerow(positions_sipm)\n",
    "                writer.writerow(['maxes'])\n",
    "                writer.writerow(maxes)\n",
    "                writer.writerow(['rotation'])\n",
    "                writer.writerow([rot_angle])"
   ]
  },
  {
   "cell_type": "markdown",
   "id": "physical-hindu",
   "metadata": {},
   "source": [
    "# Close after done running"
   ]
  },
  {
   "cell_type": "code",
   "execution_count": null,
   "id": "educational-attack",
   "metadata": {},
   "outputs": [],
   "source": [
    "# Make sure to close the connection (in teh reverse order of setting it up)\n",
    "scope.close()\n",
    "rm.close()"
   ]
  }
 ],
 "metadata": {
  "kernelspec": {
   "display_name": "Python 3",
   "language": "python",
   "name": "python3"
  },
  "language_info": {
   "codemirror_mode": {
    "name": "ipython",
    "version": 3
   },
   "file_extension": ".py",
   "mimetype": "text/x-python",
   "name": "python",
   "nbconvert_exporter": "python",
   "pygments_lexer": "ipython3",
   "version": "3.8.0"
  }
 },
 "nbformat": 4,
 "nbformat_minor": 5
}
